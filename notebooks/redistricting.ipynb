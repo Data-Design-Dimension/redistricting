{
 "cells": [
  {
   "cell_type": "code",
   "execution_count": 1,
   "metadata": {},
   "outputs": [],
   "source": [
    "import plotly.express as px\n",
    "import pandas as pd"
   ]
  },
  {
   "cell_type": "code",
   "execution_count": 33,
   "metadata": {},
   "outputs": [
    {
     "data": {
      "text/html": [
       "<div>\n",
       "<style scoped>\n",
       "    .dataframe tbody tr th:only-of-type {\n",
       "        vertical-align: middle;\n",
       "    }\n",
       "\n",
       "    .dataframe tbody tr th {\n",
       "        vertical-align: top;\n",
       "    }\n",
       "\n",
       "    .dataframe thead th {\n",
       "        text-align: right;\n",
       "    }\n",
       "</style>\n",
       "<table border=\"1\" class=\"dataframe\">\n",
       "  <thead>\n",
       "    <tr style=\"text-align: right;\">\n",
       "      <th></th>\n",
       "      <th>State</th>\n",
       "      <th>Year</th>\n",
       "      <th>Apportionment population</th>\n",
       "      <th>Number of representatives</th>\n",
       "      <th>Seat change</th>\n",
       "      <th>Average persons per representative</th>\n",
       "    </tr>\n",
       "  </thead>\n",
       "  <tbody>\n",
       "    <tr>\n",
       "      <th>561</th>\n",
       "      <td>Alabama</td>\n",
       "      <td>1910</td>\n",
       "      <td>2138093.0</td>\n",
       "      <td>10.0</td>\n",
       "      <td>1.0</td>\n",
       "      <td>213809.0</td>\n",
       "    </tr>\n",
       "    <tr>\n",
       "      <th>562</th>\n",
       "      <td>Alaska</td>\n",
       "      <td>1910</td>\n",
       "      <td>NaN</td>\n",
       "      <td>NaN</td>\n",
       "      <td>NaN</td>\n",
       "      <td>NaN</td>\n",
       "    </tr>\n",
       "    <tr>\n",
       "      <th>611</th>\n",
       "      <td>All States</td>\n",
       "      <td>1910</td>\n",
       "      <td>91072117.0</td>\n",
       "      <td>433.0</td>\n",
       "      <td>47.0</td>\n",
       "      <td>210328.0</td>\n",
       "    </tr>\n",
       "    <tr>\n",
       "      <th>563</th>\n",
       "      <td>Arizona</td>\n",
       "      <td>1910</td>\n",
       "      <td>NaN</td>\n",
       "      <td>NaN</td>\n",
       "      <td>NaN</td>\n",
       "      <td>NaN</td>\n",
       "    </tr>\n",
       "    <tr>\n",
       "      <th>564</th>\n",
       "      <td>Arkansas</td>\n",
       "      <td>1910</td>\n",
       "      <td>1574449.0</td>\n",
       "      <td>7.0</td>\n",
       "      <td>0.0</td>\n",
       "      <td>224921.0</td>\n",
       "    </tr>\n",
       "    <tr>\n",
       "      <th>...</th>\n",
       "      <td>...</td>\n",
       "      <td>...</td>\n",
       "      <td>...</td>\n",
       "      <td>...</td>\n",
       "      <td>...</td>\n",
       "      <td>...</td>\n",
       "    </tr>\n",
       "    <tr>\n",
       "      <th>45</th>\n",
       "      <td>Virginia</td>\n",
       "      <td>2020</td>\n",
       "      <td>8654542.0</td>\n",
       "      <td>11.0</td>\n",
       "      <td>0.0</td>\n",
       "      <td>786777.0</td>\n",
       "    </tr>\n",
       "    <tr>\n",
       "      <th>46</th>\n",
       "      <td>Washington</td>\n",
       "      <td>2020</td>\n",
       "      <td>7715946.0</td>\n",
       "      <td>10.0</td>\n",
       "      <td>0.0</td>\n",
       "      <td>771595.0</td>\n",
       "    </tr>\n",
       "    <tr>\n",
       "      <th>47</th>\n",
       "      <td>West Virginia</td>\n",
       "      <td>2020</td>\n",
       "      <td>1795045.0</td>\n",
       "      <td>2.0</td>\n",
       "      <td>-1.0</td>\n",
       "      <td>897523.0</td>\n",
       "    </tr>\n",
       "    <tr>\n",
       "      <th>48</th>\n",
       "      <td>Wisconsin</td>\n",
       "      <td>2020</td>\n",
       "      <td>5897473.0</td>\n",
       "      <td>8.0</td>\n",
       "      <td>0.0</td>\n",
       "      <td>737184.0</td>\n",
       "    </tr>\n",
       "    <tr>\n",
       "      <th>49</th>\n",
       "      <td>Wyoming</td>\n",
       "      <td>2020</td>\n",
       "      <td>577719.0</td>\n",
       "      <td>1.0</td>\n",
       "      <td>0.0</td>\n",
       "      <td>577719.0</td>\n",
       "    </tr>\n",
       "  </tbody>\n",
       "</table>\n",
       "<p>612 rows × 6 columns</p>\n",
       "</div>"
      ],
      "text/plain": [
       "             State  Year  Apportionment population  Number of representatives  \\\n",
       "561        Alabama  1910                 2138093.0                       10.0   \n",
       "562         Alaska  1910                       NaN                        NaN   \n",
       "611     All States  1910                91072117.0                      433.0   \n",
       "563        Arizona  1910                       NaN                        NaN   \n",
       "564       Arkansas  1910                 1574449.0                        7.0   \n",
       "..             ...   ...                       ...                        ...   \n",
       "45        Virginia  2020                 8654542.0                       11.0   \n",
       "46      Washington  2020                 7715946.0                       10.0   \n",
       "47   West Virginia  2020                 1795045.0                        2.0   \n",
       "48       Wisconsin  2020                 5897473.0                        8.0   \n",
       "49         Wyoming  2020                  577719.0                        1.0   \n",
       "\n",
       "     Seat change  Average persons per representative  \n",
       "561          1.0                            213809.0  \n",
       "562          NaN                                 NaN  \n",
       "611         47.0                            210328.0  \n",
       "563          NaN                                 NaN  \n",
       "564          0.0                            224921.0  \n",
       "..           ...                                 ...  \n",
       "45           0.0                            786777.0  \n",
       "46           0.0                            771595.0  \n",
       "47          -1.0                            897523.0  \n",
       "48           0.0                            737184.0  \n",
       "49           0.0                            577719.0  \n",
       "\n",
       "[612 rows x 6 columns]"
      ]
     },
     "execution_count": 33,
     "metadata": {},
     "output_type": "execute_result"
    }
   ],
   "source": [
    "#Load the Excel file saved locally and read the tab I normalized into a dataframe\n",
    "#Original Excel file source under subheading \"Table C2. Apportionment Population and Number of Seats in U.S. House of Representatives by State: 1910 to 2020\"\n",
    "#can be found at: https://www.census.gov/data/tables/2020/dec/2020-apportionment-data.html\n",
    "df = pd.read_excel(\"../data/apportionment-2020-tableC2.xlsx\", sheet_name=\"Table_C2_df\")\n",
    "#Sort the dataframe by year ascending, then State will be alpha as is; ascending=True is defaulted.\n",
    "df = df.sort_values(by=['Year','State'])\n",
    "df"
   ]
  },
  {
   "cell_type": "code",
   "execution_count": 3,
   "metadata": {},
   "outputs": [
    {
     "data": {
      "text/plain": [
       "Index(['State', 'Year', 'Apportionment population',\n",
       "       'Number of representatives', 'Seat change',\n",
       "       'Average persons per representative'],\n",
       "      dtype='object')"
      ]
     },
     "execution_count": 3,
     "metadata": {},
     "output_type": "execute_result"
    }
   ],
   "source": [
    "#See column names\n",
    "df.columns"
   ]
  },
  {
   "cell_type": "code",
   "execution_count": 34,
   "metadata": {},
   "outputs": [
    {
     "data": {
      "text/html": [
       "<div>\n",
       "<style scoped>\n",
       "    .dataframe tbody tr th:only-of-type {\n",
       "        vertical-align: middle;\n",
       "    }\n",
       "\n",
       "    .dataframe tbody tr th {\n",
       "        vertical-align: top;\n",
       "    }\n",
       "\n",
       "    .dataframe thead th {\n",
       "        text-align: right;\n",
       "    }\n",
       "</style>\n",
       "<table border=\"1\" class=\"dataframe\">\n",
       "  <thead>\n",
       "    <tr style=\"text-align: right;\">\n",
       "      <th></th>\n",
       "      <th>State</th>\n",
       "      <th>Year</th>\n",
       "      <th>Apportionment population</th>\n",
       "      <th>Number of representatives</th>\n",
       "      <th>Seat change</th>\n",
       "      <th>Average persons per representative</th>\n",
       "      <th>State_code</th>\n",
       "    </tr>\n",
       "  </thead>\n",
       "  <tbody>\n",
       "    <tr>\n",
       "      <th>561</th>\n",
       "      <td>Alabama</td>\n",
       "      <td>1910</td>\n",
       "      <td>2138093.0</td>\n",
       "      <td>10.0</td>\n",
       "      <td>1.0</td>\n",
       "      <td>213809.0</td>\n",
       "      <td>AL</td>\n",
       "    </tr>\n",
       "    <tr>\n",
       "      <th>562</th>\n",
       "      <td>Alaska</td>\n",
       "      <td>1910</td>\n",
       "      <td>NaN</td>\n",
       "      <td>NaN</td>\n",
       "      <td>NaN</td>\n",
       "      <td>NaN</td>\n",
       "      <td>AK</td>\n",
       "    </tr>\n",
       "    <tr>\n",
       "      <th>611</th>\n",
       "      <td>All States</td>\n",
       "      <td>1910</td>\n",
       "      <td>91072117.0</td>\n",
       "      <td>433.0</td>\n",
       "      <td>47.0</td>\n",
       "      <td>210328.0</td>\n",
       "      <td>NaN</td>\n",
       "    </tr>\n",
       "    <tr>\n",
       "      <th>563</th>\n",
       "      <td>Arizona</td>\n",
       "      <td>1910</td>\n",
       "      <td>NaN</td>\n",
       "      <td>NaN</td>\n",
       "      <td>NaN</td>\n",
       "      <td>NaN</td>\n",
       "      <td>AZ</td>\n",
       "    </tr>\n",
       "    <tr>\n",
       "      <th>564</th>\n",
       "      <td>Arkansas</td>\n",
       "      <td>1910</td>\n",
       "      <td>1574449.0</td>\n",
       "      <td>7.0</td>\n",
       "      <td>0.0</td>\n",
       "      <td>224921.0</td>\n",
       "      <td>AR</td>\n",
       "    </tr>\n",
       "    <tr>\n",
       "      <th>...</th>\n",
       "      <td>...</td>\n",
       "      <td>...</td>\n",
       "      <td>...</td>\n",
       "      <td>...</td>\n",
       "      <td>...</td>\n",
       "      <td>...</td>\n",
       "      <td>...</td>\n",
       "    </tr>\n",
       "    <tr>\n",
       "      <th>45</th>\n",
       "      <td>Virginia</td>\n",
       "      <td>2020</td>\n",
       "      <td>8654542.0</td>\n",
       "      <td>11.0</td>\n",
       "      <td>0.0</td>\n",
       "      <td>786777.0</td>\n",
       "      <td>VA</td>\n",
       "    </tr>\n",
       "    <tr>\n",
       "      <th>46</th>\n",
       "      <td>Washington</td>\n",
       "      <td>2020</td>\n",
       "      <td>7715946.0</td>\n",
       "      <td>10.0</td>\n",
       "      <td>0.0</td>\n",
       "      <td>771595.0</td>\n",
       "      <td>WA</td>\n",
       "    </tr>\n",
       "    <tr>\n",
       "      <th>47</th>\n",
       "      <td>West Virginia</td>\n",
       "      <td>2020</td>\n",
       "      <td>1795045.0</td>\n",
       "      <td>2.0</td>\n",
       "      <td>-1.0</td>\n",
       "      <td>897523.0</td>\n",
       "      <td>WV</td>\n",
       "    </tr>\n",
       "    <tr>\n",
       "      <th>48</th>\n",
       "      <td>Wisconsin</td>\n",
       "      <td>2020</td>\n",
       "      <td>5897473.0</td>\n",
       "      <td>8.0</td>\n",
       "      <td>0.0</td>\n",
       "      <td>737184.0</td>\n",
       "      <td>WI</td>\n",
       "    </tr>\n",
       "    <tr>\n",
       "      <th>49</th>\n",
       "      <td>Wyoming</td>\n",
       "      <td>2020</td>\n",
       "      <td>577719.0</td>\n",
       "      <td>1.0</td>\n",
       "      <td>0.0</td>\n",
       "      <td>577719.0</td>\n",
       "      <td>WY</td>\n",
       "    </tr>\n",
       "  </tbody>\n",
       "</table>\n",
       "<p>612 rows × 7 columns</p>\n",
       "</div>"
      ],
      "text/plain": [
       "             State  Year  Apportionment population  Number of representatives  \\\n",
       "561        Alabama  1910                 2138093.0                       10.0   \n",
       "562         Alaska  1910                       NaN                        NaN   \n",
       "611     All States  1910                91072117.0                      433.0   \n",
       "563        Arizona  1910                       NaN                        NaN   \n",
       "564       Arkansas  1910                 1574449.0                        7.0   \n",
       "..             ...   ...                       ...                        ...   \n",
       "45        Virginia  2020                 8654542.0                       11.0   \n",
       "46      Washington  2020                 7715946.0                       10.0   \n",
       "47   West Virginia  2020                 1795045.0                        2.0   \n",
       "48       Wisconsin  2020                 5897473.0                        8.0   \n",
       "49         Wyoming  2020                  577719.0                        1.0   \n",
       "\n",
       "     Seat change  Average persons per representative State_code  \n",
       "561          1.0                            213809.0         AL  \n",
       "562          NaN                                 NaN         AK  \n",
       "611         47.0                            210328.0        NaN  \n",
       "563          NaN                                 NaN         AZ  \n",
       "564          0.0                            224921.0         AR  \n",
       "..           ...                                 ...        ...  \n",
       "45           0.0                            786777.0         VA  \n",
       "46           0.0                            771595.0         WA  \n",
       "47          -1.0                            897523.0         WV  \n",
       "48           0.0                            737184.0         WI  \n",
       "49           0.0                            577719.0         WY  \n",
       "\n",
       "[612 rows x 7 columns]"
      ]
     },
     "execution_count": 34,
     "metadata": {},
     "output_type": "execute_result"
    }
   ],
   "source": [
    "#To use Plotly Express built in US States geography, the two letter abbreviated state code is required.\n",
    "\n",
    "#introducing us_state_abbrev as dictionary\n",
    "#Using dictionary to translate State names to codes from https://gist.github.com/rogerallen/1583593\n",
    "us_state_abbrev = {\n",
    "    'Alabama': 'AL',\n",
    "    'Alaska': 'AK',\n",
    "    'American Samoa': 'AS',\n",
    "    'Arizona': 'AZ',\n",
    "    'Arkansas': 'AR',\n",
    "    'California': 'CA',\n",
    "    'Colorado': 'CO',\n",
    "    'Connecticut': 'CT',\n",
    "    'Delaware': 'DE',\n",
    "    'District of Columbia': 'DC',\n",
    "    'Florida': 'FL',\n",
    "    'Georgia': 'GA',\n",
    "    'Guam': 'GU',\n",
    "    'Hawaii': 'HI',\n",
    "    'Idaho': 'ID',\n",
    "    'Illinois': 'IL',\n",
    "    'Indiana': 'IN',\n",
    "    'Iowa': 'IA',\n",
    "    'Kansas': 'KS',\n",
    "    'Kentucky': 'KY',\n",
    "    'Louisiana': 'LA',\n",
    "    'Maine': 'ME',\n",
    "    'Maryland': 'MD',\n",
    "    'Massachusetts': 'MA',\n",
    "    'Michigan': 'MI',\n",
    "    'Minnesota': 'MN',\n",
    "    'Mississippi': 'MS',\n",
    "    'Missouri': 'MO',\n",
    "    'Montana': 'MT',\n",
    "    'Nebraska': 'NE',\n",
    "    'Nevada': 'NV',\n",
    "    'New Hampshire': 'NH',\n",
    "    'New Jersey': 'NJ',\n",
    "    'New Mexico': 'NM',\n",
    "    'New York': 'NY',\n",
    "    'North Carolina': 'NC',\n",
    "    'North Dakota': 'ND',\n",
    "    'Northern Mariana Islands':'MP',\n",
    "    'Ohio': 'OH',\n",
    "    'Oklahoma': 'OK',\n",
    "    'Oregon': 'OR',\n",
    "    'Pennsylvania': 'PA',\n",
    "    'Puerto Rico': 'PR',\n",
    "    'Rhode Island': 'RI',\n",
    "    'South Carolina': 'SC',\n",
    "    'South Dakota': 'SD',\n",
    "    'Tennessee': 'TN',\n",
    "    'Texas': 'TX',\n",
    "    'Utah': 'UT',\n",
    "    'Vermont': 'VT',\n",
    "    'Virgin Islands': 'VI',\n",
    "    'Virginia': 'VA',\n",
    "    'Washington': 'WA',\n",
    "    'West Virginia': 'WV',\n",
    "    'Wisconsin': 'WI',\n",
    "    'Wyoming': 'WY'\n",
    "}\n",
    "\n",
    "#reversing it for reference only\n",
    "# thank you to @kinghelix and @trevormarburger for this idea\n",
    "#abbrev_us_state = dict(map(reversed, us_state_abbrev.items()))\n",
    "#abbrev_us_state\n",
    "\n",
    "#Mapping the dictionary keys to the data frame\n",
    "df['State_code'] = df['State'].map(us_state_abbrev)\n",
    "df"
   ]
  },
  {
   "cell_type": "code",
   "execution_count": 36,
   "metadata": {},
   "outputs": [
    {
     "name": "stdout",
     "output_type": "stream",
     "text": [
      "561    False\n",
      "562    False\n",
      "611     True\n",
      "563    False\n",
      "564    False\n",
      "Name: State, dtype: bool\n"
     ]
    },
    {
     "data": {
      "text/plain": [
       "(600, 7)"
      ]
     },
     "execution_count": 36,
     "metadata": {},
     "output_type": "execute_result"
    }
   ],
   "source": [
    "#Remove 'All State' totals by year rows from dataframe in order to have range only apply to actual state values.\n",
    "#Make a boolean variable for State rows with 'All States' to isolate what we don't want to map.\n",
    "is_All_States = df['State']=='All States'\n",
    "print(is_All_States.head()) #Expecting the row to be True where 'All States' falls alpha i.e. after Alabama Arkansas according how we sorted the df.\n",
    "\n",
    "#Filter rows for State 'All States' using the boolean variable.\n",
    "#We may want to use the Totals by year values later so let's name this a new mapping df also.\n",
    "#There are 12 years so expecting to remove 12 rows from df.\n",
    "df_map = df[-is_All_States]\n",
    "df_map.shape"
   ]
  },
  {
   "cell_type": "code",
   "execution_count": 37,
   "metadata": {},
   "outputs": [
    {
     "data": {
      "text/plain": [
       "count    584.000000\n",
       "mean       0.063356\n",
       "std        1.189329\n",
       "min       -5.000000\n",
       "25%        0.000000\n",
       "50%        0.000000\n",
       "75%        0.000000\n",
       "max        9.000000\n",
       "Name: Seat change, dtype: float64"
      ]
     },
     "execution_count": 37,
     "metadata": {},
     "output_type": "execute_result"
    }
   ],
   "source": [
    "#See summaries with the range of values in Seat change.\n",
    "df_map['Seat change'].describe()"
   ]
  },
  {
   "cell_type": "code",
   "execution_count": 55,
   "metadata": {},
   "outputs": [
    {
     "data": {
      "application/vnd.plotly.v1+json": {
       "config": {
        "plotlyServerURL": "https://plot.ly"
       },
       "data": [
        {
         "coloraxis": "coloraxis",
         "customdata": [
          [
           1910,
           1,
           2138093,
           10,
           213809,
           "AL"
          ],
          [
           1910,
           null,
           null,
           null,
           null,
           "AK"
          ],
          [
           1910,
           null,
           null,
           null,
           null,
           "AZ"
          ],
          [
           1910,
           0,
           1574449,
           7,
           224921,
           "AR"
          ],
          [
           1910,
           3,
           2376561,
           11,
           216051,
           "CA"
          ],
          [
           1910,
           1,
           798572,
           4,
           199643,
           "CO"
          ],
          [
           1910,
           0,
           1114756,
           5,
           222951,
           "CT"
          ],
          [
           1910,
           0,
           202322,
           1,
           202322,
           "DE"
          ],
          [
           1910,
           1,
           752619,
           4,
           188155,
           "FL"
          ],
          [
           1910,
           1,
           2609121,
           12,
           217427,
           "GA"
          ],
          [
           1910,
           null,
           null,
           null,
           null,
           "HI"
          ],
          [
           1910,
           1,
           323440,
           2,
           161720,
           "ID"
          ],
          [
           1910,
           2,
           5638591,
           27,
           208837,
           "IL"
          ],
          [
           1910,
           0,
           2700876,
           13,
           207760,
           "IN"
          ],
          [
           1910,
           0,
           2224771,
           11,
           202252,
           "IA"
          ],
          [
           1910,
           0,
           1690949,
           8,
           211369,
           "KS"
          ],
          [
           1910,
           0,
           2289905,
           11,
           208173,
           "KY"
          ],
          [
           1910,
           1,
           1656388,
           8,
           207049,
           "LA"
          ],
          [
           1910,
           0,
           742371,
           4,
           185593,
           "ME"
          ],
          [
           1910,
           0,
           1295346,
           6,
           215891,
           "MD"
          ],
          [
           1910,
           2,
           3366416,
           16,
           210401,
           "MA"
          ],
          [
           1910,
           1,
           2810173,
           13,
           216167,
           "MI"
          ],
          [
           1910,
           1,
           2074376,
           10,
           207438,
           "MN"
          ],
          [
           1910,
           0,
           1797114,
           8,
           224639,
           "MS"
          ],
          [
           1910,
           0,
           3293335,
           16,
           205833,
           "MO"
          ],
          [
           1910,
           1,
           366338,
           2,
           183169,
           "MT"
          ],
          [
           1910,
           0,
           1192214,
           6,
           198702,
           "NE"
          ],
          [
           1910,
           0,
           80293,
           1,
           80293,
           "NV"
          ],
          [
           1910,
           0,
           430572,
           2,
           215286,
           "NH"
          ],
          [
           1910,
           2,
           2537167,
           12,
           211431,
           "NJ"
          ],
          [
           1910,
           null,
           null,
           null,
           null,
           "NM"
          ],
          [
           1910,
           6,
           9108934,
           43,
           211836,
           "NY"
          ],
          [
           1910,
           0,
           2206287,
           10,
           220629,
           "NC"
          ],
          [
           1910,
           1,
           574403,
           3,
           191468,
           "ND"
          ],
          [
           1910,
           1,
           4767121,
           22,
           216687,
           "OH"
          ],
          [
           1910,
           null,
           1657155,
           8,
           207144,
           "OK"
          ],
          [
           1910,
           1,
           672765,
           3,
           224255,
           "OR"
          ],
          [
           1910,
           4,
           7665111,
           36,
           212920,
           "PA"
          ],
          [
           1910,
           1,
           542610,
           3,
           180870,
           "RI"
          ],
          [
           1910,
           0,
           1515400,
           7,
           216486,
           "SC"
          ],
          [
           1910,
           1,
           575676,
           3,
           191892,
           "SD"
          ],
          [
           1910,
           0,
           2184789,
           10,
           218479,
           "TN"
          ],
          [
           1910,
           2,
           3896542,
           18,
           216475,
           "TX"
          ],
          [
           1910,
           1,
           371864,
           2,
           185932,
           "UT"
          ],
          [
           1910,
           0,
           355956,
           2,
           177978,
           "VT"
          ],
          [
           1910,
           0,
           2061612,
           10,
           206161,
           "VA"
          ],
          [
           1910,
           2,
           1140134,
           5,
           228027,
           "WA"
          ],
          [
           1910,
           1,
           1221119,
           6,
           203520,
           "WV"
          ],
          [
           1910,
           0,
           2332853,
           11,
           212078,
           "WI"
          ],
          [
           1910,
           0,
           144658,
           1,
           144658,
           "WY"
          ]
         ],
         "geo": "geo",
         "hovertemplate": "<b>%{hovertext}</b><br><br>Year=%{customdata[0]}<br>Seat change=%{z}<br>Apportionment population=%{customdata[2]}<br>Number of representatives=%{customdata[3]}<br>Average persons per representative=%{customdata[4]}<extra></extra>",
         "hovertext": [
          "Alabama",
          "Alaska",
          "Arizona",
          "Arkansas",
          "California",
          "Colorado",
          "Connecticut",
          "Delaware",
          "Florida",
          "Georgia",
          "Hawaii",
          "Idaho",
          "Illinois",
          "Indiana",
          "Iowa",
          "Kansas",
          "Kentucky",
          "Louisiana",
          "Maine",
          "Maryland",
          "Massachusetts",
          "Michigan",
          "Minnesota",
          "Mississippi",
          "Missouri",
          "Montana",
          "Nebraska",
          "Nevada",
          "New Hampshire",
          "New Jersey",
          "New Mexico",
          "New York",
          "North Carolina",
          "North Dakota",
          "Ohio",
          "Oklahoma",
          "Oregon",
          "Pennsylvania",
          "Rhode Island",
          "South Carolina",
          "South Dakota",
          "Tennessee",
          "Texas",
          "Utah",
          "Vermont",
          "Virginia",
          "Washington",
          "West Virginia",
          "Wisconsin",
          "Wyoming"
         ],
         "locationmode": "USA-states",
         "locations": [
          "AL",
          "AK",
          "AZ",
          "AR",
          "CA",
          "CO",
          "CT",
          "DE",
          "FL",
          "GA",
          "HI",
          "ID",
          "IL",
          "IN",
          "IA",
          "KS",
          "KY",
          "LA",
          "ME",
          "MD",
          "MA",
          "MI",
          "MN",
          "MS",
          "MO",
          "MT",
          "NE",
          "NV",
          "NH",
          "NJ",
          "NM",
          "NY",
          "NC",
          "ND",
          "OH",
          "OK",
          "OR",
          "PA",
          "RI",
          "SC",
          "SD",
          "TN",
          "TX",
          "UT",
          "VT",
          "VA",
          "WA",
          "WV",
          "WI",
          "WY"
         ],
         "name": "",
         "type": "choropleth",
         "z": [
          1,
          null,
          null,
          0,
          3,
          1,
          0,
          0,
          1,
          1,
          null,
          1,
          2,
          0,
          0,
          0,
          0,
          1,
          0,
          0,
          2,
          1,
          1,
          0,
          0,
          1,
          0,
          0,
          0,
          2,
          null,
          6,
          0,
          1,
          1,
          null,
          1,
          4,
          1,
          0,
          1,
          0,
          2,
          1,
          0,
          0,
          2,
          1,
          0,
          0
         ]
        }
       ],
       "frames": [
        {
         "data": [
          {
           "coloraxis": "coloraxis",
           "customdata": [
            [
             1910,
             1,
             2138093,
             10,
             213809,
             "AL"
            ],
            [
             1910,
             null,
             null,
             null,
             null,
             "AK"
            ],
            [
             1910,
             null,
             null,
             null,
             null,
             "AZ"
            ],
            [
             1910,
             0,
             1574449,
             7,
             224921,
             "AR"
            ],
            [
             1910,
             3,
             2376561,
             11,
             216051,
             "CA"
            ],
            [
             1910,
             1,
             798572,
             4,
             199643,
             "CO"
            ],
            [
             1910,
             0,
             1114756,
             5,
             222951,
             "CT"
            ],
            [
             1910,
             0,
             202322,
             1,
             202322,
             "DE"
            ],
            [
             1910,
             1,
             752619,
             4,
             188155,
             "FL"
            ],
            [
             1910,
             1,
             2609121,
             12,
             217427,
             "GA"
            ],
            [
             1910,
             null,
             null,
             null,
             null,
             "HI"
            ],
            [
             1910,
             1,
             323440,
             2,
             161720,
             "ID"
            ],
            [
             1910,
             2,
             5638591,
             27,
             208837,
             "IL"
            ],
            [
             1910,
             0,
             2700876,
             13,
             207760,
             "IN"
            ],
            [
             1910,
             0,
             2224771,
             11,
             202252,
             "IA"
            ],
            [
             1910,
             0,
             1690949,
             8,
             211369,
             "KS"
            ],
            [
             1910,
             0,
             2289905,
             11,
             208173,
             "KY"
            ],
            [
             1910,
             1,
             1656388,
             8,
             207049,
             "LA"
            ],
            [
             1910,
             0,
             742371,
             4,
             185593,
             "ME"
            ],
            [
             1910,
             0,
             1295346,
             6,
             215891,
             "MD"
            ],
            [
             1910,
             2,
             3366416,
             16,
             210401,
             "MA"
            ],
            [
             1910,
             1,
             2810173,
             13,
             216167,
             "MI"
            ],
            [
             1910,
             1,
             2074376,
             10,
             207438,
             "MN"
            ],
            [
             1910,
             0,
             1797114,
             8,
             224639,
             "MS"
            ],
            [
             1910,
             0,
             3293335,
             16,
             205833,
             "MO"
            ],
            [
             1910,
             1,
             366338,
             2,
             183169,
             "MT"
            ],
            [
             1910,
             0,
             1192214,
             6,
             198702,
             "NE"
            ],
            [
             1910,
             0,
             80293,
             1,
             80293,
             "NV"
            ],
            [
             1910,
             0,
             430572,
             2,
             215286,
             "NH"
            ],
            [
             1910,
             2,
             2537167,
             12,
             211431,
             "NJ"
            ],
            [
             1910,
             null,
             null,
             null,
             null,
             "NM"
            ],
            [
             1910,
             6,
             9108934,
             43,
             211836,
             "NY"
            ],
            [
             1910,
             0,
             2206287,
             10,
             220629,
             "NC"
            ],
            [
             1910,
             1,
             574403,
             3,
             191468,
             "ND"
            ],
            [
             1910,
             1,
             4767121,
             22,
             216687,
             "OH"
            ],
            [
             1910,
             null,
             1657155,
             8,
             207144,
             "OK"
            ],
            [
             1910,
             1,
             672765,
             3,
             224255,
             "OR"
            ],
            [
             1910,
             4,
             7665111,
             36,
             212920,
             "PA"
            ],
            [
             1910,
             1,
             542610,
             3,
             180870,
             "RI"
            ],
            [
             1910,
             0,
             1515400,
             7,
             216486,
             "SC"
            ],
            [
             1910,
             1,
             575676,
             3,
             191892,
             "SD"
            ],
            [
             1910,
             0,
             2184789,
             10,
             218479,
             "TN"
            ],
            [
             1910,
             2,
             3896542,
             18,
             216475,
             "TX"
            ],
            [
             1910,
             1,
             371864,
             2,
             185932,
             "UT"
            ],
            [
             1910,
             0,
             355956,
             2,
             177978,
             "VT"
            ],
            [
             1910,
             0,
             2061612,
             10,
             206161,
             "VA"
            ],
            [
             1910,
             2,
             1140134,
             5,
             228027,
             "WA"
            ],
            [
             1910,
             1,
             1221119,
             6,
             203520,
             "WV"
            ],
            [
             1910,
             0,
             2332853,
             11,
             212078,
             "WI"
            ],
            [
             1910,
             0,
             144658,
             1,
             144658,
             "WY"
            ]
           ],
           "geo": "geo",
           "hovertemplate": "<b>%{hovertext}</b><br><br>Year=%{customdata[0]}<br>Seat change=%{z}<br>Apportionment population=%{customdata[2]}<br>Number of representatives=%{customdata[3]}<br>Average persons per representative=%{customdata[4]}<extra></extra>",
           "hovertext": [
            "Alabama",
            "Alaska",
            "Arizona",
            "Arkansas",
            "California",
            "Colorado",
            "Connecticut",
            "Delaware",
            "Florida",
            "Georgia",
            "Hawaii",
            "Idaho",
            "Illinois",
            "Indiana",
            "Iowa",
            "Kansas",
            "Kentucky",
            "Louisiana",
            "Maine",
            "Maryland",
            "Massachusetts",
            "Michigan",
            "Minnesota",
            "Mississippi",
            "Missouri",
            "Montana",
            "Nebraska",
            "Nevada",
            "New Hampshire",
            "New Jersey",
            "New Mexico",
            "New York",
            "North Carolina",
            "North Dakota",
            "Ohio",
            "Oklahoma",
            "Oregon",
            "Pennsylvania",
            "Rhode Island",
            "South Carolina",
            "South Dakota",
            "Tennessee",
            "Texas",
            "Utah",
            "Vermont",
            "Virginia",
            "Washington",
            "West Virginia",
            "Wisconsin",
            "Wyoming"
           ],
           "locationmode": "USA-states",
           "locations": [
            "AL",
            "AK",
            "AZ",
            "AR",
            "CA",
            "CO",
            "CT",
            "DE",
            "FL",
            "GA",
            "HI",
            "ID",
            "IL",
            "IN",
            "IA",
            "KS",
            "KY",
            "LA",
            "ME",
            "MD",
            "MA",
            "MI",
            "MN",
            "MS",
            "MO",
            "MT",
            "NE",
            "NV",
            "NH",
            "NJ",
            "NM",
            "NY",
            "NC",
            "ND",
            "OH",
            "OK",
            "OR",
            "PA",
            "RI",
            "SC",
            "SD",
            "TN",
            "TX",
            "UT",
            "VT",
            "VA",
            "WA",
            "WV",
            "WI",
            "WY"
           ],
           "name": "",
           "type": "choropleth",
           "z": [
            1,
            null,
            null,
            0,
            3,
            1,
            0,
            0,
            1,
            1,
            null,
            1,
            2,
            0,
            0,
            0,
            0,
            1,
            0,
            0,
            2,
            1,
            1,
            0,
            0,
            1,
            0,
            0,
            0,
            2,
            null,
            6,
            0,
            1,
            1,
            null,
            1,
            4,
            1,
            0,
            1,
            0,
            2,
            1,
            0,
            0,
            2,
            1,
            0,
            0
           ]
          }
         ],
         "name": "1910"
        },
        {
         "data": [
          {
           "coloraxis": "coloraxis",
           "customdata": [
            [
             1920,
             0,
             2348174,
             10,
             234817,
             "AL"
            ],
            [
             1920,
             null,
             null,
             null,
             null,
             "AK"
            ],
            [
             1920,
             null,
             309495,
             1,
             309495,
             "AZ"
            ],
            [
             1920,
             0,
             1752204,
             7,
             250315,
             "AR"
            ],
            [
             1920,
             0,
             3426031,
             11,
             311457,
             "CA"
            ],
            [
             1920,
             0,
             939161,
             4,
             234790,
             "CO"
            ],
            [
             1920,
             0,
             1380631,
             5,
             276126,
             "CT"
            ],
            [
             1920,
             0,
             223003,
             1,
             223003,
             "DE"
            ],
            [
             1920,
             0,
             968470,
             4,
             242118,
             "FL"
            ],
            [
             1920,
             0,
             2895832,
             12,
             241319,
             "GA"
            ],
            [
             1920,
             null,
             null,
             null,
             null,
             "HI"
            ],
            [
             1920,
             0,
             430442,
             2,
             215221,
             "ID"
            ],
            [
             1920,
             0,
             6485280,
             27,
             240196,
             "IL"
            ],
            [
             1920,
             0,
             2930390,
             13,
             225415,
             "IN"
            ],
            [
             1920,
             0,
             2404021,
             11,
             218547,
             "IA"
            ],
            [
             1920,
             0,
             1769257,
             8,
             221157,
             "KS"
            ],
            [
             1920,
             0,
             2416630,
             11,
             219694,
             "KY"
            ],
            [
             1920,
             0,
             1798509,
             8,
             224814,
             "LA"
            ],
            [
             1920,
             0,
             768014,
             4,
             192004,
             "ME"
            ],
            [
             1920,
             0,
             1449661,
             6,
             241610,
             "MD"
            ],
            [
             1920,
             0,
             3852356,
             16,
             240772,
             "MA"
            ],
            [
             1920,
             0,
             3668412,
             13,
             282186,
             "MI"
            ],
            [
             1920,
             0,
             2385656,
             10,
             238566,
             "MN"
            ],
            [
             1920,
             0,
             1790618,
             8,
             223827,
             "MS"
            ],
            [
             1920,
             0,
             3404055,
             16,
             212753,
             "MO"
            ],
            [
             1920,
             0,
             541511,
             2,
             270756,
             "MT"
            ],
            [
             1920,
             0,
             1296372,
             6,
             216062,
             "NE"
            ],
            [
             1920,
             0,
             75820,
             1,
             75820,
             "NV"
            ],
            [
             1920,
             0,
             443083,
             2,
             221542,
             "NH"
            ],
            [
             1920,
             0,
             3155900,
             12,
             262992,
             "NJ"
            ],
            [
             1920,
             1,
             353428,
             1,
             353428,
             "NM"
            ],
            [
             1920,
             0,
             10380589,
             43,
             241409,
             "NY"
            ],
            [
             1920,
             0,
             2559123,
             10,
             255912,
             "NC"
            ],
            [
             1920,
             0,
             643953,
             3,
             214651,
             "ND"
            ],
            [
             1920,
             0,
             5759394,
             22,
             261791,
             "OH"
            ],
            [
             1920,
             0,
             2028283,
             8,
             253535,
             "OK"
            ],
            [
             1920,
             0,
             783389,
             3,
             261130,
             "OR"
            ],
            [
             1920,
             0,
             8720017,
             36,
             242223,
             "PA"
            ],
            [
             1920,
             0,
             604397,
             3,
             201466,
             "RI"
            ],
            [
             1920,
             0,
             1683724,
             7,
             240532,
             "SC"
            ],
            [
             1920,
             0,
             631239,
             3,
             210413,
             "SD"
            ],
            [
             1920,
             0,
             2337885,
             10,
             233789,
             "TN"
            ],
            [
             1920,
             0,
             4663228,
             18,
             259068,
             "TX"
            ],
            [
             1920,
             0,
             448388,
             2,
             224194,
             "UT"
            ],
            [
             1920,
             0,
             352428,
             2,
             176214,
             "VT"
            ],
            [
             1920,
             0,
             2309187,
             10,
             230919,
             "VA"
            ],
            [
             1920,
             0,
             1354596,
             5,
             270919,
             "WA"
            ],
            [
             1920,
             0,
             1463701,
             6,
             243950,
             "WV"
            ],
            [
             1920,
             0,
             2631305,
             11,
             239210,
             "WI"
            ],
            [
             1920,
             0,
             193487,
             1,
             193487,
             "WY"
            ]
           ],
           "geo": "geo",
           "hovertemplate": "<b>%{hovertext}</b><br><br>Year=%{customdata[0]}<br>Seat change=%{z}<br>Apportionment population=%{customdata[2]}<br>Number of representatives=%{customdata[3]}<br>Average persons per representative=%{customdata[4]}<extra></extra>",
           "hovertext": [
            "Alabama",
            "Alaska",
            "Arizona",
            "Arkansas",
            "California",
            "Colorado",
            "Connecticut",
            "Delaware",
            "Florida",
            "Georgia",
            "Hawaii",
            "Idaho",
            "Illinois",
            "Indiana",
            "Iowa",
            "Kansas",
            "Kentucky",
            "Louisiana",
            "Maine",
            "Maryland",
            "Massachusetts",
            "Michigan",
            "Minnesota",
            "Mississippi",
            "Missouri",
            "Montana",
            "Nebraska",
            "Nevada",
            "New Hampshire",
            "New Jersey",
            "New Mexico",
            "New York",
            "North Carolina",
            "North Dakota",
            "Ohio",
            "Oklahoma",
            "Oregon",
            "Pennsylvania",
            "Rhode Island",
            "South Carolina",
            "South Dakota",
            "Tennessee",
            "Texas",
            "Utah",
            "Vermont",
            "Virginia",
            "Washington",
            "West Virginia",
            "Wisconsin",
            "Wyoming"
           ],
           "locationmode": "USA-states",
           "locations": [
            "AL",
            "AK",
            "AZ",
            "AR",
            "CA",
            "CO",
            "CT",
            "DE",
            "FL",
            "GA",
            "HI",
            "ID",
            "IL",
            "IN",
            "IA",
            "KS",
            "KY",
            "LA",
            "ME",
            "MD",
            "MA",
            "MI",
            "MN",
            "MS",
            "MO",
            "MT",
            "NE",
            "NV",
            "NH",
            "NJ",
            "NM",
            "NY",
            "NC",
            "ND",
            "OH",
            "OK",
            "OR",
            "PA",
            "RI",
            "SC",
            "SD",
            "TN",
            "TX",
            "UT",
            "VT",
            "VA",
            "WA",
            "WV",
            "WI",
            "WY"
           ],
           "name": "",
           "type": "choropleth",
           "z": [
            0,
            null,
            null,
            0,
            0,
            0,
            0,
            0,
            0,
            0,
            null,
            0,
            0,
            0,
            0,
            0,
            0,
            0,
            0,
            0,
            0,
            0,
            0,
            0,
            0,
            0,
            0,
            0,
            0,
            0,
            1,
            0,
            0,
            0,
            0,
            0,
            0,
            0,
            0,
            0,
            0,
            0,
            0,
            0,
            0,
            0,
            0,
            0,
            0,
            0
           ]
          }
         ],
         "name": "1920"
        },
        {
         "data": [
          {
           "coloraxis": "coloraxis",
           "customdata": [
            [
             1930,
             -1,
             2646242,
             9,
             294027,
             "AL"
            ],
            [
             1930,
             null,
             null,
             null,
             null,
             "AK"
            ],
            [
             1930,
             0,
             389375,
             1,
             389375,
             "AZ"
            ],
            [
             1930,
             0,
             1854444,
             7,
             264921,
             "AR"
            ],
            [
             1930,
             9,
             5668241,
             20,
             283412,
             "CA"
            ],
            [
             1930,
             0,
             1034849,
             4,
             258712,
             "CO"
            ],
            [
             1930,
             1,
             1606897,
             6,
             267816,
             "CT"
            ],
            [
             1930,
             0,
             238380,
             1,
             238380,
             "DE"
            ],
            [
             1930,
             1,
             1468191,
             5,
             293638,
             "FL"
            ],
            [
             1930,
             -2,
             2908446,
             10,
             290845,
             "GA"
            ],
            [
             1930,
             null,
             null,
             null,
             null,
             "HI"
            ],
            [
             1930,
             0,
             441536,
             2,
             220768,
             "ID"
            ],
            [
             1930,
             0,
             7630388,
             27,
             282607,
             "IL"
            ],
            [
             1930,
             -1,
             3238480,
             12,
             269873,
             "IN"
            ],
            [
             1930,
             -2,
             2470420,
             9,
             274491,
             "IA"
            ],
            [
             1930,
             -1,
             1879498,
             7,
             268500,
             "KS"
            ],
            [
             1930,
             -2,
             2614575,
             9,
             290508,
             "KY"
            ],
            [
             1930,
             0,
             2101593,
             8,
             262699,
             "LA"
            ],
            [
             1930,
             -1,
             797418,
             3,
             265806,
             "ME"
            ],
            [
             1930,
             0,
             1631522,
             6,
             271920,
             "MD"
            ],
            [
             1930,
             -1,
             4249598,
             15,
             283307,
             "MA"
            ],
            [
             1930,
             4,
             4842052,
             17,
             284827,
             "MI"
            ],
            [
             1930,
             -1,
             2551583,
             9,
             283509,
             "MN"
            ],
            [
             1930,
             -1,
             2008154,
             7,
             286879,
             "MS"
            ],
            [
             1930,
             -3,
             3629110,
             13,
             279162,
             "MO"
            ],
            [
             1930,
             0,
             524729,
             2,
             262365,
             "MT"
            ],
            [
             1930,
             -1,
             1375123,
             5,
             275025,
             "NE"
            ],
            [
             1930,
             0,
             86390,
             1,
             86390,
             "NV"
            ],
            [
             1930,
             0,
             465292,
             2,
             232646,
             "NH"
            ],
            [
             1930,
             2,
             4041319,
             14,
             288666,
             "NJ"
            ],
            [
             1930,
             0,
             395982,
             1,
             395982,
             "NM"
            ],
            [
             1930,
             2,
             12587967,
             45,
             279733,
             "NY"
            ],
            [
             1930,
             1,
             3167274,
             11,
             287934,
             "NC"
            ],
            [
             1930,
             -1,
             673340,
             2,
             336670,
             "ND"
            ],
            [
             1930,
             2,
             6646633,
             24,
             276943,
             "OH"
            ],
            [
             1930,
             1,
             2382222,
             9,
             264691,
             "OK"
            ],
            [
             1930,
             0,
             950379,
             3,
             316793,
             "OR"
            ],
            [
             1930,
             -2,
             9631299,
             34,
             283274,
             "PA"
            ],
            [
             1930,
             -1,
             687497,
             2,
             343749,
             "RI"
            ],
            [
             1930,
             -1,
             1738760,
             6,
             289793,
             "SC"
            ],
            [
             1930,
             -1,
             673005,
             2,
             336503,
             "SD"
            ],
            [
             1930,
             -1,
             2616497,
             9,
             290722,
             "TN"
            ],
            [
             1930,
             3,
             5824601,
             21,
             277362,
             "TX"
            ],
            [
             1930,
             0,
             505741,
             2,
             252871,
             "UT"
            ],
            [
             1930,
             -1,
             359611,
             1,
             359611,
             "VT"
            ],
            [
             1930,
             -1,
             2421829,
             9,
             269092,
             "VA"
            ],
            [
             1930,
             1,
             1552423,
             6,
             258737,
             "WA"
            ],
            [
             1930,
             0,
             1729199,
             6,
             288200,
             "WV"
            ],
            [
             1930,
             -1,
             2931721,
             10,
             293172,
             "WI"
            ],
            [
             1930,
             0,
             223630,
             1,
             223630,
             "WY"
            ]
           ],
           "geo": "geo",
           "hovertemplate": "<b>%{hovertext}</b><br><br>Year=%{customdata[0]}<br>Seat change=%{z}<br>Apportionment population=%{customdata[2]}<br>Number of representatives=%{customdata[3]}<br>Average persons per representative=%{customdata[4]}<extra></extra>",
           "hovertext": [
            "Alabama",
            "Alaska",
            "Arizona",
            "Arkansas",
            "California",
            "Colorado",
            "Connecticut",
            "Delaware",
            "Florida",
            "Georgia",
            "Hawaii",
            "Idaho",
            "Illinois",
            "Indiana",
            "Iowa",
            "Kansas",
            "Kentucky",
            "Louisiana",
            "Maine",
            "Maryland",
            "Massachusetts",
            "Michigan",
            "Minnesota",
            "Mississippi",
            "Missouri",
            "Montana",
            "Nebraska",
            "Nevada",
            "New Hampshire",
            "New Jersey",
            "New Mexico",
            "New York",
            "North Carolina",
            "North Dakota",
            "Ohio",
            "Oklahoma",
            "Oregon",
            "Pennsylvania",
            "Rhode Island",
            "South Carolina",
            "South Dakota",
            "Tennessee",
            "Texas",
            "Utah",
            "Vermont",
            "Virginia",
            "Washington",
            "West Virginia",
            "Wisconsin",
            "Wyoming"
           ],
           "locationmode": "USA-states",
           "locations": [
            "AL",
            "AK",
            "AZ",
            "AR",
            "CA",
            "CO",
            "CT",
            "DE",
            "FL",
            "GA",
            "HI",
            "ID",
            "IL",
            "IN",
            "IA",
            "KS",
            "KY",
            "LA",
            "ME",
            "MD",
            "MA",
            "MI",
            "MN",
            "MS",
            "MO",
            "MT",
            "NE",
            "NV",
            "NH",
            "NJ",
            "NM",
            "NY",
            "NC",
            "ND",
            "OH",
            "OK",
            "OR",
            "PA",
            "RI",
            "SC",
            "SD",
            "TN",
            "TX",
            "UT",
            "VT",
            "VA",
            "WA",
            "WV",
            "WI",
            "WY"
           ],
           "name": "",
           "type": "choropleth",
           "z": [
            -1,
            null,
            0,
            0,
            9,
            0,
            1,
            0,
            1,
            -2,
            null,
            0,
            0,
            -1,
            -2,
            -1,
            -2,
            0,
            -1,
            0,
            -1,
            4,
            -1,
            -1,
            -3,
            0,
            -1,
            0,
            0,
            2,
            0,
            2,
            1,
            -1,
            2,
            1,
            0,
            -2,
            -1,
            -1,
            -1,
            -1,
            3,
            0,
            -1,
            -1,
            1,
            0,
            -1,
            0
           ]
          }
         ],
         "name": "1930"
        },
        {
         "data": [
          {
           "coloraxis": "coloraxis",
           "customdata": [
            [
             1940,
             0,
             2832961,
             9,
             314773,
             "AL"
            ],
            [
             1940,
             null,
             null,
             null,
             null,
             "AK"
            ],
            [
             1940,
             1,
             499261,
             2,
             249631,
             "AZ"
            ],
            [
             1940,
             0,
             1949387,
             7,
             278484,
             "AR"
            ],
            [
             1940,
             3,
             6907387,
             23,
             300321,
             "CA"
            ],
            [
             1940,
             0,
             1123296,
             4,
             280824,
             "CO"
            ],
            [
             1940,
             0,
             1709242,
             6,
             284874,
             "CT"
            ],
            [
             1940,
             0,
             266505,
             1,
             266505,
             "DE"
            ],
            [
             1940,
             1,
             1897414,
             6,
             316236,
             "FL"
            ],
            [
             1940,
             0,
             3123723,
             10,
             312372,
             "GA"
            ],
            [
             1940,
             null,
             null,
             null,
             null,
             "HI"
            ],
            [
             1940,
             0,
             524873,
             2,
             262437,
             "ID"
            ],
            [
             1940,
             -1,
             7897241,
             26,
             303740,
             "IL"
            ],
            [
             1940,
             -1,
             3427796,
             11,
             311618,
             "IN"
            ],
            [
             1940,
             -1,
             2538268,
             8,
             317284,
             "IA"
            ],
            [
             1940,
             -1,
             1801028,
             6,
             300171,
             "KS"
            ],
            [
             1940,
             0,
             2845627,
             9,
             316181,
             "KY"
            ],
            [
             1940,
             0,
             2363880,
             8,
             295485,
             "LA"
            ],
            [
             1940,
             0,
             847226,
             3,
             282409,
             "ME"
            ],
            [
             1940,
             0,
             1821244,
             6,
             303541,
             "MD"
            ],
            [
             1940,
             -1,
             4316721,
             14,
             308337,
             "MA"
            ],
            [
             1940,
             0,
             5256106,
             17,
             309183,
             "MI"
            ],
            [
             1940,
             0,
             2792300,
             9,
             310256,
             "MN"
            ],
            [
             1940,
             0,
             2183796,
             7,
             311971,
             "MS"
            ],
            [
             1940,
             0,
             3784664,
             13,
             291128,
             "MO"
            ],
            [
             1940,
             0,
             559456,
             2,
             279728,
             "MT"
            ],
            [
             1940,
             -1,
             1315834,
             4,
             328959,
             "NE"
            ],
            [
             1940,
             0,
             110247,
             1,
             110247,
             "NV"
            ],
            [
             1940,
             0,
             491524,
             2,
             245762,
             "NH"
            ],
            [
             1940,
             0,
             4160165,
             14,
             297155,
             "NJ"
            ],
            [
             1940,
             1,
             531818,
             2,
             265909,
             "NM"
            ],
            [
             1940,
             0,
             13479142,
             45,
             299536,
             "NY"
            ],
            [
             1940,
             1,
             3571623,
             12,
             297635,
             "NC"
            ],
            [
             1940,
             0,
             641935,
             2,
             320968,
             "ND"
            ],
            [
             1940,
             -1,
             6907612,
             23,
             300331,
             "OH"
            ],
            [
             1940,
             -1,
             2336434,
             8,
             292054,
             "OK"
            ],
            [
             1940,
             1,
             1089684,
             4,
             272421,
             "OR"
            ],
            [
             1940,
             -1,
             9900180,
             33,
             300005,
             "PA"
            ],
            [
             1940,
             0,
             713346,
             2,
             356673,
             "RI"
            ],
            [
             1940,
             0,
             1899804,
             6,
             316634,
             "SC"
            ],
            [
             1940,
             0,
             642961,
             2,
             321481,
             "SD"
            ],
            [
             1940,
             1,
             2915841,
             10,
             291584,
             "TN"
            ],
            [
             1940,
             0,
             6414824,
             21,
             305468,
             "TX"
            ],
            [
             1940,
             0,
             550310,
             2,
             275155,
             "UT"
            ],
            [
             1940,
             0,
             359231,
             1,
             359231,
             "VT"
            ],
            [
             1940,
             0,
             2677773,
             9,
             297530,
             "VA"
            ],
            [
             1940,
             0,
             1736191,
             6,
             289365,
             "WA"
            ],
            [
             1940,
             0,
             1901974,
             6,
             316996,
             "WV"
            ],
            [
             1940,
             0,
             3137587,
             10,
             313759,
             "WI"
            ],
            [
             1940,
             0,
             250742,
             1,
             250742,
             "WY"
            ]
           ],
           "geo": "geo",
           "hovertemplate": "<b>%{hovertext}</b><br><br>Year=%{customdata[0]}<br>Seat change=%{z}<br>Apportionment population=%{customdata[2]}<br>Number of representatives=%{customdata[3]}<br>Average persons per representative=%{customdata[4]}<extra></extra>",
           "hovertext": [
            "Alabama",
            "Alaska",
            "Arizona",
            "Arkansas",
            "California",
            "Colorado",
            "Connecticut",
            "Delaware",
            "Florida",
            "Georgia",
            "Hawaii",
            "Idaho",
            "Illinois",
            "Indiana",
            "Iowa",
            "Kansas",
            "Kentucky",
            "Louisiana",
            "Maine",
            "Maryland",
            "Massachusetts",
            "Michigan",
            "Minnesota",
            "Mississippi",
            "Missouri",
            "Montana",
            "Nebraska",
            "Nevada",
            "New Hampshire",
            "New Jersey",
            "New Mexico",
            "New York",
            "North Carolina",
            "North Dakota",
            "Ohio",
            "Oklahoma",
            "Oregon",
            "Pennsylvania",
            "Rhode Island",
            "South Carolina",
            "South Dakota",
            "Tennessee",
            "Texas",
            "Utah",
            "Vermont",
            "Virginia",
            "Washington",
            "West Virginia",
            "Wisconsin",
            "Wyoming"
           ],
           "locationmode": "USA-states",
           "locations": [
            "AL",
            "AK",
            "AZ",
            "AR",
            "CA",
            "CO",
            "CT",
            "DE",
            "FL",
            "GA",
            "HI",
            "ID",
            "IL",
            "IN",
            "IA",
            "KS",
            "KY",
            "LA",
            "ME",
            "MD",
            "MA",
            "MI",
            "MN",
            "MS",
            "MO",
            "MT",
            "NE",
            "NV",
            "NH",
            "NJ",
            "NM",
            "NY",
            "NC",
            "ND",
            "OH",
            "OK",
            "OR",
            "PA",
            "RI",
            "SC",
            "SD",
            "TN",
            "TX",
            "UT",
            "VT",
            "VA",
            "WA",
            "WV",
            "WI",
            "WY"
           ],
           "name": "",
           "type": "choropleth",
           "z": [
            0,
            null,
            1,
            0,
            3,
            0,
            0,
            0,
            1,
            0,
            null,
            0,
            -1,
            -1,
            -1,
            -1,
            0,
            0,
            0,
            0,
            -1,
            0,
            0,
            0,
            0,
            0,
            -1,
            0,
            0,
            0,
            1,
            0,
            1,
            0,
            -1,
            -1,
            1,
            -1,
            0,
            0,
            0,
            1,
            0,
            0,
            0,
            0,
            0,
            0,
            0,
            0
           ]
          }
         ],
         "name": "1940"
        },
        {
         "data": [
          {
           "coloraxis": "coloraxis",
           "customdata": [
            [
             1950,
             0,
             3061743,
             9,
             340194,
             "AL"
            ],
            [
             1950,
             null,
             null,
             null,
             null,
             "AK"
            ],
            [
             1950,
             0,
             749587,
             2,
             374794,
             "AZ"
            ],
            [
             1950,
             -1,
             1909511,
             6,
             318252,
             "AR"
            ],
            [
             1950,
             7,
             10586223,
             30,
             352874,
             "CA"
            ],
            [
             1950,
             0,
             1325089,
             4,
             331272,
             "CO"
            ],
            [
             1950,
             0,
             2007280,
             6,
             334547,
             "CT"
            ],
            [
             1950,
             0,
             318085,
             1,
             318085,
             "DE"
            ],
            [
             1950,
             2,
             2771305,
             8,
             346413,
             "FL"
            ],
            [
             1950,
             0,
             3444578,
             10,
             344458,
             "GA"
            ],
            [
             1950,
             null,
             null,
             null,
             null,
             "HI"
            ],
            [
             1950,
             0,
             588637,
             2,
             294319,
             "ID"
            ],
            [
             1950,
             -1,
             8712176,
             25,
             348487,
             "IL"
            ],
            [
             1950,
             0,
             3934224,
             11,
             357657,
             "IN"
            ],
            [
             1950,
             0,
             2621073,
             8,
             327634,
             "IA"
            ],
            [
             1950,
             0,
             1905299,
             6,
             317550,
             "KS"
            ],
            [
             1950,
             -1,
             2944806,
             8,
             368101,
             "KY"
            ],
            [
             1950,
             0,
             2683516,
             8,
             335440,
             "LA"
            ],
            [
             1950,
             0,
             913774,
             3,
             304591,
             "ME"
            ],
            [
             1950,
             1,
             2343001,
             7,
             334714,
             "MD"
            ],
            [
             1950,
             0,
             4690514,
             14,
             335037,
             "MA"
            ],
            [
             1950,
             1,
             6371766,
             18,
             353987,
             "MI"
            ],
            [
             1950,
             0,
             2982483,
             9,
             331387,
             "MN"
            ],
            [
             1950,
             -1,
             2178914,
             6,
             363152,
             "MS"
            ],
            [
             1950,
             -2,
             3954653,
             11,
             359514,
             "MO"
            ],
            [
             1950,
             0,
             591024,
             2,
             295512,
             "MT"
            ],
            [
             1950,
             0,
             1325510,
             4,
             331378,
             "NE"
            ],
            [
             1950,
             0,
             160083,
             1,
             160083,
             "NV"
            ],
            [
             1950,
             0,
             533242,
             2,
             266621,
             "NH"
            ],
            [
             1950,
             0,
             4835329,
             14,
             345381,
             "NJ"
            ],
            [
             1950,
             0,
             681187,
             2,
             340594,
             "NM"
            ],
            [
             1950,
             -2,
             14830192,
             43,
             344888,
             "NY"
            ],
            [
             1950,
             0,
             4061929,
             12,
             338494,
             "NC"
            ],
            [
             1950,
             0,
             619636,
             2,
             309818,
             "ND"
            ],
            [
             1950,
             0,
             7946627,
             23,
             345506,
             "OH"
            ],
            [
             1950,
             -2,
             2233351,
             6,
             372225,
             "OK"
            ],
            [
             1950,
             0,
             1521341,
             4,
             380335,
             "OR"
            ],
            [
             1950,
             -3,
             10498012,
             30,
             349934,
             "PA"
            ],
            [
             1950,
             0,
             791896,
             2,
             395948,
             "RI"
            ],
            [
             1950,
             0,
             2117027,
             6,
             352838,
             "SC"
            ],
            [
             1950,
             0,
             652740,
             2,
             326370,
             "SD"
            ],
            [
             1950,
             -1,
             3291718,
             9,
             365746,
             "TN"
            ],
            [
             1950,
             1,
             7711194,
             22,
             350509,
             "TX"
            ],
            [
             1950,
             0,
             688862,
             2,
             344431,
             "UT"
            ],
            [
             1950,
             0,
             377747,
             1,
             377747,
             "VT"
            ],
            [
             1950,
             1,
             3318680,
             10,
             331868,
             "VA"
            ],
            [
             1950,
             1,
             2378963,
             7,
             339852,
             "WA"
            ],
            [
             1950,
             0,
             2005552,
             6,
             334259,
             "WV"
            ],
            [
             1950,
             0,
             3434575,
             10,
             343458,
             "WI"
            ],
            [
             1950,
             0,
             290529,
             1,
             290529,
             "WY"
            ]
           ],
           "geo": "geo",
           "hovertemplate": "<b>%{hovertext}</b><br><br>Year=%{customdata[0]}<br>Seat change=%{z}<br>Apportionment population=%{customdata[2]}<br>Number of representatives=%{customdata[3]}<br>Average persons per representative=%{customdata[4]}<extra></extra>",
           "hovertext": [
            "Alabama",
            "Alaska",
            "Arizona",
            "Arkansas",
            "California",
            "Colorado",
            "Connecticut",
            "Delaware",
            "Florida",
            "Georgia",
            "Hawaii",
            "Idaho",
            "Illinois",
            "Indiana",
            "Iowa",
            "Kansas",
            "Kentucky",
            "Louisiana",
            "Maine",
            "Maryland",
            "Massachusetts",
            "Michigan",
            "Minnesota",
            "Mississippi",
            "Missouri",
            "Montana",
            "Nebraska",
            "Nevada",
            "New Hampshire",
            "New Jersey",
            "New Mexico",
            "New York",
            "North Carolina",
            "North Dakota",
            "Ohio",
            "Oklahoma",
            "Oregon",
            "Pennsylvania",
            "Rhode Island",
            "South Carolina",
            "South Dakota",
            "Tennessee",
            "Texas",
            "Utah",
            "Vermont",
            "Virginia",
            "Washington",
            "West Virginia",
            "Wisconsin",
            "Wyoming"
           ],
           "locationmode": "USA-states",
           "locations": [
            "AL",
            "AK",
            "AZ",
            "AR",
            "CA",
            "CO",
            "CT",
            "DE",
            "FL",
            "GA",
            "HI",
            "ID",
            "IL",
            "IN",
            "IA",
            "KS",
            "KY",
            "LA",
            "ME",
            "MD",
            "MA",
            "MI",
            "MN",
            "MS",
            "MO",
            "MT",
            "NE",
            "NV",
            "NH",
            "NJ",
            "NM",
            "NY",
            "NC",
            "ND",
            "OH",
            "OK",
            "OR",
            "PA",
            "RI",
            "SC",
            "SD",
            "TN",
            "TX",
            "UT",
            "VT",
            "VA",
            "WA",
            "WV",
            "WI",
            "WY"
           ],
           "name": "",
           "type": "choropleth",
           "z": [
            0,
            null,
            0,
            -1,
            7,
            0,
            0,
            0,
            2,
            0,
            null,
            0,
            -1,
            0,
            0,
            0,
            -1,
            0,
            0,
            1,
            0,
            1,
            0,
            -1,
            -2,
            0,
            0,
            0,
            0,
            0,
            0,
            -2,
            0,
            0,
            0,
            -2,
            0,
            -3,
            0,
            0,
            0,
            -1,
            1,
            0,
            0,
            1,
            1,
            0,
            0,
            0
           ]
          }
         ],
         "name": "1950"
        },
        {
         "data": [
          {
           "coloraxis": "coloraxis",
           "customdata": [
            [
             1960,
             -1,
             3266740,
             8,
             408343,
             "AL"
            ],
            [
             1960,
             null,
             226167,
             1,
             226167,
             "AK"
            ],
            [
             1960,
             1,
             1302161,
             3,
             434054,
             "AZ"
            ],
            [
             1960,
             -2,
             1786272,
             4,
             446568,
             "AR"
            ],
            [
             1960,
             8,
             15717204,
             38,
             413611,
             "CA"
            ],
            [
             1960,
             0,
             1753947,
             4,
             438487,
             "CO"
            ],
            [
             1960,
             0,
             2535234,
             6,
             422539,
             "CT"
            ],
            [
             1960,
             0,
             446292,
             1,
             446292,
             "DE"
            ],
            [
             1960,
             4,
             4951560,
             12,
             412630,
             "FL"
            ],
            [
             1960,
             0,
             3943116,
             10,
             394312,
             "GA"
            ],
            [
             1960,
             null,
             632772,
             2,
             316386,
             "HI"
            ],
            [
             1960,
             0,
             667191,
             2,
             333596,
             "ID"
            ],
            [
             1960,
             -1,
             10081158,
             24,
             420048,
             "IL"
            ],
            [
             1960,
             0,
             4662498,
             11,
             423863,
             "IN"
            ],
            [
             1960,
             -1,
             2757537,
             7,
             393934,
             "IA"
            ],
            [
             1960,
             -1,
             2178611,
             5,
             435722,
             "KS"
            ],
            [
             1960,
             -1,
             3038156,
             7,
             434022,
             "KY"
            ],
            [
             1960,
             0,
             3257022,
             8,
             407128,
             "LA"
            ],
            [
             1960,
             -1,
             969265,
             2,
             484633,
             "ME"
            ],
            [
             1960,
             1,
             3100689,
             8,
             387586,
             "MD"
            ],
            [
             1960,
             -2,
             5148578,
             12,
             429048,
             "MA"
            ],
            [
             1960,
             1,
             7823194,
             19,
             411747,
             "MI"
            ],
            [
             1960,
             -1,
             3413864,
             8,
             426733,
             "MN"
            ],
            [
             1960,
             -1,
             2178141,
             5,
             435628,
             "MS"
            ],
            [
             1960,
             -1,
             4319813,
             10,
             431981,
             "MO"
            ],
            [
             1960,
             0,
             674767,
             2,
             337384,
             "MT"
            ],
            [
             1960,
             -1,
             1411330,
             3,
             470443,
             "NE"
            ],
            [
             1960,
             0,
             285278,
             1,
             285278,
             "NV"
            ],
            [
             1960,
             0,
             606921,
             2,
             303461,
             "NH"
            ],
            [
             1960,
             1,
             6066782,
             15,
             404452,
             "NJ"
            ],
            [
             1960,
             0,
             951023,
             2,
             475512,
             "NM"
            ],
            [
             1960,
             -2,
             16782304,
             41,
             409324,
             "NY"
            ],
            [
             1960,
             -1,
             4556155,
             11,
             414196,
             "NC"
            ],
            [
             1960,
             0,
             632446,
             2,
             316223,
             "ND"
            ],
            [
             1960,
             1,
             9706397,
             24,
             404433,
             "OH"
            ],
            [
             1960,
             0,
             2328284,
             6,
             388047,
             "OK"
            ],
            [
             1960,
             0,
             1768687,
             4,
             442172,
             "OR"
            ],
            [
             1960,
             -3,
             11319366,
             27,
             419236,
             "PA"
            ],
            [
             1960,
             0,
             859488,
             2,
             429744,
             "RI"
            ],
            [
             1960,
             0,
             2382594,
             6,
             397099,
             "SC"
            ],
            [
             1960,
             0,
             680514,
             2,
             340257,
             "SD"
            ],
            [
             1960,
             0,
             3567089,
             9,
             396343,
             "TN"
            ],
            [
             1960,
             1,
             9579677,
             23,
             416508,
             "TX"
            ],
            [
             1960,
             0,
             890627,
             2,
             445314,
             "UT"
            ],
            [
             1960,
             0,
             389881,
             1,
             389881,
             "VT"
            ],
            [
             1960,
             0,
             3966949,
             10,
             396695,
             "VA"
            ],
            [
             1960,
             0,
             2853214,
             7,
             407602,
             "WA"
            ],
            [
             1960,
             -1,
             1860421,
             5,
             372084,
             "WV"
            ],
            [
             1960,
             0,
             3951777,
             10,
             395178,
             "WI"
            ],
            [
             1960,
             0,
             330066,
             1,
             330066,
             "WY"
            ]
           ],
           "geo": "geo",
           "hovertemplate": "<b>%{hovertext}</b><br><br>Year=%{customdata[0]}<br>Seat change=%{z}<br>Apportionment population=%{customdata[2]}<br>Number of representatives=%{customdata[3]}<br>Average persons per representative=%{customdata[4]}<extra></extra>",
           "hovertext": [
            "Alabama",
            "Alaska",
            "Arizona",
            "Arkansas",
            "California",
            "Colorado",
            "Connecticut",
            "Delaware",
            "Florida",
            "Georgia",
            "Hawaii",
            "Idaho",
            "Illinois",
            "Indiana",
            "Iowa",
            "Kansas",
            "Kentucky",
            "Louisiana",
            "Maine",
            "Maryland",
            "Massachusetts",
            "Michigan",
            "Minnesota",
            "Mississippi",
            "Missouri",
            "Montana",
            "Nebraska",
            "Nevada",
            "New Hampshire",
            "New Jersey",
            "New Mexico",
            "New York",
            "North Carolina",
            "North Dakota",
            "Ohio",
            "Oklahoma",
            "Oregon",
            "Pennsylvania",
            "Rhode Island",
            "South Carolina",
            "South Dakota",
            "Tennessee",
            "Texas",
            "Utah",
            "Vermont",
            "Virginia",
            "Washington",
            "West Virginia",
            "Wisconsin",
            "Wyoming"
           ],
           "locationmode": "USA-states",
           "locations": [
            "AL",
            "AK",
            "AZ",
            "AR",
            "CA",
            "CO",
            "CT",
            "DE",
            "FL",
            "GA",
            "HI",
            "ID",
            "IL",
            "IN",
            "IA",
            "KS",
            "KY",
            "LA",
            "ME",
            "MD",
            "MA",
            "MI",
            "MN",
            "MS",
            "MO",
            "MT",
            "NE",
            "NV",
            "NH",
            "NJ",
            "NM",
            "NY",
            "NC",
            "ND",
            "OH",
            "OK",
            "OR",
            "PA",
            "RI",
            "SC",
            "SD",
            "TN",
            "TX",
            "UT",
            "VT",
            "VA",
            "WA",
            "WV",
            "WI",
            "WY"
           ],
           "name": "",
           "type": "choropleth",
           "z": [
            -1,
            null,
            1,
            -2,
            8,
            0,
            0,
            0,
            4,
            0,
            null,
            0,
            -1,
            0,
            -1,
            -1,
            -1,
            0,
            -1,
            1,
            -2,
            1,
            -1,
            -1,
            -1,
            0,
            -1,
            0,
            0,
            1,
            0,
            -2,
            -1,
            0,
            1,
            0,
            0,
            -3,
            0,
            0,
            0,
            0,
            1,
            0,
            0,
            0,
            0,
            -1,
            0,
            0
           ]
          }
         ],
         "name": "1960"
        },
        {
         "data": [
          {
           "coloraxis": "coloraxis",
           "customdata": [
            [
             1970,
             -1,
             3475885,
             7,
             496555,
             "AL"
            ],
            [
             1970,
             0,
             304067,
             1,
             304067,
             "AK"
            ],
            [
             1970,
             1,
             1787620,
             4,
             446905,
             "AZ"
            ],
            [
             1970,
             0,
             1942303,
             4,
             485576,
             "AR"
            ],
            [
             1970,
             5,
             20098863,
             43,
             467415,
             "CA"
            ],
            [
             1970,
             1,
             2226771,
             5,
             445354,
             "CO"
            ],
            [
             1970,
             0,
             3050693,
             6,
             508449,
             "CT"
            ],
            [
             1970,
             0,
             551928,
             1,
             551928,
             "DE"
            ],
            [
             1970,
             3,
             6855702,
             15,
             457047,
             "FL"
            ],
            [
             1970,
             0,
             4627306,
             10,
             462731,
             "GA"
            ],
            [
             1970,
             0,
             784901,
             2,
             392451,
             "HI"
            ],
            [
             1970,
             0,
             719921,
             2,
             359961,
             "ID"
            ],
            [
             1970,
             0,
             11184320,
             24,
             466013,
             "IL"
            ],
            [
             1970,
             0,
             5228156,
             11,
             475287,
             "IN"
            ],
            [
             1970,
             -1,
             2846920,
             6,
             474487,
             "IA"
            ],
            [
             1970,
             0,
             2265846,
             5,
             453169,
             "KS"
            ],
            [
             1970,
             0,
             3246481,
             7,
             463783,
             "KY"
            ],
            [
             1970,
             0,
             3672008,
             8,
             459001,
             "LA"
            ],
            [
             1970,
             0,
             1006320,
             2,
             503160,
             "ME"
            ],
            [
             1970,
             0,
             3953698,
             8,
             494212,
             "MD"
            ],
            [
             1970,
             0,
             5726676,
             12,
             477223,
             "MA"
            ],
            [
             1970,
             0,
             8937196,
             19,
             470379,
             "MI"
            ],
            [
             1970,
             0,
             3833173,
             8,
             479147,
             "MN"
            ],
            [
             1970,
             0,
             2233848,
             5,
             446770,
             "MS"
            ],
            [
             1970,
             0,
             4718034,
             10,
             471803,
             "MO"
            ],
            [
             1970,
             0,
             701573,
             2,
             350787,
             "MT"
            ],
            [
             1970,
             0,
             1496820,
             3,
             498940,
             "NE"
            ],
            [
             1970,
             0,
             492396,
             1,
             492396,
             "NV"
            ],
            [
             1970,
             0,
             746284,
             2,
             373142,
             "NH"
            ],
            [
             1970,
             0,
             7208035,
             15,
             480536,
             "NJ"
            ],
            [
             1970,
             0,
             1026664,
             2,
             513332,
             "NM"
            ],
            [
             1970,
             -2,
             18338055,
             39,
             470207,
             "NY"
            ],
            [
             1970,
             0,
             5125230,
             11,
             465930,
             "NC"
            ],
            [
             1970,
             -1,
             624181,
             1,
             624181,
             "ND"
            ],
            [
             1970,
             -1,
             10730200,
             23,
             466530,
             "OH"
            ],
            [
             1970,
             0,
             2585486,
             6,
             430914,
             "OK"
            ],
            [
             1970,
             0,
             2110810,
             4,
             527703,
             "OR"
            ],
            [
             1970,
             -2,
             11884314,
             25,
             475373,
             "PA"
            ],
            [
             1970,
             0,
             957798,
             2,
             478899,
             "RI"
            ],
            [
             1970,
             0,
             2617320,
             6,
             436220,
             "SC"
            ],
            [
             1970,
             0,
             673247,
             2,
             336624,
             "SD"
            ],
            [
             1970,
             -1,
             3961060,
             8,
             495133,
             "TN"
            ],
            [
             1970,
             1,
             11298787,
             24,
             470783,
             "TX"
            ],
            [
             1970,
             0,
             1067810,
             2,
             533905,
             "UT"
            ],
            [
             1970,
             0,
             448327,
             1,
             448327,
             "VT"
            ],
            [
             1970,
             0,
             4690742,
             10,
             469074,
             "VA"
            ],
            [
             1970,
             0,
             3443487,
             7,
             491927,
             "WA"
            ],
            [
             1970,
             -1,
             1763331,
             4,
             440833,
             "WV"
            ],
            [
             1970,
             -1,
             4447013,
             9,
             494113,
             "WI"
            ],
            [
             1970,
             0,
             335719,
             1,
             335719,
             "WY"
            ]
           ],
           "geo": "geo",
           "hovertemplate": "<b>%{hovertext}</b><br><br>Year=%{customdata[0]}<br>Seat change=%{z}<br>Apportionment population=%{customdata[2]}<br>Number of representatives=%{customdata[3]}<br>Average persons per representative=%{customdata[4]}<extra></extra>",
           "hovertext": [
            "Alabama",
            "Alaska",
            "Arizona",
            "Arkansas",
            "California",
            "Colorado",
            "Connecticut",
            "Delaware",
            "Florida",
            "Georgia",
            "Hawaii",
            "Idaho",
            "Illinois",
            "Indiana",
            "Iowa",
            "Kansas",
            "Kentucky",
            "Louisiana",
            "Maine",
            "Maryland",
            "Massachusetts",
            "Michigan",
            "Minnesota",
            "Mississippi",
            "Missouri",
            "Montana",
            "Nebraska",
            "Nevada",
            "New Hampshire",
            "New Jersey",
            "New Mexico",
            "New York",
            "North Carolina",
            "North Dakota",
            "Ohio",
            "Oklahoma",
            "Oregon",
            "Pennsylvania",
            "Rhode Island",
            "South Carolina",
            "South Dakota",
            "Tennessee",
            "Texas",
            "Utah",
            "Vermont",
            "Virginia",
            "Washington",
            "West Virginia",
            "Wisconsin",
            "Wyoming"
           ],
           "locationmode": "USA-states",
           "locations": [
            "AL",
            "AK",
            "AZ",
            "AR",
            "CA",
            "CO",
            "CT",
            "DE",
            "FL",
            "GA",
            "HI",
            "ID",
            "IL",
            "IN",
            "IA",
            "KS",
            "KY",
            "LA",
            "ME",
            "MD",
            "MA",
            "MI",
            "MN",
            "MS",
            "MO",
            "MT",
            "NE",
            "NV",
            "NH",
            "NJ",
            "NM",
            "NY",
            "NC",
            "ND",
            "OH",
            "OK",
            "OR",
            "PA",
            "RI",
            "SC",
            "SD",
            "TN",
            "TX",
            "UT",
            "VT",
            "VA",
            "WA",
            "WV",
            "WI",
            "WY"
           ],
           "name": "",
           "type": "choropleth",
           "z": [
            -1,
            0,
            1,
            0,
            5,
            1,
            0,
            0,
            3,
            0,
            0,
            0,
            0,
            0,
            -1,
            0,
            0,
            0,
            0,
            0,
            0,
            0,
            0,
            0,
            0,
            0,
            0,
            0,
            0,
            0,
            0,
            -2,
            0,
            -1,
            -1,
            0,
            0,
            -2,
            0,
            0,
            0,
            -1,
            1,
            0,
            0,
            0,
            0,
            -1,
            -1,
            0
           ]
          }
         ],
         "name": "1970"
        },
        {
         "data": [
          {
           "coloraxis": "coloraxis",
           "customdata": [
            [
             1980,
             0,
             3890061,
             7,
             555723,
             "AL"
            ],
            [
             1980,
             0,
             400481,
             1,
             400481,
             "AK"
            ],
            [
             1980,
             1,
             2717866,
             5,
             543573,
             "AZ"
            ],
            [
             1980,
             0,
             2285513,
             4,
             571378,
             "AR"
            ],
            [
             1980,
             2,
             23668562,
             45,
             525968,
             "CA"
            ],
            [
             1980,
             1,
             2888834,
             6,
             481472,
             "CO"
            ],
            [
             1980,
             0,
             3107576,
             6,
             517929,
             "CT"
            ],
            [
             1980,
             0,
             595225,
             1,
             595225,
             "DE"
            ],
            [
             1980,
             4,
             9739992,
             19,
             512631,
             "FL"
            ],
            [
             1980,
             0,
             5464265,
             10,
             546427,
             "GA"
            ],
            [
             1980,
             0,
             965000,
             2,
             482500,
             "HI"
            ],
            [
             1980,
             0,
             943935,
             2,
             471968,
             "ID"
            ],
            [
             1980,
             -2,
             11418461,
             22,
             519021,
             "IL"
            ],
            [
             1980,
             -1,
             5490179,
             10,
             549018,
             "IN"
            ],
            [
             1980,
             0,
             2913387,
             6,
             485565,
             "IA"
            ],
            [
             1980,
             0,
             2363208,
             5,
             472642,
             "KS"
            ],
            [
             1980,
             0,
             3661433,
             7,
             523062,
             "KY"
            ],
            [
             1980,
             0,
             4203972,
             8,
             525497,
             "LA"
            ],
            [
             1980,
             0,
             1124660,
             2,
             562330,
             "ME"
            ],
            [
             1980,
             0,
             4216446,
             8,
             527056,
             "MD"
            ],
            [
             1980,
             -1,
             5737037,
             11,
             521549,
             "MA"
            ],
            [
             1980,
             -1,
             9258344,
             18,
             514352,
             "MI"
            ],
            [
             1980,
             0,
             4077148,
             8,
             509644,
             "MN"
            ],
            [
             1980,
             0,
             2520638,
             5,
             504128,
             "MS"
            ],
            [
             1980,
             -1,
             4917444,
             9,
             546383,
             "MO"
            ],
            [
             1980,
             0,
             786690,
             2,
             393345,
             "MT"
            ],
            [
             1980,
             0,
             1570006,
             3,
             523335,
             "NE"
            ],
            [
             1980,
             1,
             799184,
             2,
             399592,
             "NV"
            ],
            [
             1980,
             0,
             920610,
             2,
             460305,
             "NH"
            ],
            [
             1980,
             -1,
             7364158,
             14,
             526011,
             "NJ"
            ],
            [
             1980,
             1,
             1299968,
             3,
             433323,
             "NM"
            ],
            [
             1980,
             -5,
             17557288,
             34,
             516391,
             "NY"
            ],
            [
             1980,
             0,
             5874429,
             11,
             534039,
             "NC"
            ],
            [
             1980,
             0,
             652695,
             1,
             652695,
             "ND"
            ],
            [
             1980,
             -2,
             10797419,
             21,
             514163,
             "OH"
            ],
            [
             1980,
             0,
             3025266,
             6,
             504211,
             "OK"
            ],
            [
             1980,
             1,
             2632663,
             5,
             526533,
             "OR"
            ],
            [
             1980,
             -2,
             11866728,
             23,
             515945,
             "PA"
            ],
            [
             1980,
             0,
             947154,
             2,
             473577,
             "RI"
            ],
            [
             1980,
             0,
             3119208,
             6,
             519868,
             "SC"
            ],
            [
             1980,
             -1,
             690178,
             1,
             690178,
             "SD"
            ],
            [
             1980,
             1,
             4590750,
             9,
             510083,
             "TN"
            ],
            [
             1980,
             3,
             14228383,
             27,
             526977,
             "TX"
            ],
            [
             1980,
             1,
             1461037,
             3,
             487012,
             "UT"
            ],
            [
             1980,
             0,
             511456,
             1,
             511456,
             "VT"
            ],
            [
             1980,
             0,
             5346279,
             10,
             534628,
             "VA"
            ],
            [
             1980,
             1,
             4130163,
             8,
             516270,
             "WA"
            ],
            [
             1980,
             0,
             1949644,
             4,
             487411,
             "WV"
            ],
            [
             1980,
             0,
             4705335,
             9,
             522815,
             "WI"
            ],
            [
             1980,
             0,
             470816,
             1,
             470816,
             "WY"
            ]
           ],
           "geo": "geo",
           "hovertemplate": "<b>%{hovertext}</b><br><br>Year=%{customdata[0]}<br>Seat change=%{z}<br>Apportionment population=%{customdata[2]}<br>Number of representatives=%{customdata[3]}<br>Average persons per representative=%{customdata[4]}<extra></extra>",
           "hovertext": [
            "Alabama",
            "Alaska",
            "Arizona",
            "Arkansas",
            "California",
            "Colorado",
            "Connecticut",
            "Delaware",
            "Florida",
            "Georgia",
            "Hawaii",
            "Idaho",
            "Illinois",
            "Indiana",
            "Iowa",
            "Kansas",
            "Kentucky",
            "Louisiana",
            "Maine",
            "Maryland",
            "Massachusetts",
            "Michigan",
            "Minnesota",
            "Mississippi",
            "Missouri",
            "Montana",
            "Nebraska",
            "Nevada",
            "New Hampshire",
            "New Jersey",
            "New Mexico",
            "New York",
            "North Carolina",
            "North Dakota",
            "Ohio",
            "Oklahoma",
            "Oregon",
            "Pennsylvania",
            "Rhode Island",
            "South Carolina",
            "South Dakota",
            "Tennessee",
            "Texas",
            "Utah",
            "Vermont",
            "Virginia",
            "Washington",
            "West Virginia",
            "Wisconsin",
            "Wyoming"
           ],
           "locationmode": "USA-states",
           "locations": [
            "AL",
            "AK",
            "AZ",
            "AR",
            "CA",
            "CO",
            "CT",
            "DE",
            "FL",
            "GA",
            "HI",
            "ID",
            "IL",
            "IN",
            "IA",
            "KS",
            "KY",
            "LA",
            "ME",
            "MD",
            "MA",
            "MI",
            "MN",
            "MS",
            "MO",
            "MT",
            "NE",
            "NV",
            "NH",
            "NJ",
            "NM",
            "NY",
            "NC",
            "ND",
            "OH",
            "OK",
            "OR",
            "PA",
            "RI",
            "SC",
            "SD",
            "TN",
            "TX",
            "UT",
            "VT",
            "VA",
            "WA",
            "WV",
            "WI",
            "WY"
           ],
           "name": "",
           "type": "choropleth",
           "z": [
            0,
            0,
            1,
            0,
            2,
            1,
            0,
            0,
            4,
            0,
            0,
            0,
            -2,
            -1,
            0,
            0,
            0,
            0,
            0,
            0,
            -1,
            -1,
            0,
            0,
            -1,
            0,
            0,
            1,
            0,
            -1,
            1,
            -5,
            0,
            0,
            -2,
            0,
            1,
            -2,
            0,
            0,
            -1,
            1,
            3,
            1,
            0,
            0,
            1,
            0,
            0,
            0
           ]
          }
         ],
         "name": "1980"
        },
        {
         "data": [
          {
           "coloraxis": "coloraxis",
           "customdata": [
            [
             1990,
             0,
             4062608,
             7,
             580373,
             "AL"
            ],
            [
             1990,
             0,
             551947,
             1,
             551947,
             "AK"
            ],
            [
             1990,
             1,
             3677985,
             6,
             612998,
             "AZ"
            ],
            [
             1990,
             0,
             2362239,
             4,
             590560,
             "AR"
            ],
            [
             1990,
             7,
             29839250,
             52,
             573832,
             "CA"
            ],
            [
             1990,
             0,
             3307912,
             6,
             551319,
             "CO"
            ],
            [
             1990,
             0,
             3295669,
             6,
             549278,
             "CT"
            ],
            [
             1990,
             0,
             668696,
             1,
             668696,
             "DE"
            ],
            [
             1990,
             4,
             13003362,
             23,
             565364,
             "FL"
            ],
            [
             1990,
             1,
             6508419,
             11,
             591674,
             "GA"
            ],
            [
             1990,
             0,
             1115274,
             2,
             557637,
             "HI"
            ],
            [
             1990,
             0,
             1011986,
             2,
             505993,
             "ID"
            ],
            [
             1990,
             -2,
             11466682,
             20,
             573334,
             "IL"
            ],
            [
             1990,
             0,
             5564228,
             10,
             556423,
             "IN"
            ],
            [
             1990,
             -1,
             2787424,
             5,
             557485,
             "IA"
            ],
            [
             1990,
             -1,
             2485600,
             4,
             621400,
             "KS"
            ],
            [
             1990,
             -1,
             3698969,
             6,
             616495,
             "KY"
            ],
            [
             1990,
             -1,
             4238216,
             7,
             605459,
             "LA"
            ],
            [
             1990,
             0,
             1233223,
             2,
             616612,
             "ME"
            ],
            [
             1990,
             0,
             4798622,
             8,
             599828,
             "MD"
            ],
            [
             1990,
             -1,
             6029051,
             10,
             602905,
             "MA"
            ],
            [
             1990,
             -2,
             9328784,
             16,
             583049,
             "MI"
            ],
            [
             1990,
             0,
             4387029,
             8,
             548379,
             "MN"
            ],
            [
             1990,
             0,
             2586443,
             5,
             517289,
             "MS"
            ],
            [
             1990,
             0,
             5137804,
             9,
             570867,
             "MO"
            ],
            [
             1990,
             -1,
             803655,
             1,
             803655,
             "MT"
            ],
            [
             1990,
             0,
             1584617,
             3,
             528206,
             "NE"
            ],
            [
             1990,
             0,
             1206152,
             2,
             603076,
             "NV"
            ],
            [
             1990,
             0,
             1113915,
             2,
             556958,
             "NH"
            ],
            [
             1990,
             -1,
             7748634,
             13,
             596049,
             "NJ"
            ],
            [
             1990,
             0,
             1521779,
             3,
             507260,
             "NM"
            ],
            [
             1990,
             -3,
             18044505,
             31,
             582081,
             "NY"
            ],
            [
             1990,
             1,
             6657630,
             12,
             554803,
             "NC"
            ],
            [
             1990,
             0,
             641364,
             1,
             641364,
             "ND"
            ],
            [
             1990,
             -2,
             10887325,
             19,
             573017,
             "OH"
            ],
            [
             1990,
             0,
             3157604,
             6,
             526267,
             "OK"
            ],
            [
             1990,
             0,
             2853733,
             5,
             570747,
             "OR"
            ],
            [
             1990,
             -2,
             11924710,
             21,
             567843,
             "PA"
            ],
            [
             1990,
             0,
             1005984,
             2,
             502992,
             "RI"
            ],
            [
             1990,
             0,
             3505707,
             6,
             584285,
             "SC"
            ],
            [
             1990,
             0,
             699999,
             1,
             699999,
             "SD"
            ],
            [
             1990,
             0,
             4896641,
             9,
             544071,
             "TN"
            ],
            [
             1990,
             3,
             17059805,
             30,
             568660,
             "TX"
            ],
            [
             1990,
             0,
             1727784,
             3,
             575928,
             "UT"
            ],
            [
             1990,
             0,
             564964,
             1,
             564964,
             "VT"
            ],
            [
             1990,
             1,
             6216568,
             11,
             565143,
             "VA"
            ],
            [
             1990,
             1,
             4887941,
             9,
             543105,
             "WA"
            ],
            [
             1990,
             -1,
             1801625,
             3,
             600542,
             "WV"
            ],
            [
             1990,
             0,
             4906745,
             9,
             545194,
             "WI"
            ],
            [
             1990,
             0,
             455975,
             1,
             455975,
             "WY"
            ]
           ],
           "geo": "geo",
           "hovertemplate": "<b>%{hovertext}</b><br><br>Year=%{customdata[0]}<br>Seat change=%{z}<br>Apportionment population=%{customdata[2]}<br>Number of representatives=%{customdata[3]}<br>Average persons per representative=%{customdata[4]}<extra></extra>",
           "hovertext": [
            "Alabama",
            "Alaska",
            "Arizona",
            "Arkansas",
            "California",
            "Colorado",
            "Connecticut",
            "Delaware",
            "Florida",
            "Georgia",
            "Hawaii",
            "Idaho",
            "Illinois",
            "Indiana",
            "Iowa",
            "Kansas",
            "Kentucky",
            "Louisiana",
            "Maine",
            "Maryland",
            "Massachusetts",
            "Michigan",
            "Minnesota",
            "Mississippi",
            "Missouri",
            "Montana",
            "Nebraska",
            "Nevada",
            "New Hampshire",
            "New Jersey",
            "New Mexico",
            "New York",
            "North Carolina",
            "North Dakota",
            "Ohio",
            "Oklahoma",
            "Oregon",
            "Pennsylvania",
            "Rhode Island",
            "South Carolina",
            "South Dakota",
            "Tennessee",
            "Texas",
            "Utah",
            "Vermont",
            "Virginia",
            "Washington",
            "West Virginia",
            "Wisconsin",
            "Wyoming"
           ],
           "locationmode": "USA-states",
           "locations": [
            "AL",
            "AK",
            "AZ",
            "AR",
            "CA",
            "CO",
            "CT",
            "DE",
            "FL",
            "GA",
            "HI",
            "ID",
            "IL",
            "IN",
            "IA",
            "KS",
            "KY",
            "LA",
            "ME",
            "MD",
            "MA",
            "MI",
            "MN",
            "MS",
            "MO",
            "MT",
            "NE",
            "NV",
            "NH",
            "NJ",
            "NM",
            "NY",
            "NC",
            "ND",
            "OH",
            "OK",
            "OR",
            "PA",
            "RI",
            "SC",
            "SD",
            "TN",
            "TX",
            "UT",
            "VT",
            "VA",
            "WA",
            "WV",
            "WI",
            "WY"
           ],
           "name": "",
           "type": "choropleth",
           "z": [
            0,
            0,
            1,
            0,
            7,
            0,
            0,
            0,
            4,
            1,
            0,
            0,
            -2,
            0,
            -1,
            -1,
            -1,
            -1,
            0,
            0,
            -1,
            -2,
            0,
            0,
            0,
            -1,
            0,
            0,
            0,
            -1,
            0,
            -3,
            1,
            0,
            -2,
            0,
            0,
            -2,
            0,
            0,
            0,
            0,
            3,
            0,
            0,
            1,
            1,
            -1,
            0,
            0
           ]
          }
         ],
         "name": "1990"
        },
        {
         "data": [
          {
           "coloraxis": "coloraxis",
           "customdata": [
            [
             2000,
             0,
             4461130,
             7,
             637304,
             "AL"
            ],
            [
             2000,
             0,
             628933,
             1,
             628933,
             "AK"
            ],
            [
             2000,
             2,
             5140683,
             8,
             642585,
             "AZ"
            ],
            [
             2000,
             0,
             2679733,
             4,
             669933,
             "AR"
            ],
            [
             2000,
             1,
             33930798,
             53,
             640204,
             "CA"
            ],
            [
             2000,
             1,
             4311882,
             7,
             615983,
             "CO"
            ],
            [
             2000,
             -1,
             3409535,
             5,
             681907,
             "CT"
            ],
            [
             2000,
             0,
             785068,
             1,
             785068,
             "DE"
            ],
            [
             2000,
             2,
             16028890,
             25,
             641156,
             "FL"
            ],
            [
             2000,
             2,
             8206975,
             13,
             631306,
             "GA"
            ],
            [
             2000,
             0,
             1216642,
             2,
             608321,
             "HI"
            ],
            [
             2000,
             0,
             1297274,
             2,
             648637,
             "ID"
            ],
            [
             2000,
             -1,
             12439042,
             19,
             654686,
             "IL"
            ],
            [
             2000,
             -1,
             6090782,
             9,
             676754,
             "IN"
            ],
            [
             2000,
             0,
             2931923,
             5,
             586385,
             "IA"
            ],
            [
             2000,
             0,
             2693824,
             4,
             673456,
             "KS"
            ],
            [
             2000,
             0,
             4049431,
             6,
             674905,
             "KY"
            ],
            [
             2000,
             0,
             4480271,
             7,
             640039,
             "LA"
            ],
            [
             2000,
             0,
             1277731,
             2,
             638866,
             "ME"
            ],
            [
             2000,
             0,
             5307886,
             8,
             663486,
             "MD"
            ],
            [
             2000,
             0,
             6355568,
             10,
             635557,
             "MA"
            ],
            [
             2000,
             -1,
             9955829,
             15,
             663722,
             "MI"
            ],
            [
             2000,
             0,
             4925670,
             8,
             615709,
             "MN"
            ],
            [
             2000,
             -1,
             2852927,
             4,
             713232,
             "MS"
            ],
            [
             2000,
             0,
             5606260,
             9,
             622918,
             "MO"
            ],
            [
             2000,
             0,
             905316,
             1,
             905316,
             "MT"
            ],
            [
             2000,
             0,
             1715369,
             3,
             571790,
             "NE"
            ],
            [
             2000,
             1,
             2002032,
             3,
             667344,
             "NV"
            ],
            [
             2000,
             0,
             1238415,
             2,
             619208,
             "NH"
            ],
            [
             2000,
             0,
             8424354,
             13,
             648027,
             "NJ"
            ],
            [
             2000,
             0,
             1823821,
             3,
             607940,
             "NM"
            ],
            [
             2000,
             -2,
             19004973,
             29,
             655344,
             "NY"
            ],
            [
             2000,
             1,
             8067673,
             13,
             620590,
             "NC"
            ],
            [
             2000,
             0,
             643756,
             1,
             643756,
             "ND"
            ],
            [
             2000,
             -1,
             11374540,
             18,
             631919,
             "OH"
            ],
            [
             2000,
             -1,
             3458819,
             5,
             691764,
             "OK"
            ],
            [
             2000,
             0,
             3428543,
             5,
             685709,
             "OR"
            ],
            [
             2000,
             -2,
             12300670,
             19,
             647404,
             "PA"
            ],
            [
             2000,
             0,
             1049662,
             2,
             524831,
             "RI"
            ],
            [
             2000,
             0,
             4025061,
             6,
             670844,
             "SC"
            ],
            [
             2000,
             0,
             756874,
             1,
             756874,
             "SD"
            ],
            [
             2000,
             0,
             5700037,
             9,
             633337,
             "TN"
            ],
            [
             2000,
             2,
             20903994,
             32,
             653250,
             "TX"
            ],
            [
             2000,
             0,
             2236714,
             3,
             745571,
             "UT"
            ],
            [
             2000,
             0,
             609890,
             1,
             609890,
             "VT"
            ],
            [
             2000,
             0,
             7100702,
             11,
             645518,
             "VA"
            ],
            [
             2000,
             0,
             5908684,
             9,
             656520,
             "WA"
            ],
            [
             2000,
             0,
             1813077,
             3,
             604359,
             "WV"
            ],
            [
             2000,
             -1,
             5371210,
             8,
             671401,
             "WI"
            ],
            [
             2000,
             0,
             495304,
             1,
             495304,
             "WY"
            ]
           ],
           "geo": "geo",
           "hovertemplate": "<b>%{hovertext}</b><br><br>Year=%{customdata[0]}<br>Seat change=%{z}<br>Apportionment population=%{customdata[2]}<br>Number of representatives=%{customdata[3]}<br>Average persons per representative=%{customdata[4]}<extra></extra>",
           "hovertext": [
            "Alabama",
            "Alaska",
            "Arizona",
            "Arkansas",
            "California",
            "Colorado",
            "Connecticut",
            "Delaware",
            "Florida",
            "Georgia",
            "Hawaii",
            "Idaho",
            "Illinois",
            "Indiana",
            "Iowa",
            "Kansas",
            "Kentucky",
            "Louisiana",
            "Maine",
            "Maryland",
            "Massachusetts",
            "Michigan",
            "Minnesota",
            "Mississippi",
            "Missouri",
            "Montana",
            "Nebraska",
            "Nevada",
            "New Hampshire",
            "New Jersey",
            "New Mexico",
            "New York",
            "North Carolina",
            "North Dakota",
            "Ohio",
            "Oklahoma",
            "Oregon",
            "Pennsylvania",
            "Rhode Island",
            "South Carolina",
            "South Dakota",
            "Tennessee",
            "Texas",
            "Utah",
            "Vermont",
            "Virginia",
            "Washington",
            "West Virginia",
            "Wisconsin",
            "Wyoming"
           ],
           "locationmode": "USA-states",
           "locations": [
            "AL",
            "AK",
            "AZ",
            "AR",
            "CA",
            "CO",
            "CT",
            "DE",
            "FL",
            "GA",
            "HI",
            "ID",
            "IL",
            "IN",
            "IA",
            "KS",
            "KY",
            "LA",
            "ME",
            "MD",
            "MA",
            "MI",
            "MN",
            "MS",
            "MO",
            "MT",
            "NE",
            "NV",
            "NH",
            "NJ",
            "NM",
            "NY",
            "NC",
            "ND",
            "OH",
            "OK",
            "OR",
            "PA",
            "RI",
            "SC",
            "SD",
            "TN",
            "TX",
            "UT",
            "VT",
            "VA",
            "WA",
            "WV",
            "WI",
            "WY"
           ],
           "name": "",
           "type": "choropleth",
           "z": [
            0,
            0,
            2,
            0,
            1,
            1,
            -1,
            0,
            2,
            2,
            0,
            0,
            -1,
            -1,
            0,
            0,
            0,
            0,
            0,
            0,
            0,
            -1,
            0,
            -1,
            0,
            0,
            0,
            1,
            0,
            0,
            0,
            -2,
            1,
            0,
            -1,
            -1,
            0,
            -2,
            0,
            0,
            0,
            0,
            2,
            0,
            0,
            0,
            0,
            0,
            -1,
            0
           ]
          }
         ],
         "name": "2000"
        },
        {
         "data": [
          {
           "coloraxis": "coloraxis",
           "customdata": [
            [
             2010,
             0,
             4802982,
             7,
             686140,
             "AL"
            ],
            [
             2010,
             0,
             721523,
             1,
             721523,
             "AK"
            ],
            [
             2010,
             1,
             6412700,
             9,
             712522,
             "AZ"
            ],
            [
             2010,
             0,
             2926229,
             4,
             731557,
             "AR"
            ],
            [
             2010,
             0,
             37341989,
             53,
             704566,
             "CA"
            ],
            [
             2010,
             0,
             5044930,
             7,
             720704,
             "CO"
            ],
            [
             2010,
             0,
             3581628,
             5,
             716326,
             "CT"
            ],
            [
             2010,
             0,
             900877,
             1,
             900877,
             "DE"
            ],
            [
             2010,
             2,
             18900773,
             27,
             700029,
             "FL"
            ],
            [
             2010,
             1,
             9727566,
             14,
             694826,
             "GA"
            ],
            [
             2010,
             0,
             1366862,
             2,
             683431,
             "HI"
            ],
            [
             2010,
             0,
             1573499,
             2,
             786750,
             "ID"
            ],
            [
             2010,
             -1,
             12864380,
             18,
             714688,
             "IL"
            ],
            [
             2010,
             0,
             6501582,
             9,
             722398,
             "IN"
            ],
            [
             2010,
             -1,
             3053787,
             4,
             763447,
             "IA"
            ],
            [
             2010,
             0,
             2863813,
             4,
             715953,
             "KS"
            ],
            [
             2010,
             0,
             4350606,
             6,
             725101,
             "KY"
            ],
            [
             2010,
             -1,
             4553962,
             6,
             758994,
             "LA"
            ],
            [
             2010,
             0,
             1333074,
             2,
             666537,
             "ME"
            ],
            [
             2010,
             0,
             5789929,
             8,
             723741,
             "MD"
            ],
            [
             2010,
             -1,
             6559644,
             9,
             728849,
             "MA"
            ],
            [
             2010,
             -1,
             9911626,
             14,
             707973,
             "MI"
            ],
            [
             2010,
             0,
             5314879,
             8,
             664360,
             "MN"
            ],
            [
             2010,
             0,
             2978240,
             4,
             744560,
             "MS"
            ],
            [
             2010,
             -1,
             6011478,
             8,
             751435,
             "MO"
            ],
            [
             2010,
             0,
             994416,
             1,
             994416,
             "MT"
            ],
            [
             2010,
             0,
             1831825,
             3,
             610608,
             "NE"
            ],
            [
             2010,
             1,
             2709432,
             4,
             677358,
             "NV"
            ],
            [
             2010,
             0,
             1321445,
             2,
             660723,
             "NH"
            ],
            [
             2010,
             -1,
             8807501,
             12,
             733958,
             "NJ"
            ],
            [
             2010,
             0,
             2067273,
             3,
             689091,
             "NM"
            ],
            [
             2010,
             -2,
             19421055,
             27,
             719298,
             "NY"
            ],
            [
             2010,
             0,
             9565781,
             13,
             735829,
             "NC"
            ],
            [
             2010,
             0,
             675905,
             1,
             675905,
             "ND"
            ],
            [
             2010,
             -2,
             11568495,
             16,
             723031,
             "OH"
            ],
            [
             2010,
             0,
             3764882,
             5,
             752976,
             "OK"
            ],
            [
             2010,
             0,
             3848606,
             5,
             769721,
             "OR"
            ],
            [
             2010,
             -1,
             12734905,
             18,
             707495,
             "PA"
            ],
            [
             2010,
             0,
             1055247,
             2,
             527624,
             "RI"
            ],
            [
             2010,
             1,
             4645975,
             7,
             663711,
             "SC"
            ],
            [
             2010,
             0,
             819761,
             1,
             819761,
             "SD"
            ],
            [
             2010,
             0,
             6375431,
             9,
             708381,
             "TN"
            ],
            [
             2010,
             4,
             25268418,
             36,
             701901,
             "TX"
            ],
            [
             2010,
             1,
             2770765,
             4,
             692691,
             "UT"
            ],
            [
             2010,
             0,
             630337,
             1,
             630337,
             "VT"
            ],
            [
             2010,
             0,
             8037736,
             11,
             730703,
             "VA"
            ],
            [
             2010,
             1,
             6753369,
             10,
             675337,
             "WA"
            ],
            [
             2010,
             0,
             1859815,
             3,
             619938,
             "WV"
            ],
            [
             2010,
             0,
             5698230,
             8,
             712279,
             "WI"
            ],
            [
             2010,
             0,
             568300,
             1,
             568300,
             "WY"
            ]
           ],
           "geo": "geo",
           "hovertemplate": "<b>%{hovertext}</b><br><br>Year=%{customdata[0]}<br>Seat change=%{z}<br>Apportionment population=%{customdata[2]}<br>Number of representatives=%{customdata[3]}<br>Average persons per representative=%{customdata[4]}<extra></extra>",
           "hovertext": [
            "Alabama",
            "Alaska",
            "Arizona",
            "Arkansas",
            "California",
            "Colorado",
            "Connecticut",
            "Delaware",
            "Florida",
            "Georgia",
            "Hawaii",
            "Idaho",
            "Illinois",
            "Indiana",
            "Iowa",
            "Kansas",
            "Kentucky",
            "Louisiana",
            "Maine",
            "Maryland",
            "Massachusetts",
            "Michigan",
            "Minnesota",
            "Mississippi",
            "Missouri",
            "Montana",
            "Nebraska",
            "Nevada",
            "New Hampshire",
            "New Jersey",
            "New Mexico",
            "New York",
            "North Carolina",
            "North Dakota",
            "Ohio",
            "Oklahoma",
            "Oregon",
            "Pennsylvania",
            "Rhode Island",
            "South Carolina",
            "South Dakota",
            "Tennessee",
            "Texas",
            "Utah",
            "Vermont",
            "Virginia",
            "Washington",
            "West Virginia",
            "Wisconsin",
            "Wyoming"
           ],
           "locationmode": "USA-states",
           "locations": [
            "AL",
            "AK",
            "AZ",
            "AR",
            "CA",
            "CO",
            "CT",
            "DE",
            "FL",
            "GA",
            "HI",
            "ID",
            "IL",
            "IN",
            "IA",
            "KS",
            "KY",
            "LA",
            "ME",
            "MD",
            "MA",
            "MI",
            "MN",
            "MS",
            "MO",
            "MT",
            "NE",
            "NV",
            "NH",
            "NJ",
            "NM",
            "NY",
            "NC",
            "ND",
            "OH",
            "OK",
            "OR",
            "PA",
            "RI",
            "SC",
            "SD",
            "TN",
            "TX",
            "UT",
            "VT",
            "VA",
            "WA",
            "WV",
            "WI",
            "WY"
           ],
           "name": "",
           "type": "choropleth",
           "z": [
            0,
            0,
            1,
            0,
            0,
            0,
            0,
            0,
            2,
            1,
            0,
            0,
            -1,
            0,
            -1,
            0,
            0,
            -1,
            0,
            0,
            -1,
            -1,
            0,
            0,
            -1,
            0,
            0,
            1,
            0,
            -1,
            0,
            -2,
            0,
            0,
            -2,
            0,
            0,
            -1,
            0,
            1,
            0,
            0,
            4,
            1,
            0,
            0,
            1,
            0,
            0,
            0
           ]
          }
         ],
         "name": "2010"
        },
        {
         "data": [
          {
           "coloraxis": "coloraxis",
           "customdata": [
            [
             2020,
             0,
             5030053,
             7,
             718579,
             "AL"
            ],
            [
             2020,
             0,
             736081,
             1,
             736081,
             "AK"
            ],
            [
             2020,
             0,
             7158923,
             9,
             795436,
             "AZ"
            ],
            [
             2020,
             0,
             3013756,
             4,
             753439,
             "AR"
            ],
            [
             2020,
             -1,
             39576757,
             52,
             761091,
             "CA"
            ],
            [
             2020,
             1,
             5782171,
             8,
             722771,
             "CO"
            ],
            [
             2020,
             0,
             3608298,
             5,
             721660,
             "CT"
            ],
            [
             2020,
             0,
             990837,
             1,
             990837,
             "DE"
            ],
            [
             2020,
             1,
             21570527,
             28,
             770376,
             "FL"
            ],
            [
             2020,
             0,
             10725274,
             14,
             766091,
             "GA"
            ],
            [
             2020,
             0,
             1460137,
             2,
             730069,
             "HI"
            ],
            [
             2020,
             0,
             1841377,
             2,
             920689,
             "ID"
            ],
            [
             2020,
             -1,
             12822739,
             17,
             754279,
             "IL"
            ],
            [
             2020,
             0,
             6790280,
             9,
             754476,
             "IN"
            ],
            [
             2020,
             0,
             3192406,
             4,
             798102,
             "IA"
            ],
            [
             2020,
             0,
             2940865,
             4,
             735216,
             "KS"
            ],
            [
             2020,
             0,
             4509342,
             6,
             751557,
             "KY"
            ],
            [
             2020,
             0,
             4661468,
             6,
             776911,
             "LA"
            ],
            [
             2020,
             0,
             1363582,
             2,
             681791,
             "ME"
            ],
            [
             2020,
             0,
             6185278,
             8,
             773160,
             "MD"
            ],
            [
             2020,
             0,
             7033469,
             9,
             781497,
             "MA"
            ],
            [
             2020,
             -1,
             10084442,
             13,
             775726,
             "MI"
            ],
            [
             2020,
             0,
             5709752,
             8,
             713719,
             "MN"
            ],
            [
             2020,
             0,
             2963914,
             4,
             740979,
             "MS"
            ],
            [
             2020,
             0,
             6160281,
             8,
             770035,
             "MO"
            ],
            [
             2020,
             1,
             1085407,
             2,
             542704,
             "MT"
            ],
            [
             2020,
             0,
             1963333,
             3,
             654444,
             "NE"
            ],
            [
             2020,
             0,
             3108462,
             4,
             777116,
             "NV"
            ],
            [
             2020,
             0,
             1379089,
             2,
             689545,
             "NH"
            ],
            [
             2020,
             0,
             9294493,
             12,
             774541,
             "NJ"
            ],
            [
             2020,
             0,
             2120220,
             3,
             706740,
             "NM"
            ],
            [
             2020,
             -1,
             20215751,
             26,
             777529,
             "NY"
            ],
            [
             2020,
             1,
             10453948,
             14,
             746711,
             "NC"
            ],
            [
             2020,
             0,
             779702,
             1,
             779702,
             "ND"
            ],
            [
             2020,
             -1,
             11808848,
             15,
             787257,
             "OH"
            ],
            [
             2020,
             0,
             3963516,
             5,
             792703,
             "OK"
            ],
            [
             2020,
             1,
             4241500,
             6,
             706917,
             "OR"
            ],
            [
             2020,
             -1,
             13011844,
             17,
             765403,
             "PA"
            ],
            [
             2020,
             0,
             1098163,
             2,
             549082,
             "RI"
            ],
            [
             2020,
             0,
             5124712,
             7,
             732102,
             "SC"
            ],
            [
             2020,
             0,
             887770,
             1,
             887770,
             "SD"
            ],
            [
             2020,
             0,
             6916897,
             9,
             768544,
             "TN"
            ],
            [
             2020,
             2,
             29183290,
             38,
             767981,
             "TX"
            ],
            [
             2020,
             0,
             3275252,
             4,
             818813,
             "UT"
            ],
            [
             2020,
             0,
             643503,
             1,
             643503,
             "VT"
            ],
            [
             2020,
             0,
             8654542,
             11,
             786777,
             "VA"
            ],
            [
             2020,
             0,
             7715946,
             10,
             771595,
             "WA"
            ],
            [
             2020,
             -1,
             1795045,
             2,
             897523,
             "WV"
            ],
            [
             2020,
             0,
             5897473,
             8,
             737184,
             "WI"
            ],
            [
             2020,
             0,
             577719,
             1,
             577719,
             "WY"
            ]
           ],
           "geo": "geo",
           "hovertemplate": "<b>%{hovertext}</b><br><br>Year=%{customdata[0]}<br>Seat change=%{z}<br>Apportionment population=%{customdata[2]}<br>Number of representatives=%{customdata[3]}<br>Average persons per representative=%{customdata[4]}<extra></extra>",
           "hovertext": [
            "Alabama",
            "Alaska",
            "Arizona",
            "Arkansas",
            "California",
            "Colorado",
            "Connecticut",
            "Delaware",
            "Florida",
            "Georgia",
            "Hawaii",
            "Idaho",
            "Illinois",
            "Indiana",
            "Iowa",
            "Kansas",
            "Kentucky",
            "Louisiana",
            "Maine",
            "Maryland",
            "Massachusetts",
            "Michigan",
            "Minnesota",
            "Mississippi",
            "Missouri",
            "Montana",
            "Nebraska",
            "Nevada",
            "New Hampshire",
            "New Jersey",
            "New Mexico",
            "New York",
            "North Carolina",
            "North Dakota",
            "Ohio",
            "Oklahoma",
            "Oregon",
            "Pennsylvania",
            "Rhode Island",
            "South Carolina",
            "South Dakota",
            "Tennessee",
            "Texas",
            "Utah",
            "Vermont",
            "Virginia",
            "Washington",
            "West Virginia",
            "Wisconsin",
            "Wyoming"
           ],
           "locationmode": "USA-states",
           "locations": [
            "AL",
            "AK",
            "AZ",
            "AR",
            "CA",
            "CO",
            "CT",
            "DE",
            "FL",
            "GA",
            "HI",
            "ID",
            "IL",
            "IN",
            "IA",
            "KS",
            "KY",
            "LA",
            "ME",
            "MD",
            "MA",
            "MI",
            "MN",
            "MS",
            "MO",
            "MT",
            "NE",
            "NV",
            "NH",
            "NJ",
            "NM",
            "NY",
            "NC",
            "ND",
            "OH",
            "OK",
            "OR",
            "PA",
            "RI",
            "SC",
            "SD",
            "TN",
            "TX",
            "UT",
            "VT",
            "VA",
            "WA",
            "WV",
            "WI",
            "WY"
           ],
           "name": "",
           "type": "choropleth",
           "z": [
            0,
            0,
            0,
            0,
            -1,
            1,
            0,
            0,
            1,
            0,
            0,
            0,
            -1,
            0,
            0,
            0,
            0,
            0,
            0,
            0,
            0,
            -1,
            0,
            0,
            0,
            1,
            0,
            0,
            0,
            0,
            0,
            -1,
            1,
            0,
            -1,
            0,
            1,
            -1,
            0,
            0,
            0,
            0,
            2,
            0,
            0,
            0,
            0,
            -1,
            0,
            0
           ]
          }
         ],
         "name": "2020"
        }
       ],
       "layout": {
        "coloraxis": {
         "cmax": 10,
         "cmin": -5,
         "colorbar": {
          "title": {
           "text": "Seat change"
          }
         },
         "colorscale": [
          [
           0,
           "#000004"
          ],
          [
           0.1111111111111111,
           "#1b0c41"
          ],
          [
           0.2222222222222222,
           "#4a0c6b"
          ],
          [
           0.3333333333333333,
           "#781c6d"
          ],
          [
           0.4444444444444444,
           "#a52c60"
          ],
          [
           0.5555555555555556,
           "#cf4446"
          ],
          [
           0.6666666666666666,
           "#ed6925"
          ],
          [
           0.7777777777777778,
           "#fb9b06"
          ],
          [
           0.8888888888888888,
           "#f7d13d"
          ],
          [
           1,
           "#fcffa4"
          ]
         ]
        },
        "geo": {
         "center": {},
         "domain": {
          "x": [
           0,
           1
          ],
          "y": [
           0,
           1
          ]
         },
         "scope": "usa"
        },
        "height": 600,
        "legend": {
         "tracegroupgap": 0
        },
        "sliders": [
         {
          "active": 0,
          "currentvalue": {
           "prefix": "Year="
          },
          "len": 0.9,
          "pad": {
           "b": 10,
           "t": 60
          },
          "steps": [
           {
            "args": [
             [
              "1910"
             ],
             {
              "frame": {
               "duration": 0,
               "redraw": true
              },
              "fromcurrent": true,
              "mode": "immediate",
              "transition": {
               "duration": 0,
               "easing": "linear"
              }
             }
            ],
            "label": "1910",
            "method": "animate"
           },
           {
            "args": [
             [
              "1920"
             ],
             {
              "frame": {
               "duration": 0,
               "redraw": true
              },
              "fromcurrent": true,
              "mode": "immediate",
              "transition": {
               "duration": 0,
               "easing": "linear"
              }
             }
            ],
            "label": "1920",
            "method": "animate"
           },
           {
            "args": [
             [
              "1930"
             ],
             {
              "frame": {
               "duration": 0,
               "redraw": true
              },
              "fromcurrent": true,
              "mode": "immediate",
              "transition": {
               "duration": 0,
               "easing": "linear"
              }
             }
            ],
            "label": "1930",
            "method": "animate"
           },
           {
            "args": [
             [
              "1940"
             ],
             {
              "frame": {
               "duration": 0,
               "redraw": true
              },
              "fromcurrent": true,
              "mode": "immediate",
              "transition": {
               "duration": 0,
               "easing": "linear"
              }
             }
            ],
            "label": "1940",
            "method": "animate"
           },
           {
            "args": [
             [
              "1950"
             ],
             {
              "frame": {
               "duration": 0,
               "redraw": true
              },
              "fromcurrent": true,
              "mode": "immediate",
              "transition": {
               "duration": 0,
               "easing": "linear"
              }
             }
            ],
            "label": "1950",
            "method": "animate"
           },
           {
            "args": [
             [
              "1960"
             ],
             {
              "frame": {
               "duration": 0,
               "redraw": true
              },
              "fromcurrent": true,
              "mode": "immediate",
              "transition": {
               "duration": 0,
               "easing": "linear"
              }
             }
            ],
            "label": "1960",
            "method": "animate"
           },
           {
            "args": [
             [
              "1970"
             ],
             {
              "frame": {
               "duration": 0,
               "redraw": true
              },
              "fromcurrent": true,
              "mode": "immediate",
              "transition": {
               "duration": 0,
               "easing": "linear"
              }
             }
            ],
            "label": "1970",
            "method": "animate"
           },
           {
            "args": [
             [
              "1980"
             ],
             {
              "frame": {
               "duration": 0,
               "redraw": true
              },
              "fromcurrent": true,
              "mode": "immediate",
              "transition": {
               "duration": 0,
               "easing": "linear"
              }
             }
            ],
            "label": "1980",
            "method": "animate"
           },
           {
            "args": [
             [
              "1990"
             ],
             {
              "frame": {
               "duration": 0,
               "redraw": true
              },
              "fromcurrent": true,
              "mode": "immediate",
              "transition": {
               "duration": 0,
               "easing": "linear"
              }
             }
            ],
            "label": "1990",
            "method": "animate"
           },
           {
            "args": [
             [
              "2000"
             ],
             {
              "frame": {
               "duration": 0,
               "redraw": true
              },
              "fromcurrent": true,
              "mode": "immediate",
              "transition": {
               "duration": 0,
               "easing": "linear"
              }
             }
            ],
            "label": "2000",
            "method": "animate"
           },
           {
            "args": [
             [
              "2010"
             ],
             {
              "frame": {
               "duration": 0,
               "redraw": true
              },
              "fromcurrent": true,
              "mode": "immediate",
              "transition": {
               "duration": 0,
               "easing": "linear"
              }
             }
            ],
            "label": "2010",
            "method": "animate"
           },
           {
            "args": [
             [
              "2020"
             ],
             {
              "frame": {
               "duration": 0,
               "redraw": true
              },
              "fromcurrent": true,
              "mode": "immediate",
              "transition": {
               "duration": 0,
               "easing": "linear"
              }
             }
            ],
            "label": "2020",
            "method": "animate"
           }
          ],
          "x": 0.1,
          "xanchor": "left",
          "y": 0,
          "yanchor": "top"
         }
        ],
        "template": {
         "data": {
          "bar": [
           {
            "error_x": {
             "color": "#2a3f5f"
            },
            "error_y": {
             "color": "#2a3f5f"
            },
            "marker": {
             "line": {
              "color": "#E5ECF6",
              "width": 0.5
             }
            },
            "type": "bar"
           }
          ],
          "barpolar": [
           {
            "marker": {
             "line": {
              "color": "#E5ECF6",
              "width": 0.5
             }
            },
            "type": "barpolar"
           }
          ],
          "carpet": [
           {
            "aaxis": {
             "endlinecolor": "#2a3f5f",
             "gridcolor": "white",
             "linecolor": "white",
             "minorgridcolor": "white",
             "startlinecolor": "#2a3f5f"
            },
            "baxis": {
             "endlinecolor": "#2a3f5f",
             "gridcolor": "white",
             "linecolor": "white",
             "minorgridcolor": "white",
             "startlinecolor": "#2a3f5f"
            },
            "type": "carpet"
           }
          ],
          "choropleth": [
           {
            "colorbar": {
             "outlinewidth": 0,
             "ticks": ""
            },
            "type": "choropleth"
           }
          ],
          "contour": [
           {
            "colorbar": {
             "outlinewidth": 0,
             "ticks": ""
            },
            "colorscale": [
             [
              0,
              "#0d0887"
             ],
             [
              0.1111111111111111,
              "#46039f"
             ],
             [
              0.2222222222222222,
              "#7201a8"
             ],
             [
              0.3333333333333333,
              "#9c179e"
             ],
             [
              0.4444444444444444,
              "#bd3786"
             ],
             [
              0.5555555555555556,
              "#d8576b"
             ],
             [
              0.6666666666666666,
              "#ed7953"
             ],
             [
              0.7777777777777778,
              "#fb9f3a"
             ],
             [
              0.8888888888888888,
              "#fdca26"
             ],
             [
              1,
              "#f0f921"
             ]
            ],
            "type": "contour"
           }
          ],
          "contourcarpet": [
           {
            "colorbar": {
             "outlinewidth": 0,
             "ticks": ""
            },
            "type": "contourcarpet"
           }
          ],
          "heatmap": [
           {
            "colorbar": {
             "outlinewidth": 0,
             "ticks": ""
            },
            "colorscale": [
             [
              0,
              "#0d0887"
             ],
             [
              0.1111111111111111,
              "#46039f"
             ],
             [
              0.2222222222222222,
              "#7201a8"
             ],
             [
              0.3333333333333333,
              "#9c179e"
             ],
             [
              0.4444444444444444,
              "#bd3786"
             ],
             [
              0.5555555555555556,
              "#d8576b"
             ],
             [
              0.6666666666666666,
              "#ed7953"
             ],
             [
              0.7777777777777778,
              "#fb9f3a"
             ],
             [
              0.8888888888888888,
              "#fdca26"
             ],
             [
              1,
              "#f0f921"
             ]
            ],
            "type": "heatmap"
           }
          ],
          "heatmapgl": [
           {
            "colorbar": {
             "outlinewidth": 0,
             "ticks": ""
            },
            "colorscale": [
             [
              0,
              "#0d0887"
             ],
             [
              0.1111111111111111,
              "#46039f"
             ],
             [
              0.2222222222222222,
              "#7201a8"
             ],
             [
              0.3333333333333333,
              "#9c179e"
             ],
             [
              0.4444444444444444,
              "#bd3786"
             ],
             [
              0.5555555555555556,
              "#d8576b"
             ],
             [
              0.6666666666666666,
              "#ed7953"
             ],
             [
              0.7777777777777778,
              "#fb9f3a"
             ],
             [
              0.8888888888888888,
              "#fdca26"
             ],
             [
              1,
              "#f0f921"
             ]
            ],
            "type": "heatmapgl"
           }
          ],
          "histogram": [
           {
            "marker": {
             "colorbar": {
              "outlinewidth": 0,
              "ticks": ""
             }
            },
            "type": "histogram"
           }
          ],
          "histogram2d": [
           {
            "colorbar": {
             "outlinewidth": 0,
             "ticks": ""
            },
            "colorscale": [
             [
              0,
              "#0d0887"
             ],
             [
              0.1111111111111111,
              "#46039f"
             ],
             [
              0.2222222222222222,
              "#7201a8"
             ],
             [
              0.3333333333333333,
              "#9c179e"
             ],
             [
              0.4444444444444444,
              "#bd3786"
             ],
             [
              0.5555555555555556,
              "#d8576b"
             ],
             [
              0.6666666666666666,
              "#ed7953"
             ],
             [
              0.7777777777777778,
              "#fb9f3a"
             ],
             [
              0.8888888888888888,
              "#fdca26"
             ],
             [
              1,
              "#f0f921"
             ]
            ],
            "type": "histogram2d"
           }
          ],
          "histogram2dcontour": [
           {
            "colorbar": {
             "outlinewidth": 0,
             "ticks": ""
            },
            "colorscale": [
             [
              0,
              "#0d0887"
             ],
             [
              0.1111111111111111,
              "#46039f"
             ],
             [
              0.2222222222222222,
              "#7201a8"
             ],
             [
              0.3333333333333333,
              "#9c179e"
             ],
             [
              0.4444444444444444,
              "#bd3786"
             ],
             [
              0.5555555555555556,
              "#d8576b"
             ],
             [
              0.6666666666666666,
              "#ed7953"
             ],
             [
              0.7777777777777778,
              "#fb9f3a"
             ],
             [
              0.8888888888888888,
              "#fdca26"
             ],
             [
              1,
              "#f0f921"
             ]
            ],
            "type": "histogram2dcontour"
           }
          ],
          "mesh3d": [
           {
            "colorbar": {
             "outlinewidth": 0,
             "ticks": ""
            },
            "type": "mesh3d"
           }
          ],
          "parcoords": [
           {
            "line": {
             "colorbar": {
              "outlinewidth": 0,
              "ticks": ""
             }
            },
            "type": "parcoords"
           }
          ],
          "pie": [
           {
            "automargin": true,
            "type": "pie"
           }
          ],
          "scatter": [
           {
            "marker": {
             "colorbar": {
              "outlinewidth": 0,
              "ticks": ""
             }
            },
            "type": "scatter"
           }
          ],
          "scatter3d": [
           {
            "line": {
             "colorbar": {
              "outlinewidth": 0,
              "ticks": ""
             }
            },
            "marker": {
             "colorbar": {
              "outlinewidth": 0,
              "ticks": ""
             }
            },
            "type": "scatter3d"
           }
          ],
          "scattercarpet": [
           {
            "marker": {
             "colorbar": {
              "outlinewidth": 0,
              "ticks": ""
             }
            },
            "type": "scattercarpet"
           }
          ],
          "scattergeo": [
           {
            "marker": {
             "colorbar": {
              "outlinewidth": 0,
              "ticks": ""
             }
            },
            "type": "scattergeo"
           }
          ],
          "scattergl": [
           {
            "marker": {
             "colorbar": {
              "outlinewidth": 0,
              "ticks": ""
             }
            },
            "type": "scattergl"
           }
          ],
          "scattermapbox": [
           {
            "marker": {
             "colorbar": {
              "outlinewidth": 0,
              "ticks": ""
             }
            },
            "type": "scattermapbox"
           }
          ],
          "scatterpolar": [
           {
            "marker": {
             "colorbar": {
              "outlinewidth": 0,
              "ticks": ""
             }
            },
            "type": "scatterpolar"
           }
          ],
          "scatterpolargl": [
           {
            "marker": {
             "colorbar": {
              "outlinewidth": 0,
              "ticks": ""
             }
            },
            "type": "scatterpolargl"
           }
          ],
          "scatterternary": [
           {
            "marker": {
             "colorbar": {
              "outlinewidth": 0,
              "ticks": ""
             }
            },
            "type": "scatterternary"
           }
          ],
          "surface": [
           {
            "colorbar": {
             "outlinewidth": 0,
             "ticks": ""
            },
            "colorscale": [
             [
              0,
              "#0d0887"
             ],
             [
              0.1111111111111111,
              "#46039f"
             ],
             [
              0.2222222222222222,
              "#7201a8"
             ],
             [
              0.3333333333333333,
              "#9c179e"
             ],
             [
              0.4444444444444444,
              "#bd3786"
             ],
             [
              0.5555555555555556,
              "#d8576b"
             ],
             [
              0.6666666666666666,
              "#ed7953"
             ],
             [
              0.7777777777777778,
              "#fb9f3a"
             ],
             [
              0.8888888888888888,
              "#fdca26"
             ],
             [
              1,
              "#f0f921"
             ]
            ],
            "type": "surface"
           }
          ],
          "table": [
           {
            "cells": {
             "fill": {
              "color": "#EBF0F8"
             },
             "line": {
              "color": "white"
             }
            },
            "header": {
             "fill": {
              "color": "#C8D4E3"
             },
             "line": {
              "color": "white"
             }
            },
            "type": "table"
           }
          ]
         },
         "layout": {
          "annotationdefaults": {
           "arrowcolor": "#2a3f5f",
           "arrowhead": 0,
           "arrowwidth": 1
          },
          "autotypenumbers": "strict",
          "coloraxis": {
           "colorbar": {
            "outlinewidth": 0,
            "ticks": ""
           }
          },
          "colorscale": {
           "diverging": [
            [
             0,
             "#8e0152"
            ],
            [
             0.1,
             "#c51b7d"
            ],
            [
             0.2,
             "#de77ae"
            ],
            [
             0.3,
             "#f1b6da"
            ],
            [
             0.4,
             "#fde0ef"
            ],
            [
             0.5,
             "#f7f7f7"
            ],
            [
             0.6,
             "#e6f5d0"
            ],
            [
             0.7,
             "#b8e186"
            ],
            [
             0.8,
             "#7fbc41"
            ],
            [
             0.9,
             "#4d9221"
            ],
            [
             1,
             "#276419"
            ]
           ],
           "sequential": [
            [
             0,
             "#0d0887"
            ],
            [
             0.1111111111111111,
             "#46039f"
            ],
            [
             0.2222222222222222,
             "#7201a8"
            ],
            [
             0.3333333333333333,
             "#9c179e"
            ],
            [
             0.4444444444444444,
             "#bd3786"
            ],
            [
             0.5555555555555556,
             "#d8576b"
            ],
            [
             0.6666666666666666,
             "#ed7953"
            ],
            [
             0.7777777777777778,
             "#fb9f3a"
            ],
            [
             0.8888888888888888,
             "#fdca26"
            ],
            [
             1,
             "#f0f921"
            ]
           ],
           "sequentialminus": [
            [
             0,
             "#0d0887"
            ],
            [
             0.1111111111111111,
             "#46039f"
            ],
            [
             0.2222222222222222,
             "#7201a8"
            ],
            [
             0.3333333333333333,
             "#9c179e"
            ],
            [
             0.4444444444444444,
             "#bd3786"
            ],
            [
             0.5555555555555556,
             "#d8576b"
            ],
            [
             0.6666666666666666,
             "#ed7953"
            ],
            [
             0.7777777777777778,
             "#fb9f3a"
            ],
            [
             0.8888888888888888,
             "#fdca26"
            ],
            [
             1,
             "#f0f921"
            ]
           ]
          },
          "colorway": [
           "#636efa",
           "#EF553B",
           "#00cc96",
           "#ab63fa",
           "#FFA15A",
           "#19d3f3",
           "#FF6692",
           "#B6E880",
           "#FF97FF",
           "#FECB52"
          ],
          "font": {
           "color": "#2a3f5f"
          },
          "geo": {
           "bgcolor": "white",
           "lakecolor": "white",
           "landcolor": "#E5ECF6",
           "showlakes": true,
           "showland": true,
           "subunitcolor": "white"
          },
          "hoverlabel": {
           "align": "left"
          },
          "hovermode": "closest",
          "mapbox": {
           "style": "light"
          },
          "paper_bgcolor": "white",
          "plot_bgcolor": "#E5ECF6",
          "polar": {
           "angularaxis": {
            "gridcolor": "white",
            "linecolor": "white",
            "ticks": ""
           },
           "bgcolor": "#E5ECF6",
           "radialaxis": {
            "gridcolor": "white",
            "linecolor": "white",
            "ticks": ""
           }
          },
          "scene": {
           "xaxis": {
            "backgroundcolor": "#E5ECF6",
            "gridcolor": "white",
            "gridwidth": 2,
            "linecolor": "white",
            "showbackground": true,
            "ticks": "",
            "zerolinecolor": "white"
           },
           "yaxis": {
            "backgroundcolor": "#E5ECF6",
            "gridcolor": "white",
            "gridwidth": 2,
            "linecolor": "white",
            "showbackground": true,
            "ticks": "",
            "zerolinecolor": "white"
           },
           "zaxis": {
            "backgroundcolor": "#E5ECF6",
            "gridcolor": "white",
            "gridwidth": 2,
            "linecolor": "white",
            "showbackground": true,
            "ticks": "",
            "zerolinecolor": "white"
           }
          },
          "shapedefaults": {
           "line": {
            "color": "#2a3f5f"
           }
          },
          "ternary": {
           "aaxis": {
            "gridcolor": "white",
            "linecolor": "white",
            "ticks": ""
           },
           "baxis": {
            "gridcolor": "white",
            "linecolor": "white",
            "ticks": ""
           },
           "bgcolor": "#E5ECF6",
           "caxis": {
            "gridcolor": "white",
            "linecolor": "white",
            "ticks": ""
           }
          },
          "title": {
           "x": 0.05
          },
          "xaxis": {
           "automargin": true,
           "gridcolor": "white",
           "linecolor": "white",
           "ticks": "",
           "title": {
            "standoff": 15
           },
           "zerolinecolor": "white",
           "zerolinewidth": 2
          },
          "yaxis": {
           "automargin": true,
           "gridcolor": "white",
           "linecolor": "white",
           "ticks": "",
           "title": {
            "standoff": 15
           },
           "zerolinecolor": "white",
           "zerolinewidth": 2
          }
         }
        },
        "title": {
         "text": "Change in Number of Seats in U.S. House of Representatives by State: 1910 to 2020"
        },
        "updatemenus": [
         {
          "buttons": [
           {
            "args": [
             null,
             {
              "frame": {
               "duration": 500,
               "redraw": true
              },
              "fromcurrent": true,
              "mode": "immediate",
              "transition": {
               "duration": 500,
               "easing": "linear"
              }
             }
            ],
            "label": "&#9654;",
            "method": "animate"
           },
           {
            "args": [
             [
              null
             ],
             {
              "frame": {
               "duration": 0,
               "redraw": true
              },
              "fromcurrent": true,
              "mode": "immediate",
              "transition": {
               "duration": 0,
               "easing": "linear"
              }
             }
            ],
            "label": "&#9724;",
            "method": "animate"
           }
          ],
          "direction": "left",
          "pad": {
           "r": 10,
           "t": 70
          },
          "showactive": false,
          "type": "buttons",
          "x": 0.1,
          "xanchor": "right",
          "y": 0,
          "yanchor": "top"
         }
        ]
       }
      },
      "text/html": [
       "<div>                            <div id=\"4abef6e9-180b-4ceb-8dd6-bf15e87644da\" class=\"plotly-graph-div\" style=\"height:600px; width:100%;\"></div>            <script type=\"text/javascript\">                require([\"plotly\"], function(Plotly) {                    window.PLOTLYENV=window.PLOTLYENV || {};                                    if (document.getElementById(\"4abef6e9-180b-4ceb-8dd6-bf15e87644da\")) {                    Plotly.newPlot(                        \"4abef6e9-180b-4ceb-8dd6-bf15e87644da\",                        [{\"coloraxis\": \"coloraxis\", \"customdata\": [[1910, 1.0, 2138093.0, 10.0, 213809.0, \"AL\"], [1910, null, null, null, null, \"AK\"], [1910, null, null, null, null, \"AZ\"], [1910, 0.0, 1574449.0, 7.0, 224921.0, \"AR\"], [1910, 3.0, 2376561.0, 11.0, 216051.0, \"CA\"], [1910, 1.0, 798572.0, 4.0, 199643.0, \"CO\"], [1910, 0.0, 1114756.0, 5.0, 222951.0, \"CT\"], [1910, 0.0, 202322.0, 1.0, 202322.0, \"DE\"], [1910, 1.0, 752619.0, 4.0, 188155.0, \"FL\"], [1910, 1.0, 2609121.0, 12.0, 217427.0, \"GA\"], [1910, null, null, null, null, \"HI\"], [1910, 1.0, 323440.0, 2.0, 161720.0, \"ID\"], [1910, 2.0, 5638591.0, 27.0, 208837.0, \"IL\"], [1910, 0.0, 2700876.0, 13.0, 207760.0, \"IN\"], [1910, 0.0, 2224771.0, 11.0, 202252.0, \"IA\"], [1910, 0.0, 1690949.0, 8.0, 211369.0, \"KS\"], [1910, 0.0, 2289905.0, 11.0, 208173.0, \"KY\"], [1910, 1.0, 1656388.0, 8.0, 207049.0, \"LA\"], [1910, 0.0, 742371.0, 4.0, 185593.0, \"ME\"], [1910, 0.0, 1295346.0, 6.0, 215891.0, \"MD\"], [1910, 2.0, 3366416.0, 16.0, 210401.0, \"MA\"], [1910, 1.0, 2810173.0, 13.0, 216167.0, \"MI\"], [1910, 1.0, 2074376.0, 10.0, 207438.0, \"MN\"], [1910, 0.0, 1797114.0, 8.0, 224639.0, \"MS\"], [1910, 0.0, 3293335.0, 16.0, 205833.0, \"MO\"], [1910, 1.0, 366338.0, 2.0, 183169.0, \"MT\"], [1910, 0.0, 1192214.0, 6.0, 198702.0, \"NE\"], [1910, 0.0, 80293.0, 1.0, 80293.0, \"NV\"], [1910, 0.0, 430572.0, 2.0, 215286.0, \"NH\"], [1910, 2.0, 2537167.0, 12.0, 211431.0, \"NJ\"], [1910, null, null, null, null, \"NM\"], [1910, 6.0, 9108934.0, 43.0, 211836.0, \"NY\"], [1910, 0.0, 2206287.0, 10.0, 220629.0, \"NC\"], [1910, 1.0, 574403.0, 3.0, 191468.0, \"ND\"], [1910, 1.0, 4767121.0, 22.0, 216687.0, \"OH\"], [1910, null, 1657155.0, 8.0, 207144.0, \"OK\"], [1910, 1.0, 672765.0, 3.0, 224255.0, \"OR\"], [1910, 4.0, 7665111.0, 36.0, 212920.0, \"PA\"], [1910, 1.0, 542610.0, 3.0, 180870.0, \"RI\"], [1910, 0.0, 1515400.0, 7.0, 216486.0, \"SC\"], [1910, 1.0, 575676.0, 3.0, 191892.0, \"SD\"], [1910, 0.0, 2184789.0, 10.0, 218479.0, \"TN\"], [1910, 2.0, 3896542.0, 18.0, 216475.0, \"TX\"], [1910, 1.0, 371864.0, 2.0, 185932.0, \"UT\"], [1910, 0.0, 355956.0, 2.0, 177978.0, \"VT\"], [1910, 0.0, 2061612.0, 10.0, 206161.0, \"VA\"], [1910, 2.0, 1140134.0, 5.0, 228027.0, \"WA\"], [1910, 1.0, 1221119.0, 6.0, 203520.0, \"WV\"], [1910, 0.0, 2332853.0, 11.0, 212078.0, \"WI\"], [1910, 0.0, 144658.0, 1.0, 144658.0, \"WY\"]], \"geo\": \"geo\", \"hovertemplate\": \"<b>%{hovertext}</b><br><br>Year=%{customdata[0]}<br>Seat change=%{z}<br>Apportionment population=%{customdata[2]}<br>Number of representatives=%{customdata[3]}<br>Average persons per representative=%{customdata[4]}<extra></extra>\", \"hovertext\": [\"Alabama\", \"Alaska\", \"Arizona\", \"Arkansas\", \"California\", \"Colorado\", \"Connecticut\", \"Delaware\", \"Florida\", \"Georgia\", \"Hawaii\", \"Idaho\", \"Illinois\", \"Indiana\", \"Iowa\", \"Kansas\", \"Kentucky\", \"Louisiana\", \"Maine\", \"Maryland\", \"Massachusetts\", \"Michigan\", \"Minnesota\", \"Mississippi\", \"Missouri\", \"Montana\", \"Nebraska\", \"Nevada\", \"New Hampshire\", \"New Jersey\", \"New Mexico\", \"New York\", \"North Carolina\", \"North Dakota\", \"Ohio\", \"Oklahoma\", \"Oregon\", \"Pennsylvania\", \"Rhode Island\", \"South Carolina\", \"South Dakota\", \"Tennessee\", \"Texas\", \"Utah\", \"Vermont\", \"Virginia\", \"Washington\", \"West Virginia\", \"Wisconsin\", \"Wyoming\"], \"locationmode\": \"USA-states\", \"locations\": [\"AL\", \"AK\", \"AZ\", \"AR\", \"CA\", \"CO\", \"CT\", \"DE\", \"FL\", \"GA\", \"HI\", \"ID\", \"IL\", \"IN\", \"IA\", \"KS\", \"KY\", \"LA\", \"ME\", \"MD\", \"MA\", \"MI\", \"MN\", \"MS\", \"MO\", \"MT\", \"NE\", \"NV\", \"NH\", \"NJ\", \"NM\", \"NY\", \"NC\", \"ND\", \"OH\", \"OK\", \"OR\", \"PA\", \"RI\", \"SC\", \"SD\", \"TN\", \"TX\", \"UT\", \"VT\", \"VA\", \"WA\", \"WV\", \"WI\", \"WY\"], \"name\": \"\", \"type\": \"choropleth\", \"z\": [1.0, null, null, 0.0, 3.0, 1.0, 0.0, 0.0, 1.0, 1.0, null, 1.0, 2.0, 0.0, 0.0, 0.0, 0.0, 1.0, 0.0, 0.0, 2.0, 1.0, 1.0, 0.0, 0.0, 1.0, 0.0, 0.0, 0.0, 2.0, null, 6.0, 0.0, 1.0, 1.0, null, 1.0, 4.0, 1.0, 0.0, 1.0, 0.0, 2.0, 1.0, 0.0, 0.0, 2.0, 1.0, 0.0, 0.0]}],                        {\"coloraxis\": {\"cmax\": 10, \"cmin\": -5, \"colorbar\": {\"title\": {\"text\": \"Seat change\"}}, \"colorscale\": [[0.0, \"#000004\"], [0.1111111111111111, \"#1b0c41\"], [0.2222222222222222, \"#4a0c6b\"], [0.3333333333333333, \"#781c6d\"], [0.4444444444444444, \"#a52c60\"], [0.5555555555555556, \"#cf4446\"], [0.6666666666666666, \"#ed6925\"], [0.7777777777777778, \"#fb9b06\"], [0.8888888888888888, \"#f7d13d\"], [1.0, \"#fcffa4\"]]}, \"geo\": {\"center\": {}, \"domain\": {\"x\": [0.0, 1.0], \"y\": [0.0, 1.0]}, \"scope\": \"usa\"}, \"height\": 600, \"legend\": {\"tracegroupgap\": 0}, \"sliders\": [{\"active\": 0, \"currentvalue\": {\"prefix\": \"Year=\"}, \"len\": 0.9, \"pad\": {\"b\": 10, \"t\": 60}, \"steps\": [{\"args\": [[\"1910\"], {\"frame\": {\"duration\": 0, \"redraw\": true}, \"fromcurrent\": true, \"mode\": \"immediate\", \"transition\": {\"duration\": 0, \"easing\": \"linear\"}}], \"label\": \"1910\", \"method\": \"animate\"}, {\"args\": [[\"1920\"], {\"frame\": {\"duration\": 0, \"redraw\": true}, \"fromcurrent\": true, \"mode\": \"immediate\", \"transition\": {\"duration\": 0, \"easing\": \"linear\"}}], \"label\": \"1920\", \"method\": \"animate\"}, {\"args\": [[\"1930\"], {\"frame\": {\"duration\": 0, \"redraw\": true}, \"fromcurrent\": true, \"mode\": \"immediate\", \"transition\": {\"duration\": 0, \"easing\": \"linear\"}}], \"label\": \"1930\", \"method\": \"animate\"}, {\"args\": [[\"1940\"], {\"frame\": {\"duration\": 0, \"redraw\": true}, \"fromcurrent\": true, \"mode\": \"immediate\", \"transition\": {\"duration\": 0, \"easing\": \"linear\"}}], \"label\": \"1940\", \"method\": \"animate\"}, {\"args\": [[\"1950\"], {\"frame\": {\"duration\": 0, \"redraw\": true}, \"fromcurrent\": true, \"mode\": \"immediate\", \"transition\": {\"duration\": 0, \"easing\": \"linear\"}}], \"label\": \"1950\", \"method\": \"animate\"}, {\"args\": [[\"1960\"], {\"frame\": {\"duration\": 0, \"redraw\": true}, \"fromcurrent\": true, \"mode\": \"immediate\", \"transition\": {\"duration\": 0, \"easing\": \"linear\"}}], \"label\": \"1960\", \"method\": \"animate\"}, {\"args\": [[\"1970\"], {\"frame\": {\"duration\": 0, \"redraw\": true}, \"fromcurrent\": true, \"mode\": \"immediate\", \"transition\": {\"duration\": 0, \"easing\": \"linear\"}}], \"label\": \"1970\", \"method\": \"animate\"}, {\"args\": [[\"1980\"], {\"frame\": {\"duration\": 0, \"redraw\": true}, \"fromcurrent\": true, \"mode\": \"immediate\", \"transition\": {\"duration\": 0, \"easing\": \"linear\"}}], \"label\": \"1980\", \"method\": \"animate\"}, {\"args\": [[\"1990\"], {\"frame\": {\"duration\": 0, \"redraw\": true}, \"fromcurrent\": true, \"mode\": \"immediate\", \"transition\": {\"duration\": 0, \"easing\": \"linear\"}}], \"label\": \"1990\", \"method\": \"animate\"}, {\"args\": [[\"2000\"], {\"frame\": {\"duration\": 0, \"redraw\": true}, \"fromcurrent\": true, \"mode\": \"immediate\", \"transition\": {\"duration\": 0, \"easing\": \"linear\"}}], \"label\": \"2000\", \"method\": \"animate\"}, {\"args\": [[\"2010\"], {\"frame\": {\"duration\": 0, \"redraw\": true}, \"fromcurrent\": true, \"mode\": \"immediate\", \"transition\": {\"duration\": 0, \"easing\": \"linear\"}}], \"label\": \"2010\", \"method\": \"animate\"}, {\"args\": [[\"2020\"], {\"frame\": {\"duration\": 0, \"redraw\": true}, \"fromcurrent\": true, \"mode\": \"immediate\", \"transition\": {\"duration\": 0, \"easing\": \"linear\"}}], \"label\": \"2020\", \"method\": \"animate\"}], \"x\": 0.1, \"xanchor\": \"left\", \"y\": 0, \"yanchor\": \"top\"}], \"template\": {\"data\": {\"bar\": [{\"error_x\": {\"color\": \"#2a3f5f\"}, \"error_y\": {\"color\": \"#2a3f5f\"}, \"marker\": {\"line\": {\"color\": \"#E5ECF6\", \"width\": 0.5}}, \"type\": \"bar\"}], \"barpolar\": [{\"marker\": {\"line\": {\"color\": \"#E5ECF6\", \"width\": 0.5}}, \"type\": \"barpolar\"}], \"carpet\": [{\"aaxis\": {\"endlinecolor\": \"#2a3f5f\", \"gridcolor\": \"white\", \"linecolor\": \"white\", \"minorgridcolor\": \"white\", \"startlinecolor\": \"#2a3f5f\"}, \"baxis\": {\"endlinecolor\": \"#2a3f5f\", \"gridcolor\": \"white\", \"linecolor\": \"white\", \"minorgridcolor\": \"white\", \"startlinecolor\": \"#2a3f5f\"}, \"type\": \"carpet\"}], \"choropleth\": [{\"colorbar\": {\"outlinewidth\": 0, \"ticks\": \"\"}, \"type\": \"choropleth\"}], \"contour\": [{\"colorbar\": {\"outlinewidth\": 0, \"ticks\": \"\"}, \"colorscale\": [[0.0, \"#0d0887\"], [0.1111111111111111, \"#46039f\"], [0.2222222222222222, \"#7201a8\"], [0.3333333333333333, \"#9c179e\"], [0.4444444444444444, \"#bd3786\"], [0.5555555555555556, \"#d8576b\"], [0.6666666666666666, \"#ed7953\"], [0.7777777777777778, \"#fb9f3a\"], [0.8888888888888888, \"#fdca26\"], [1.0, \"#f0f921\"]], \"type\": \"contour\"}], \"contourcarpet\": [{\"colorbar\": {\"outlinewidth\": 0, \"ticks\": \"\"}, \"type\": \"contourcarpet\"}], \"heatmap\": [{\"colorbar\": {\"outlinewidth\": 0, \"ticks\": \"\"}, \"colorscale\": [[0.0, \"#0d0887\"], [0.1111111111111111, \"#46039f\"], [0.2222222222222222, \"#7201a8\"], [0.3333333333333333, \"#9c179e\"], [0.4444444444444444, \"#bd3786\"], [0.5555555555555556, \"#d8576b\"], [0.6666666666666666, \"#ed7953\"], [0.7777777777777778, \"#fb9f3a\"], [0.8888888888888888, \"#fdca26\"], [1.0, \"#f0f921\"]], \"type\": \"heatmap\"}], \"heatmapgl\": [{\"colorbar\": {\"outlinewidth\": 0, \"ticks\": \"\"}, \"colorscale\": [[0.0, \"#0d0887\"], [0.1111111111111111, \"#46039f\"], [0.2222222222222222, \"#7201a8\"], [0.3333333333333333, \"#9c179e\"], [0.4444444444444444, \"#bd3786\"], [0.5555555555555556, \"#d8576b\"], [0.6666666666666666, \"#ed7953\"], [0.7777777777777778, \"#fb9f3a\"], [0.8888888888888888, \"#fdca26\"], [1.0, \"#f0f921\"]], \"type\": \"heatmapgl\"}], \"histogram\": [{\"marker\": {\"colorbar\": {\"outlinewidth\": 0, \"ticks\": \"\"}}, \"type\": \"histogram\"}], \"histogram2d\": [{\"colorbar\": {\"outlinewidth\": 0, \"ticks\": \"\"}, \"colorscale\": [[0.0, \"#0d0887\"], [0.1111111111111111, \"#46039f\"], [0.2222222222222222, \"#7201a8\"], [0.3333333333333333, \"#9c179e\"], [0.4444444444444444, \"#bd3786\"], [0.5555555555555556, \"#d8576b\"], [0.6666666666666666, \"#ed7953\"], [0.7777777777777778, \"#fb9f3a\"], [0.8888888888888888, \"#fdca26\"], [1.0, \"#f0f921\"]], \"type\": \"histogram2d\"}], \"histogram2dcontour\": [{\"colorbar\": {\"outlinewidth\": 0, \"ticks\": \"\"}, \"colorscale\": [[0.0, \"#0d0887\"], [0.1111111111111111, \"#46039f\"], [0.2222222222222222, \"#7201a8\"], [0.3333333333333333, \"#9c179e\"], [0.4444444444444444, \"#bd3786\"], [0.5555555555555556, \"#d8576b\"], [0.6666666666666666, \"#ed7953\"], [0.7777777777777778, \"#fb9f3a\"], [0.8888888888888888, \"#fdca26\"], [1.0, \"#f0f921\"]], \"type\": \"histogram2dcontour\"}], \"mesh3d\": [{\"colorbar\": {\"outlinewidth\": 0, \"ticks\": \"\"}, \"type\": \"mesh3d\"}], \"parcoords\": [{\"line\": {\"colorbar\": {\"outlinewidth\": 0, \"ticks\": \"\"}}, \"type\": \"parcoords\"}], \"pie\": [{\"automargin\": true, \"type\": \"pie\"}], \"scatter\": [{\"marker\": {\"colorbar\": {\"outlinewidth\": 0, \"ticks\": \"\"}}, \"type\": \"scatter\"}], \"scatter3d\": [{\"line\": {\"colorbar\": {\"outlinewidth\": 0, \"ticks\": \"\"}}, \"marker\": {\"colorbar\": {\"outlinewidth\": 0, \"ticks\": \"\"}}, \"type\": \"scatter3d\"}], \"scattercarpet\": [{\"marker\": {\"colorbar\": {\"outlinewidth\": 0, \"ticks\": \"\"}}, \"type\": \"scattercarpet\"}], \"scattergeo\": [{\"marker\": {\"colorbar\": {\"outlinewidth\": 0, \"ticks\": \"\"}}, \"type\": \"scattergeo\"}], \"scattergl\": [{\"marker\": {\"colorbar\": {\"outlinewidth\": 0, \"ticks\": \"\"}}, \"type\": \"scattergl\"}], \"scattermapbox\": [{\"marker\": {\"colorbar\": {\"outlinewidth\": 0, \"ticks\": \"\"}}, \"type\": \"scattermapbox\"}], \"scatterpolar\": [{\"marker\": {\"colorbar\": {\"outlinewidth\": 0, \"ticks\": \"\"}}, \"type\": \"scatterpolar\"}], \"scatterpolargl\": [{\"marker\": {\"colorbar\": {\"outlinewidth\": 0, \"ticks\": \"\"}}, \"type\": \"scatterpolargl\"}], \"scatterternary\": [{\"marker\": {\"colorbar\": {\"outlinewidth\": 0, \"ticks\": \"\"}}, \"type\": \"scatterternary\"}], \"surface\": [{\"colorbar\": {\"outlinewidth\": 0, \"ticks\": \"\"}, \"colorscale\": [[0.0, \"#0d0887\"], [0.1111111111111111, \"#46039f\"], [0.2222222222222222, \"#7201a8\"], [0.3333333333333333, \"#9c179e\"], [0.4444444444444444, \"#bd3786\"], [0.5555555555555556, \"#d8576b\"], [0.6666666666666666, \"#ed7953\"], [0.7777777777777778, \"#fb9f3a\"], [0.8888888888888888, \"#fdca26\"], [1.0, \"#f0f921\"]], \"type\": \"surface\"}], \"table\": [{\"cells\": {\"fill\": {\"color\": \"#EBF0F8\"}, \"line\": {\"color\": \"white\"}}, \"header\": {\"fill\": {\"color\": \"#C8D4E3\"}, \"line\": {\"color\": \"white\"}}, \"type\": \"table\"}]}, \"layout\": {\"annotationdefaults\": {\"arrowcolor\": \"#2a3f5f\", \"arrowhead\": 0, \"arrowwidth\": 1}, \"autotypenumbers\": \"strict\", \"coloraxis\": {\"colorbar\": {\"outlinewidth\": 0, \"ticks\": \"\"}}, \"colorscale\": {\"diverging\": [[0, \"#8e0152\"], [0.1, \"#c51b7d\"], [0.2, \"#de77ae\"], [0.3, \"#f1b6da\"], [0.4, \"#fde0ef\"], [0.5, \"#f7f7f7\"], [0.6, \"#e6f5d0\"], [0.7, \"#b8e186\"], [0.8, \"#7fbc41\"], [0.9, \"#4d9221\"], [1, \"#276419\"]], \"sequential\": [[0.0, \"#0d0887\"], [0.1111111111111111, \"#46039f\"], [0.2222222222222222, \"#7201a8\"], [0.3333333333333333, \"#9c179e\"], [0.4444444444444444, \"#bd3786\"], [0.5555555555555556, \"#d8576b\"], [0.6666666666666666, \"#ed7953\"], [0.7777777777777778, \"#fb9f3a\"], [0.8888888888888888, \"#fdca26\"], [1.0, \"#f0f921\"]], \"sequentialminus\": [[0.0, \"#0d0887\"], [0.1111111111111111, \"#46039f\"], [0.2222222222222222, \"#7201a8\"], [0.3333333333333333, \"#9c179e\"], [0.4444444444444444, \"#bd3786\"], [0.5555555555555556, \"#d8576b\"], [0.6666666666666666, \"#ed7953\"], [0.7777777777777778, \"#fb9f3a\"], [0.8888888888888888, \"#fdca26\"], [1.0, \"#f0f921\"]]}, \"colorway\": [\"#636efa\", \"#EF553B\", \"#00cc96\", \"#ab63fa\", \"#FFA15A\", \"#19d3f3\", \"#FF6692\", \"#B6E880\", \"#FF97FF\", \"#FECB52\"], \"font\": {\"color\": \"#2a3f5f\"}, \"geo\": {\"bgcolor\": \"white\", \"lakecolor\": \"white\", \"landcolor\": \"#E5ECF6\", \"showlakes\": true, \"showland\": true, \"subunitcolor\": \"white\"}, \"hoverlabel\": {\"align\": \"left\"}, \"hovermode\": \"closest\", \"mapbox\": {\"style\": \"light\"}, \"paper_bgcolor\": \"white\", \"plot_bgcolor\": \"#E5ECF6\", \"polar\": {\"angularaxis\": {\"gridcolor\": \"white\", \"linecolor\": \"white\", \"ticks\": \"\"}, \"bgcolor\": \"#E5ECF6\", \"radialaxis\": {\"gridcolor\": \"white\", \"linecolor\": \"white\", \"ticks\": \"\"}}, \"scene\": {\"xaxis\": {\"backgroundcolor\": \"#E5ECF6\", \"gridcolor\": \"white\", \"gridwidth\": 2, \"linecolor\": \"white\", \"showbackground\": true, \"ticks\": \"\", \"zerolinecolor\": \"white\"}, \"yaxis\": {\"backgroundcolor\": \"#E5ECF6\", \"gridcolor\": \"white\", \"gridwidth\": 2, \"linecolor\": \"white\", \"showbackground\": true, \"ticks\": \"\", \"zerolinecolor\": \"white\"}, \"zaxis\": {\"backgroundcolor\": \"#E5ECF6\", \"gridcolor\": \"white\", \"gridwidth\": 2, \"linecolor\": \"white\", \"showbackground\": true, \"ticks\": \"\", \"zerolinecolor\": \"white\"}}, \"shapedefaults\": {\"line\": {\"color\": \"#2a3f5f\"}}, \"ternary\": {\"aaxis\": {\"gridcolor\": \"white\", \"linecolor\": \"white\", \"ticks\": \"\"}, \"baxis\": {\"gridcolor\": \"white\", \"linecolor\": \"white\", \"ticks\": \"\"}, \"bgcolor\": \"#E5ECF6\", \"caxis\": {\"gridcolor\": \"white\", \"linecolor\": \"white\", \"ticks\": \"\"}}, \"title\": {\"x\": 0.05}, \"xaxis\": {\"automargin\": true, \"gridcolor\": \"white\", \"linecolor\": \"white\", \"ticks\": \"\", \"title\": {\"standoff\": 15}, \"zerolinecolor\": \"white\", \"zerolinewidth\": 2}, \"yaxis\": {\"automargin\": true, \"gridcolor\": \"white\", \"linecolor\": \"white\", \"ticks\": \"\", \"title\": {\"standoff\": 15}, \"zerolinecolor\": \"white\", \"zerolinewidth\": 2}}}, \"title\": {\"text\": \"Change in Number of Seats in U.S. House of Representatives by State: 1910 to 2020\"}, \"updatemenus\": [{\"buttons\": [{\"args\": [null, {\"frame\": {\"duration\": 500, \"redraw\": true}, \"fromcurrent\": true, \"mode\": \"immediate\", \"transition\": {\"duration\": 500, \"easing\": \"linear\"}}], \"label\": \"&#9654;\", \"method\": \"animate\"}, {\"args\": [[null], {\"frame\": {\"duration\": 0, \"redraw\": true}, \"fromcurrent\": true, \"mode\": \"immediate\", \"transition\": {\"duration\": 0, \"easing\": \"linear\"}}], \"label\": \"&#9724;\", \"method\": \"animate\"}], \"direction\": \"left\", \"pad\": {\"r\": 10, \"t\": 70}, \"showactive\": false, \"type\": \"buttons\", \"x\": 0.1, \"xanchor\": \"right\", \"y\": 0, \"yanchor\": \"top\"}]},                        {\"responsive\": true}                    ).then(function(){\n",
       "                            Plotly.addFrames('4abef6e9-180b-4ceb-8dd6-bf15e87644da', [{\"data\": [{\"coloraxis\": \"coloraxis\", \"customdata\": [[1910, 1.0, 2138093.0, 10.0, 213809.0, \"AL\"], [1910, null, null, null, null, \"AK\"], [1910, null, null, null, null, \"AZ\"], [1910, 0.0, 1574449.0, 7.0, 224921.0, \"AR\"], [1910, 3.0, 2376561.0, 11.0, 216051.0, \"CA\"], [1910, 1.0, 798572.0, 4.0, 199643.0, \"CO\"], [1910, 0.0, 1114756.0, 5.0, 222951.0, \"CT\"], [1910, 0.0, 202322.0, 1.0, 202322.0, \"DE\"], [1910, 1.0, 752619.0, 4.0, 188155.0, \"FL\"], [1910, 1.0, 2609121.0, 12.0, 217427.0, \"GA\"], [1910, null, null, null, null, \"HI\"], [1910, 1.0, 323440.0, 2.0, 161720.0, \"ID\"], [1910, 2.0, 5638591.0, 27.0, 208837.0, \"IL\"], [1910, 0.0, 2700876.0, 13.0, 207760.0, \"IN\"], [1910, 0.0, 2224771.0, 11.0, 202252.0, \"IA\"], [1910, 0.0, 1690949.0, 8.0, 211369.0, \"KS\"], [1910, 0.0, 2289905.0, 11.0, 208173.0, \"KY\"], [1910, 1.0, 1656388.0, 8.0, 207049.0, \"LA\"], [1910, 0.0, 742371.0, 4.0, 185593.0, \"ME\"], [1910, 0.0, 1295346.0, 6.0, 215891.0, \"MD\"], [1910, 2.0, 3366416.0, 16.0, 210401.0, \"MA\"], [1910, 1.0, 2810173.0, 13.0, 216167.0, \"MI\"], [1910, 1.0, 2074376.0, 10.0, 207438.0, \"MN\"], [1910, 0.0, 1797114.0, 8.0, 224639.0, \"MS\"], [1910, 0.0, 3293335.0, 16.0, 205833.0, \"MO\"], [1910, 1.0, 366338.0, 2.0, 183169.0, \"MT\"], [1910, 0.0, 1192214.0, 6.0, 198702.0, \"NE\"], [1910, 0.0, 80293.0, 1.0, 80293.0, \"NV\"], [1910, 0.0, 430572.0, 2.0, 215286.0, \"NH\"], [1910, 2.0, 2537167.0, 12.0, 211431.0, \"NJ\"], [1910, null, null, null, null, \"NM\"], [1910, 6.0, 9108934.0, 43.0, 211836.0, \"NY\"], [1910, 0.0, 2206287.0, 10.0, 220629.0, \"NC\"], [1910, 1.0, 574403.0, 3.0, 191468.0, \"ND\"], [1910, 1.0, 4767121.0, 22.0, 216687.0, \"OH\"], [1910, null, 1657155.0, 8.0, 207144.0, \"OK\"], [1910, 1.0, 672765.0, 3.0, 224255.0, \"OR\"], [1910, 4.0, 7665111.0, 36.0, 212920.0, \"PA\"], [1910, 1.0, 542610.0, 3.0, 180870.0, \"RI\"], [1910, 0.0, 1515400.0, 7.0, 216486.0, \"SC\"], [1910, 1.0, 575676.0, 3.0, 191892.0, \"SD\"], [1910, 0.0, 2184789.0, 10.0, 218479.0, \"TN\"], [1910, 2.0, 3896542.0, 18.0, 216475.0, \"TX\"], [1910, 1.0, 371864.0, 2.0, 185932.0, \"UT\"], [1910, 0.0, 355956.0, 2.0, 177978.0, \"VT\"], [1910, 0.0, 2061612.0, 10.0, 206161.0, \"VA\"], [1910, 2.0, 1140134.0, 5.0, 228027.0, \"WA\"], [1910, 1.0, 1221119.0, 6.0, 203520.0, \"WV\"], [1910, 0.0, 2332853.0, 11.0, 212078.0, \"WI\"], [1910, 0.0, 144658.0, 1.0, 144658.0, \"WY\"]], \"geo\": \"geo\", \"hovertemplate\": \"<b>%{hovertext}</b><br><br>Year=%{customdata[0]}<br>Seat change=%{z}<br>Apportionment population=%{customdata[2]}<br>Number of representatives=%{customdata[3]}<br>Average persons per representative=%{customdata[4]}<extra></extra>\", \"hovertext\": [\"Alabama\", \"Alaska\", \"Arizona\", \"Arkansas\", \"California\", \"Colorado\", \"Connecticut\", \"Delaware\", \"Florida\", \"Georgia\", \"Hawaii\", \"Idaho\", \"Illinois\", \"Indiana\", \"Iowa\", \"Kansas\", \"Kentucky\", \"Louisiana\", \"Maine\", \"Maryland\", \"Massachusetts\", \"Michigan\", \"Minnesota\", \"Mississippi\", \"Missouri\", \"Montana\", \"Nebraska\", \"Nevada\", \"New Hampshire\", \"New Jersey\", \"New Mexico\", \"New York\", \"North Carolina\", \"North Dakota\", \"Ohio\", \"Oklahoma\", \"Oregon\", \"Pennsylvania\", \"Rhode Island\", \"South Carolina\", \"South Dakota\", \"Tennessee\", \"Texas\", \"Utah\", \"Vermont\", \"Virginia\", \"Washington\", \"West Virginia\", \"Wisconsin\", \"Wyoming\"], \"locationmode\": \"USA-states\", \"locations\": [\"AL\", \"AK\", \"AZ\", \"AR\", \"CA\", \"CO\", \"CT\", \"DE\", \"FL\", \"GA\", \"HI\", \"ID\", \"IL\", \"IN\", \"IA\", \"KS\", \"KY\", \"LA\", \"ME\", \"MD\", \"MA\", \"MI\", \"MN\", \"MS\", \"MO\", \"MT\", \"NE\", \"NV\", \"NH\", \"NJ\", \"NM\", \"NY\", \"NC\", \"ND\", \"OH\", \"OK\", \"OR\", \"PA\", \"RI\", \"SC\", \"SD\", \"TN\", \"TX\", \"UT\", \"VT\", \"VA\", \"WA\", \"WV\", \"WI\", \"WY\"], \"name\": \"\", \"z\": [1.0, null, null, 0.0, 3.0, 1.0, 0.0, 0.0, 1.0, 1.0, null, 1.0, 2.0, 0.0, 0.0, 0.0, 0.0, 1.0, 0.0, 0.0, 2.0, 1.0, 1.0, 0.0, 0.0, 1.0, 0.0, 0.0, 0.0, 2.0, null, 6.0, 0.0, 1.0, 1.0, null, 1.0, 4.0, 1.0, 0.0, 1.0, 0.0, 2.0, 1.0, 0.0, 0.0, 2.0, 1.0, 0.0, 0.0], \"type\": \"choropleth\"}], \"name\": \"1910\"}, {\"data\": [{\"coloraxis\": \"coloraxis\", \"customdata\": [[1920, 0.0, 2348174.0, 10.0, 234817.0, \"AL\"], [1920, null, null, null, null, \"AK\"], [1920, null, 309495.0, 1.0, 309495.0, \"AZ\"], [1920, 0.0, 1752204.0, 7.0, 250315.0, \"AR\"], [1920, 0.0, 3426031.0, 11.0, 311457.0, \"CA\"], [1920, 0.0, 939161.0, 4.0, 234790.0, \"CO\"], [1920, 0.0, 1380631.0, 5.0, 276126.0, \"CT\"], [1920, 0.0, 223003.0, 1.0, 223003.0, \"DE\"], [1920, 0.0, 968470.0, 4.0, 242118.0, \"FL\"], [1920, 0.0, 2895832.0, 12.0, 241319.0, \"GA\"], [1920, null, null, null, null, \"HI\"], [1920, 0.0, 430442.0, 2.0, 215221.0, \"ID\"], [1920, 0.0, 6485280.0, 27.0, 240196.0, \"IL\"], [1920, 0.0, 2930390.0, 13.0, 225415.0, \"IN\"], [1920, 0.0, 2404021.0, 11.0, 218547.0, \"IA\"], [1920, 0.0, 1769257.0, 8.0, 221157.0, \"KS\"], [1920, 0.0, 2416630.0, 11.0, 219694.0, \"KY\"], [1920, 0.0, 1798509.0, 8.0, 224814.0, \"LA\"], [1920, 0.0, 768014.0, 4.0, 192004.0, \"ME\"], [1920, 0.0, 1449661.0, 6.0, 241610.0, \"MD\"], [1920, 0.0, 3852356.0, 16.0, 240772.0, \"MA\"], [1920, 0.0, 3668412.0, 13.0, 282186.0, \"MI\"], [1920, 0.0, 2385656.0, 10.0, 238566.0, \"MN\"], [1920, 0.0, 1790618.0, 8.0, 223827.0, \"MS\"], [1920, 0.0, 3404055.0, 16.0, 212753.0, \"MO\"], [1920, 0.0, 541511.0, 2.0, 270756.0, \"MT\"], [1920, 0.0, 1296372.0, 6.0, 216062.0, \"NE\"], [1920, 0.0, 75820.0, 1.0, 75820.0, \"NV\"], [1920, 0.0, 443083.0, 2.0, 221542.0, \"NH\"], [1920, 0.0, 3155900.0, 12.0, 262992.0, \"NJ\"], [1920, 1.0, 353428.0, 1.0, 353428.0, \"NM\"], [1920, 0.0, 10380589.0, 43.0, 241409.0, \"NY\"], [1920, 0.0, 2559123.0, 10.0, 255912.0, \"NC\"], [1920, 0.0, 643953.0, 3.0, 214651.0, \"ND\"], [1920, 0.0, 5759394.0, 22.0, 261791.0, \"OH\"], [1920, 0.0, 2028283.0, 8.0, 253535.0, \"OK\"], [1920, 0.0, 783389.0, 3.0, 261130.0, \"OR\"], [1920, 0.0, 8720017.0, 36.0, 242223.0, \"PA\"], [1920, 0.0, 604397.0, 3.0, 201466.0, \"RI\"], [1920, 0.0, 1683724.0, 7.0, 240532.0, \"SC\"], [1920, 0.0, 631239.0, 3.0, 210413.0, \"SD\"], [1920, 0.0, 2337885.0, 10.0, 233789.0, \"TN\"], [1920, 0.0, 4663228.0, 18.0, 259068.0, \"TX\"], [1920, 0.0, 448388.0, 2.0, 224194.0, \"UT\"], [1920, 0.0, 352428.0, 2.0, 176214.0, \"VT\"], [1920, 0.0, 2309187.0, 10.0, 230919.0, \"VA\"], [1920, 0.0, 1354596.0, 5.0, 270919.0, \"WA\"], [1920, 0.0, 1463701.0, 6.0, 243950.0, \"WV\"], [1920, 0.0, 2631305.0, 11.0, 239210.0, \"WI\"], [1920, 0.0, 193487.0, 1.0, 193487.0, \"WY\"]], \"geo\": \"geo\", \"hovertemplate\": \"<b>%{hovertext}</b><br><br>Year=%{customdata[0]}<br>Seat change=%{z}<br>Apportionment population=%{customdata[2]}<br>Number of representatives=%{customdata[3]}<br>Average persons per representative=%{customdata[4]}<extra></extra>\", \"hovertext\": [\"Alabama\", \"Alaska\", \"Arizona\", \"Arkansas\", \"California\", \"Colorado\", \"Connecticut\", \"Delaware\", \"Florida\", \"Georgia\", \"Hawaii\", \"Idaho\", \"Illinois\", \"Indiana\", \"Iowa\", \"Kansas\", \"Kentucky\", \"Louisiana\", \"Maine\", \"Maryland\", \"Massachusetts\", \"Michigan\", \"Minnesota\", \"Mississippi\", \"Missouri\", \"Montana\", \"Nebraska\", \"Nevada\", \"New Hampshire\", \"New Jersey\", \"New Mexico\", \"New York\", \"North Carolina\", \"North Dakota\", \"Ohio\", \"Oklahoma\", \"Oregon\", \"Pennsylvania\", \"Rhode Island\", \"South Carolina\", \"South Dakota\", \"Tennessee\", \"Texas\", \"Utah\", \"Vermont\", \"Virginia\", \"Washington\", \"West Virginia\", \"Wisconsin\", \"Wyoming\"], \"locationmode\": \"USA-states\", \"locations\": [\"AL\", \"AK\", \"AZ\", \"AR\", \"CA\", \"CO\", \"CT\", \"DE\", \"FL\", \"GA\", \"HI\", \"ID\", \"IL\", \"IN\", \"IA\", \"KS\", \"KY\", \"LA\", \"ME\", \"MD\", \"MA\", \"MI\", \"MN\", \"MS\", \"MO\", \"MT\", \"NE\", \"NV\", \"NH\", \"NJ\", \"NM\", \"NY\", \"NC\", \"ND\", \"OH\", \"OK\", \"OR\", \"PA\", \"RI\", \"SC\", \"SD\", \"TN\", \"TX\", \"UT\", \"VT\", \"VA\", \"WA\", \"WV\", \"WI\", \"WY\"], \"name\": \"\", \"z\": [0.0, null, null, 0.0, 0.0, 0.0, 0.0, 0.0, 0.0, 0.0, null, 0.0, 0.0, 0.0, 0.0, 0.0, 0.0, 0.0, 0.0, 0.0, 0.0, 0.0, 0.0, 0.0, 0.0, 0.0, 0.0, 0.0, 0.0, 0.0, 1.0, 0.0, 0.0, 0.0, 0.0, 0.0, 0.0, 0.0, 0.0, 0.0, 0.0, 0.0, 0.0, 0.0, 0.0, 0.0, 0.0, 0.0, 0.0, 0.0], \"type\": \"choropleth\"}], \"name\": \"1920\"}, {\"data\": [{\"coloraxis\": \"coloraxis\", \"customdata\": [[1930, -1.0, 2646242.0, 9.0, 294027.0, \"AL\"], [1930, null, null, null, null, \"AK\"], [1930, 0.0, 389375.0, 1.0, 389375.0, \"AZ\"], [1930, 0.0, 1854444.0, 7.0, 264921.0, \"AR\"], [1930, 9.0, 5668241.0, 20.0, 283412.0, \"CA\"], [1930, 0.0, 1034849.0, 4.0, 258712.0, \"CO\"], [1930, 1.0, 1606897.0, 6.0, 267816.0, \"CT\"], [1930, 0.0, 238380.0, 1.0, 238380.0, \"DE\"], [1930, 1.0, 1468191.0, 5.0, 293638.0, \"FL\"], [1930, -2.0, 2908446.0, 10.0, 290845.0, \"GA\"], [1930, null, null, null, null, \"HI\"], [1930, 0.0, 441536.0, 2.0, 220768.0, \"ID\"], [1930, 0.0, 7630388.0, 27.0, 282607.0, \"IL\"], [1930, -1.0, 3238480.0, 12.0, 269873.0, \"IN\"], [1930, -2.0, 2470420.0, 9.0, 274491.0, \"IA\"], [1930, -1.0, 1879498.0, 7.0, 268500.0, \"KS\"], [1930, -2.0, 2614575.0, 9.0, 290508.0, \"KY\"], [1930, 0.0, 2101593.0, 8.0, 262699.0, \"LA\"], [1930, -1.0, 797418.0, 3.0, 265806.0, \"ME\"], [1930, 0.0, 1631522.0, 6.0, 271920.0, \"MD\"], [1930, -1.0, 4249598.0, 15.0, 283307.0, \"MA\"], [1930, 4.0, 4842052.0, 17.0, 284827.0, \"MI\"], [1930, -1.0, 2551583.0, 9.0, 283509.0, \"MN\"], [1930, -1.0, 2008154.0, 7.0, 286879.0, \"MS\"], [1930, -3.0, 3629110.0, 13.0, 279162.0, \"MO\"], [1930, 0.0, 524729.0, 2.0, 262365.0, \"MT\"], [1930, -1.0, 1375123.0, 5.0, 275025.0, \"NE\"], [1930, 0.0, 86390.0, 1.0, 86390.0, \"NV\"], [1930, 0.0, 465292.0, 2.0, 232646.0, \"NH\"], [1930, 2.0, 4041319.0, 14.0, 288666.0, \"NJ\"], [1930, 0.0, 395982.0, 1.0, 395982.0, \"NM\"], [1930, 2.0, 12587967.0, 45.0, 279733.0, \"NY\"], [1930, 1.0, 3167274.0, 11.0, 287934.0, \"NC\"], [1930, -1.0, 673340.0, 2.0, 336670.0, \"ND\"], [1930, 2.0, 6646633.0, 24.0, 276943.0, \"OH\"], [1930, 1.0, 2382222.0, 9.0, 264691.0, \"OK\"], [1930, 0.0, 950379.0, 3.0, 316793.0, \"OR\"], [1930, -2.0, 9631299.0, 34.0, 283274.0, \"PA\"], [1930, -1.0, 687497.0, 2.0, 343749.0, \"RI\"], [1930, -1.0, 1738760.0, 6.0, 289793.0, \"SC\"], [1930, -1.0, 673005.0, 2.0, 336503.0, \"SD\"], [1930, -1.0, 2616497.0, 9.0, 290722.0, \"TN\"], [1930, 3.0, 5824601.0, 21.0, 277362.0, \"TX\"], [1930, 0.0, 505741.0, 2.0, 252871.0, \"UT\"], [1930, -1.0, 359611.0, 1.0, 359611.0, \"VT\"], [1930, -1.0, 2421829.0, 9.0, 269092.0, \"VA\"], [1930, 1.0, 1552423.0, 6.0, 258737.0, \"WA\"], [1930, 0.0, 1729199.0, 6.0, 288200.0, \"WV\"], [1930, -1.0, 2931721.0, 10.0, 293172.0, \"WI\"], [1930, 0.0, 223630.0, 1.0, 223630.0, \"WY\"]], \"geo\": \"geo\", \"hovertemplate\": \"<b>%{hovertext}</b><br><br>Year=%{customdata[0]}<br>Seat change=%{z}<br>Apportionment population=%{customdata[2]}<br>Number of representatives=%{customdata[3]}<br>Average persons per representative=%{customdata[4]}<extra></extra>\", \"hovertext\": [\"Alabama\", \"Alaska\", \"Arizona\", \"Arkansas\", \"California\", \"Colorado\", \"Connecticut\", \"Delaware\", \"Florida\", \"Georgia\", \"Hawaii\", \"Idaho\", \"Illinois\", \"Indiana\", \"Iowa\", \"Kansas\", \"Kentucky\", \"Louisiana\", \"Maine\", \"Maryland\", \"Massachusetts\", \"Michigan\", \"Minnesota\", \"Mississippi\", \"Missouri\", \"Montana\", \"Nebraska\", \"Nevada\", \"New Hampshire\", \"New Jersey\", \"New Mexico\", \"New York\", \"North Carolina\", \"North Dakota\", \"Ohio\", \"Oklahoma\", \"Oregon\", \"Pennsylvania\", \"Rhode Island\", \"South Carolina\", \"South Dakota\", \"Tennessee\", \"Texas\", \"Utah\", \"Vermont\", \"Virginia\", \"Washington\", \"West Virginia\", \"Wisconsin\", \"Wyoming\"], \"locationmode\": \"USA-states\", \"locations\": [\"AL\", \"AK\", \"AZ\", \"AR\", \"CA\", \"CO\", \"CT\", \"DE\", \"FL\", \"GA\", \"HI\", \"ID\", \"IL\", \"IN\", \"IA\", \"KS\", \"KY\", \"LA\", \"ME\", \"MD\", \"MA\", \"MI\", \"MN\", \"MS\", \"MO\", \"MT\", \"NE\", \"NV\", \"NH\", \"NJ\", \"NM\", \"NY\", \"NC\", \"ND\", \"OH\", \"OK\", \"OR\", \"PA\", \"RI\", \"SC\", \"SD\", \"TN\", \"TX\", \"UT\", \"VT\", \"VA\", \"WA\", \"WV\", \"WI\", \"WY\"], \"name\": \"\", \"z\": [-1.0, null, 0.0, 0.0, 9.0, 0.0, 1.0, 0.0, 1.0, -2.0, null, 0.0, 0.0, -1.0, -2.0, -1.0, -2.0, 0.0, -1.0, 0.0, -1.0, 4.0, -1.0, -1.0, -3.0, 0.0, -1.0, 0.0, 0.0, 2.0, 0.0, 2.0, 1.0, -1.0, 2.0, 1.0, 0.0, -2.0, -1.0, -1.0, -1.0, -1.0, 3.0, 0.0, -1.0, -1.0, 1.0, 0.0, -1.0, 0.0], \"type\": \"choropleth\"}], \"name\": \"1930\"}, {\"data\": [{\"coloraxis\": \"coloraxis\", \"customdata\": [[1940, 0.0, 2832961.0, 9.0, 314773.0, \"AL\"], [1940, null, null, null, null, \"AK\"], [1940, 1.0, 499261.0, 2.0, 249631.0, \"AZ\"], [1940, 0.0, 1949387.0, 7.0, 278484.0, \"AR\"], [1940, 3.0, 6907387.0, 23.0, 300321.0, \"CA\"], [1940, 0.0, 1123296.0, 4.0, 280824.0, \"CO\"], [1940, 0.0, 1709242.0, 6.0, 284874.0, \"CT\"], [1940, 0.0, 266505.0, 1.0, 266505.0, \"DE\"], [1940, 1.0, 1897414.0, 6.0, 316236.0, \"FL\"], [1940, 0.0, 3123723.0, 10.0, 312372.0, \"GA\"], [1940, null, null, null, null, \"HI\"], [1940, 0.0, 524873.0, 2.0, 262437.0, \"ID\"], [1940, -1.0, 7897241.0, 26.0, 303740.0, \"IL\"], [1940, -1.0, 3427796.0, 11.0, 311618.0, \"IN\"], [1940, -1.0, 2538268.0, 8.0, 317284.0, \"IA\"], [1940, -1.0, 1801028.0, 6.0, 300171.0, \"KS\"], [1940, 0.0, 2845627.0, 9.0, 316181.0, \"KY\"], [1940, 0.0, 2363880.0, 8.0, 295485.0, \"LA\"], [1940, 0.0, 847226.0, 3.0, 282409.0, \"ME\"], [1940, 0.0, 1821244.0, 6.0, 303541.0, \"MD\"], [1940, -1.0, 4316721.0, 14.0, 308337.0, \"MA\"], [1940, 0.0, 5256106.0, 17.0, 309183.0, \"MI\"], [1940, 0.0, 2792300.0, 9.0, 310256.0, \"MN\"], [1940, 0.0, 2183796.0, 7.0, 311971.0, \"MS\"], [1940, 0.0, 3784664.0, 13.0, 291128.0, \"MO\"], [1940, 0.0, 559456.0, 2.0, 279728.0, \"MT\"], [1940, -1.0, 1315834.0, 4.0, 328959.0, \"NE\"], [1940, 0.0, 110247.0, 1.0, 110247.0, \"NV\"], [1940, 0.0, 491524.0, 2.0, 245762.0, \"NH\"], [1940, 0.0, 4160165.0, 14.0, 297155.0, \"NJ\"], [1940, 1.0, 531818.0, 2.0, 265909.0, \"NM\"], [1940, 0.0, 13479142.0, 45.0, 299536.0, \"NY\"], [1940, 1.0, 3571623.0, 12.0, 297635.0, \"NC\"], [1940, 0.0, 641935.0, 2.0, 320968.0, \"ND\"], [1940, -1.0, 6907612.0, 23.0, 300331.0, \"OH\"], [1940, -1.0, 2336434.0, 8.0, 292054.0, \"OK\"], [1940, 1.0, 1089684.0, 4.0, 272421.0, \"OR\"], [1940, -1.0, 9900180.0, 33.0, 300005.0, \"PA\"], [1940, 0.0, 713346.0, 2.0, 356673.0, \"RI\"], [1940, 0.0, 1899804.0, 6.0, 316634.0, \"SC\"], [1940, 0.0, 642961.0, 2.0, 321481.0, \"SD\"], [1940, 1.0, 2915841.0, 10.0, 291584.0, \"TN\"], [1940, 0.0, 6414824.0, 21.0, 305468.0, \"TX\"], [1940, 0.0, 550310.0, 2.0, 275155.0, \"UT\"], [1940, 0.0, 359231.0, 1.0, 359231.0, \"VT\"], [1940, 0.0, 2677773.0, 9.0, 297530.0, \"VA\"], [1940, 0.0, 1736191.0, 6.0, 289365.0, \"WA\"], [1940, 0.0, 1901974.0, 6.0, 316996.0, \"WV\"], [1940, 0.0, 3137587.0, 10.0, 313759.0, \"WI\"], [1940, 0.0, 250742.0, 1.0, 250742.0, \"WY\"]], \"geo\": \"geo\", \"hovertemplate\": \"<b>%{hovertext}</b><br><br>Year=%{customdata[0]}<br>Seat change=%{z}<br>Apportionment population=%{customdata[2]}<br>Number of representatives=%{customdata[3]}<br>Average persons per representative=%{customdata[4]}<extra></extra>\", \"hovertext\": [\"Alabama\", \"Alaska\", \"Arizona\", \"Arkansas\", \"California\", \"Colorado\", \"Connecticut\", \"Delaware\", \"Florida\", \"Georgia\", \"Hawaii\", \"Idaho\", \"Illinois\", \"Indiana\", \"Iowa\", \"Kansas\", \"Kentucky\", \"Louisiana\", \"Maine\", \"Maryland\", \"Massachusetts\", \"Michigan\", \"Minnesota\", \"Mississippi\", \"Missouri\", \"Montana\", \"Nebraska\", \"Nevada\", \"New Hampshire\", \"New Jersey\", \"New Mexico\", \"New York\", \"North Carolina\", \"North Dakota\", \"Ohio\", \"Oklahoma\", \"Oregon\", \"Pennsylvania\", \"Rhode Island\", \"South Carolina\", \"South Dakota\", \"Tennessee\", \"Texas\", \"Utah\", \"Vermont\", \"Virginia\", \"Washington\", \"West Virginia\", \"Wisconsin\", \"Wyoming\"], \"locationmode\": \"USA-states\", \"locations\": [\"AL\", \"AK\", \"AZ\", \"AR\", \"CA\", \"CO\", \"CT\", \"DE\", \"FL\", \"GA\", \"HI\", \"ID\", \"IL\", \"IN\", \"IA\", \"KS\", \"KY\", \"LA\", \"ME\", \"MD\", \"MA\", \"MI\", \"MN\", \"MS\", \"MO\", \"MT\", \"NE\", \"NV\", \"NH\", \"NJ\", \"NM\", \"NY\", \"NC\", \"ND\", \"OH\", \"OK\", \"OR\", \"PA\", \"RI\", \"SC\", \"SD\", \"TN\", \"TX\", \"UT\", \"VT\", \"VA\", \"WA\", \"WV\", \"WI\", \"WY\"], \"name\": \"\", \"z\": [0.0, null, 1.0, 0.0, 3.0, 0.0, 0.0, 0.0, 1.0, 0.0, null, 0.0, -1.0, -1.0, -1.0, -1.0, 0.0, 0.0, 0.0, 0.0, -1.0, 0.0, 0.0, 0.0, 0.0, 0.0, -1.0, 0.0, 0.0, 0.0, 1.0, 0.0, 1.0, 0.0, -1.0, -1.0, 1.0, -1.0, 0.0, 0.0, 0.0, 1.0, 0.0, 0.0, 0.0, 0.0, 0.0, 0.0, 0.0, 0.0], \"type\": \"choropleth\"}], \"name\": \"1940\"}, {\"data\": [{\"coloraxis\": \"coloraxis\", \"customdata\": [[1950, 0.0, 3061743.0, 9.0, 340194.0, \"AL\"], [1950, null, null, null, null, \"AK\"], [1950, 0.0, 749587.0, 2.0, 374794.0, \"AZ\"], [1950, -1.0, 1909511.0, 6.0, 318252.0, \"AR\"], [1950, 7.0, 10586223.0, 30.0, 352874.0, \"CA\"], [1950, 0.0, 1325089.0, 4.0, 331272.0, \"CO\"], [1950, 0.0, 2007280.0, 6.0, 334547.0, \"CT\"], [1950, 0.0, 318085.0, 1.0, 318085.0, \"DE\"], [1950, 2.0, 2771305.0, 8.0, 346413.0, \"FL\"], [1950, 0.0, 3444578.0, 10.0, 344458.0, \"GA\"], [1950, null, null, null, null, \"HI\"], [1950, 0.0, 588637.0, 2.0, 294319.0, \"ID\"], [1950, -1.0, 8712176.0, 25.0, 348487.0, \"IL\"], [1950, 0.0, 3934224.0, 11.0, 357657.0, \"IN\"], [1950, 0.0, 2621073.0, 8.0, 327634.0, \"IA\"], [1950, 0.0, 1905299.0, 6.0, 317550.0, \"KS\"], [1950, -1.0, 2944806.0, 8.0, 368101.0, \"KY\"], [1950, 0.0, 2683516.0, 8.0, 335440.0, \"LA\"], [1950, 0.0, 913774.0, 3.0, 304591.0, \"ME\"], [1950, 1.0, 2343001.0, 7.0, 334714.0, \"MD\"], [1950, 0.0, 4690514.0, 14.0, 335037.0, \"MA\"], [1950, 1.0, 6371766.0, 18.0, 353987.0, \"MI\"], [1950, 0.0, 2982483.0, 9.0, 331387.0, \"MN\"], [1950, -1.0, 2178914.0, 6.0, 363152.0, \"MS\"], [1950, -2.0, 3954653.0, 11.0, 359514.0, \"MO\"], [1950, 0.0, 591024.0, 2.0, 295512.0, \"MT\"], [1950, 0.0, 1325510.0, 4.0, 331378.0, \"NE\"], [1950, 0.0, 160083.0, 1.0, 160083.0, \"NV\"], [1950, 0.0, 533242.0, 2.0, 266621.0, \"NH\"], [1950, 0.0, 4835329.0, 14.0, 345381.0, \"NJ\"], [1950, 0.0, 681187.0, 2.0, 340594.0, \"NM\"], [1950, -2.0, 14830192.0, 43.0, 344888.0, \"NY\"], [1950, 0.0, 4061929.0, 12.0, 338494.0, \"NC\"], [1950, 0.0, 619636.0, 2.0, 309818.0, \"ND\"], [1950, 0.0, 7946627.0, 23.0, 345506.0, \"OH\"], [1950, -2.0, 2233351.0, 6.0, 372225.0, \"OK\"], [1950, 0.0, 1521341.0, 4.0, 380335.0, \"OR\"], [1950, -3.0, 10498012.0, 30.0, 349934.0, \"PA\"], [1950, 0.0, 791896.0, 2.0, 395948.0, \"RI\"], [1950, 0.0, 2117027.0, 6.0, 352838.0, \"SC\"], [1950, 0.0, 652740.0, 2.0, 326370.0, \"SD\"], [1950, -1.0, 3291718.0, 9.0, 365746.0, \"TN\"], [1950, 1.0, 7711194.0, 22.0, 350509.0, \"TX\"], [1950, 0.0, 688862.0, 2.0, 344431.0, \"UT\"], [1950, 0.0, 377747.0, 1.0, 377747.0, \"VT\"], [1950, 1.0, 3318680.0, 10.0, 331868.0, \"VA\"], [1950, 1.0, 2378963.0, 7.0, 339852.0, \"WA\"], [1950, 0.0, 2005552.0, 6.0, 334259.0, \"WV\"], [1950, 0.0, 3434575.0, 10.0, 343458.0, \"WI\"], [1950, 0.0, 290529.0, 1.0, 290529.0, \"WY\"]], \"geo\": \"geo\", \"hovertemplate\": \"<b>%{hovertext}</b><br><br>Year=%{customdata[0]}<br>Seat change=%{z}<br>Apportionment population=%{customdata[2]}<br>Number of representatives=%{customdata[3]}<br>Average persons per representative=%{customdata[4]}<extra></extra>\", \"hovertext\": [\"Alabama\", \"Alaska\", \"Arizona\", \"Arkansas\", \"California\", \"Colorado\", \"Connecticut\", \"Delaware\", \"Florida\", \"Georgia\", \"Hawaii\", \"Idaho\", \"Illinois\", \"Indiana\", \"Iowa\", \"Kansas\", \"Kentucky\", \"Louisiana\", \"Maine\", \"Maryland\", \"Massachusetts\", \"Michigan\", \"Minnesota\", \"Mississippi\", \"Missouri\", \"Montana\", \"Nebraska\", \"Nevada\", \"New Hampshire\", \"New Jersey\", \"New Mexico\", \"New York\", \"North Carolina\", \"North Dakota\", \"Ohio\", \"Oklahoma\", \"Oregon\", \"Pennsylvania\", \"Rhode Island\", \"South Carolina\", \"South Dakota\", \"Tennessee\", \"Texas\", \"Utah\", \"Vermont\", \"Virginia\", \"Washington\", \"West Virginia\", \"Wisconsin\", \"Wyoming\"], \"locationmode\": \"USA-states\", \"locations\": [\"AL\", \"AK\", \"AZ\", \"AR\", \"CA\", \"CO\", \"CT\", \"DE\", \"FL\", \"GA\", \"HI\", \"ID\", \"IL\", \"IN\", \"IA\", \"KS\", \"KY\", \"LA\", \"ME\", \"MD\", \"MA\", \"MI\", \"MN\", \"MS\", \"MO\", \"MT\", \"NE\", \"NV\", \"NH\", \"NJ\", \"NM\", \"NY\", \"NC\", \"ND\", \"OH\", \"OK\", \"OR\", \"PA\", \"RI\", \"SC\", \"SD\", \"TN\", \"TX\", \"UT\", \"VT\", \"VA\", \"WA\", \"WV\", \"WI\", \"WY\"], \"name\": \"\", \"z\": [0.0, null, 0.0, -1.0, 7.0, 0.0, 0.0, 0.0, 2.0, 0.0, null, 0.0, -1.0, 0.0, 0.0, 0.0, -1.0, 0.0, 0.0, 1.0, 0.0, 1.0, 0.0, -1.0, -2.0, 0.0, 0.0, 0.0, 0.0, 0.0, 0.0, -2.0, 0.0, 0.0, 0.0, -2.0, 0.0, -3.0, 0.0, 0.0, 0.0, -1.0, 1.0, 0.0, 0.0, 1.0, 1.0, 0.0, 0.0, 0.0], \"type\": \"choropleth\"}], \"name\": \"1950\"}, {\"data\": [{\"coloraxis\": \"coloraxis\", \"customdata\": [[1960, -1.0, 3266740.0, 8.0, 408343.0, \"AL\"], [1960, null, 226167.0, 1.0, 226167.0, \"AK\"], [1960, 1.0, 1302161.0, 3.0, 434054.0, \"AZ\"], [1960, -2.0, 1786272.0, 4.0, 446568.0, \"AR\"], [1960, 8.0, 15717204.0, 38.0, 413611.0, \"CA\"], [1960, 0.0, 1753947.0, 4.0, 438487.0, \"CO\"], [1960, 0.0, 2535234.0, 6.0, 422539.0, \"CT\"], [1960, 0.0, 446292.0, 1.0, 446292.0, \"DE\"], [1960, 4.0, 4951560.0, 12.0, 412630.0, \"FL\"], [1960, 0.0, 3943116.0, 10.0, 394312.0, \"GA\"], [1960, null, 632772.0, 2.0, 316386.0, \"HI\"], [1960, 0.0, 667191.0, 2.0, 333596.0, \"ID\"], [1960, -1.0, 10081158.0, 24.0, 420048.0, \"IL\"], [1960, 0.0, 4662498.0, 11.0, 423863.0, \"IN\"], [1960, -1.0, 2757537.0, 7.0, 393934.0, \"IA\"], [1960, -1.0, 2178611.0, 5.0, 435722.0, \"KS\"], [1960, -1.0, 3038156.0, 7.0, 434022.0, \"KY\"], [1960, 0.0, 3257022.0, 8.0, 407128.0, \"LA\"], [1960, -1.0, 969265.0, 2.0, 484633.0, \"ME\"], [1960, 1.0, 3100689.0, 8.0, 387586.0, \"MD\"], [1960, -2.0, 5148578.0, 12.0, 429048.0, \"MA\"], [1960, 1.0, 7823194.0, 19.0, 411747.0, \"MI\"], [1960, -1.0, 3413864.0, 8.0, 426733.0, \"MN\"], [1960, -1.0, 2178141.0, 5.0, 435628.0, \"MS\"], [1960, -1.0, 4319813.0, 10.0, 431981.0, \"MO\"], [1960, 0.0, 674767.0, 2.0, 337384.0, \"MT\"], [1960, -1.0, 1411330.0, 3.0, 470443.0, \"NE\"], [1960, 0.0, 285278.0, 1.0, 285278.0, \"NV\"], [1960, 0.0, 606921.0, 2.0, 303461.0, \"NH\"], [1960, 1.0, 6066782.0, 15.0, 404452.0, \"NJ\"], [1960, 0.0, 951023.0, 2.0, 475512.0, \"NM\"], [1960, -2.0, 16782304.0, 41.0, 409324.0, \"NY\"], [1960, -1.0, 4556155.0, 11.0, 414196.0, \"NC\"], [1960, 0.0, 632446.0, 2.0, 316223.0, \"ND\"], [1960, 1.0, 9706397.0, 24.0, 404433.0, \"OH\"], [1960, 0.0, 2328284.0, 6.0, 388047.0, \"OK\"], [1960, 0.0, 1768687.0, 4.0, 442172.0, \"OR\"], [1960, -3.0, 11319366.0, 27.0, 419236.0, \"PA\"], [1960, 0.0, 859488.0, 2.0, 429744.0, \"RI\"], [1960, 0.0, 2382594.0, 6.0, 397099.0, \"SC\"], [1960, 0.0, 680514.0, 2.0, 340257.0, \"SD\"], [1960, 0.0, 3567089.0, 9.0, 396343.0, \"TN\"], [1960, 1.0, 9579677.0, 23.0, 416508.0, \"TX\"], [1960, 0.0, 890627.0, 2.0, 445314.0, \"UT\"], [1960, 0.0, 389881.0, 1.0, 389881.0, \"VT\"], [1960, 0.0, 3966949.0, 10.0, 396695.0, \"VA\"], [1960, 0.0, 2853214.0, 7.0, 407602.0, \"WA\"], [1960, -1.0, 1860421.0, 5.0, 372084.0, \"WV\"], [1960, 0.0, 3951777.0, 10.0, 395178.0, \"WI\"], [1960, 0.0, 330066.0, 1.0, 330066.0, \"WY\"]], \"geo\": \"geo\", \"hovertemplate\": \"<b>%{hovertext}</b><br><br>Year=%{customdata[0]}<br>Seat change=%{z}<br>Apportionment population=%{customdata[2]}<br>Number of representatives=%{customdata[3]}<br>Average persons per representative=%{customdata[4]}<extra></extra>\", \"hovertext\": [\"Alabama\", \"Alaska\", \"Arizona\", \"Arkansas\", \"California\", \"Colorado\", \"Connecticut\", \"Delaware\", \"Florida\", \"Georgia\", \"Hawaii\", \"Idaho\", \"Illinois\", \"Indiana\", \"Iowa\", \"Kansas\", \"Kentucky\", \"Louisiana\", \"Maine\", \"Maryland\", \"Massachusetts\", \"Michigan\", \"Minnesota\", \"Mississippi\", \"Missouri\", \"Montana\", \"Nebraska\", \"Nevada\", \"New Hampshire\", \"New Jersey\", \"New Mexico\", \"New York\", \"North Carolina\", \"North Dakota\", \"Ohio\", \"Oklahoma\", \"Oregon\", \"Pennsylvania\", \"Rhode Island\", \"South Carolina\", \"South Dakota\", \"Tennessee\", \"Texas\", \"Utah\", \"Vermont\", \"Virginia\", \"Washington\", \"West Virginia\", \"Wisconsin\", \"Wyoming\"], \"locationmode\": \"USA-states\", \"locations\": [\"AL\", \"AK\", \"AZ\", \"AR\", \"CA\", \"CO\", \"CT\", \"DE\", \"FL\", \"GA\", \"HI\", \"ID\", \"IL\", \"IN\", \"IA\", \"KS\", \"KY\", \"LA\", \"ME\", \"MD\", \"MA\", \"MI\", \"MN\", \"MS\", \"MO\", \"MT\", \"NE\", \"NV\", \"NH\", \"NJ\", \"NM\", \"NY\", \"NC\", \"ND\", \"OH\", \"OK\", \"OR\", \"PA\", \"RI\", \"SC\", \"SD\", \"TN\", \"TX\", \"UT\", \"VT\", \"VA\", \"WA\", \"WV\", \"WI\", \"WY\"], \"name\": \"\", \"z\": [-1.0, null, 1.0, -2.0, 8.0, 0.0, 0.0, 0.0, 4.0, 0.0, null, 0.0, -1.0, 0.0, -1.0, -1.0, -1.0, 0.0, -1.0, 1.0, -2.0, 1.0, -1.0, -1.0, -1.0, 0.0, -1.0, 0.0, 0.0, 1.0, 0.0, -2.0, -1.0, 0.0, 1.0, 0.0, 0.0, -3.0, 0.0, 0.0, 0.0, 0.0, 1.0, 0.0, 0.0, 0.0, 0.0, -1.0, 0.0, 0.0], \"type\": \"choropleth\"}], \"name\": \"1960\"}, {\"data\": [{\"coloraxis\": \"coloraxis\", \"customdata\": [[1970, -1.0, 3475885.0, 7.0, 496555.0, \"AL\"], [1970, 0.0, 304067.0, 1.0, 304067.0, \"AK\"], [1970, 1.0, 1787620.0, 4.0, 446905.0, \"AZ\"], [1970, 0.0, 1942303.0, 4.0, 485576.0, \"AR\"], [1970, 5.0, 20098863.0, 43.0, 467415.0, \"CA\"], [1970, 1.0, 2226771.0, 5.0, 445354.0, \"CO\"], [1970, 0.0, 3050693.0, 6.0, 508449.0, \"CT\"], [1970, 0.0, 551928.0, 1.0, 551928.0, \"DE\"], [1970, 3.0, 6855702.0, 15.0, 457047.0, \"FL\"], [1970, 0.0, 4627306.0, 10.0, 462731.0, \"GA\"], [1970, 0.0, 784901.0, 2.0, 392451.0, \"HI\"], [1970, 0.0, 719921.0, 2.0, 359961.0, \"ID\"], [1970, 0.0, 11184320.0, 24.0, 466013.0, \"IL\"], [1970, 0.0, 5228156.0, 11.0, 475287.0, \"IN\"], [1970, -1.0, 2846920.0, 6.0, 474487.0, \"IA\"], [1970, 0.0, 2265846.0, 5.0, 453169.0, \"KS\"], [1970, 0.0, 3246481.0, 7.0, 463783.0, \"KY\"], [1970, 0.0, 3672008.0, 8.0, 459001.0, \"LA\"], [1970, 0.0, 1006320.0, 2.0, 503160.0, \"ME\"], [1970, 0.0, 3953698.0, 8.0, 494212.0, \"MD\"], [1970, 0.0, 5726676.0, 12.0, 477223.0, \"MA\"], [1970, 0.0, 8937196.0, 19.0, 470379.0, \"MI\"], [1970, 0.0, 3833173.0, 8.0, 479147.0, \"MN\"], [1970, 0.0, 2233848.0, 5.0, 446770.0, \"MS\"], [1970, 0.0, 4718034.0, 10.0, 471803.0, \"MO\"], [1970, 0.0, 701573.0, 2.0, 350787.0, \"MT\"], [1970, 0.0, 1496820.0, 3.0, 498940.0, \"NE\"], [1970, 0.0, 492396.0, 1.0, 492396.0, \"NV\"], [1970, 0.0, 746284.0, 2.0, 373142.0, \"NH\"], [1970, 0.0, 7208035.0, 15.0, 480536.0, \"NJ\"], [1970, 0.0, 1026664.0, 2.0, 513332.0, \"NM\"], [1970, -2.0, 18338055.0, 39.0, 470207.0, \"NY\"], [1970, 0.0, 5125230.0, 11.0, 465930.0, \"NC\"], [1970, -1.0, 624181.0, 1.0, 624181.0, \"ND\"], [1970, -1.0, 10730200.0, 23.0, 466530.0, \"OH\"], [1970, 0.0, 2585486.0, 6.0, 430914.0, \"OK\"], [1970, 0.0, 2110810.0, 4.0, 527703.0, \"OR\"], [1970, -2.0, 11884314.0, 25.0, 475373.0, \"PA\"], [1970, 0.0, 957798.0, 2.0, 478899.0, \"RI\"], [1970, 0.0, 2617320.0, 6.0, 436220.0, \"SC\"], [1970, 0.0, 673247.0, 2.0, 336624.0, \"SD\"], [1970, -1.0, 3961060.0, 8.0, 495133.0, \"TN\"], [1970, 1.0, 11298787.0, 24.0, 470783.0, \"TX\"], [1970, 0.0, 1067810.0, 2.0, 533905.0, \"UT\"], [1970, 0.0, 448327.0, 1.0, 448327.0, \"VT\"], [1970, 0.0, 4690742.0, 10.0, 469074.0, \"VA\"], [1970, 0.0, 3443487.0, 7.0, 491927.0, \"WA\"], [1970, -1.0, 1763331.0, 4.0, 440833.0, \"WV\"], [1970, -1.0, 4447013.0, 9.0, 494113.0, \"WI\"], [1970, 0.0, 335719.0, 1.0, 335719.0, \"WY\"]], \"geo\": \"geo\", \"hovertemplate\": \"<b>%{hovertext}</b><br><br>Year=%{customdata[0]}<br>Seat change=%{z}<br>Apportionment population=%{customdata[2]}<br>Number of representatives=%{customdata[3]}<br>Average persons per representative=%{customdata[4]}<extra></extra>\", \"hovertext\": [\"Alabama\", \"Alaska\", \"Arizona\", \"Arkansas\", \"California\", \"Colorado\", \"Connecticut\", \"Delaware\", \"Florida\", \"Georgia\", \"Hawaii\", \"Idaho\", \"Illinois\", \"Indiana\", \"Iowa\", \"Kansas\", \"Kentucky\", \"Louisiana\", \"Maine\", \"Maryland\", \"Massachusetts\", \"Michigan\", \"Minnesota\", \"Mississippi\", \"Missouri\", \"Montana\", \"Nebraska\", \"Nevada\", \"New Hampshire\", \"New Jersey\", \"New Mexico\", \"New York\", \"North Carolina\", \"North Dakota\", \"Ohio\", \"Oklahoma\", \"Oregon\", \"Pennsylvania\", \"Rhode Island\", \"South Carolina\", \"South Dakota\", \"Tennessee\", \"Texas\", \"Utah\", \"Vermont\", \"Virginia\", \"Washington\", \"West Virginia\", \"Wisconsin\", \"Wyoming\"], \"locationmode\": \"USA-states\", \"locations\": [\"AL\", \"AK\", \"AZ\", \"AR\", \"CA\", \"CO\", \"CT\", \"DE\", \"FL\", \"GA\", \"HI\", \"ID\", \"IL\", \"IN\", \"IA\", \"KS\", \"KY\", \"LA\", \"ME\", \"MD\", \"MA\", \"MI\", \"MN\", \"MS\", \"MO\", \"MT\", \"NE\", \"NV\", \"NH\", \"NJ\", \"NM\", \"NY\", \"NC\", \"ND\", \"OH\", \"OK\", \"OR\", \"PA\", \"RI\", \"SC\", \"SD\", \"TN\", \"TX\", \"UT\", \"VT\", \"VA\", \"WA\", \"WV\", \"WI\", \"WY\"], \"name\": \"\", \"z\": [-1.0, 0.0, 1.0, 0.0, 5.0, 1.0, 0.0, 0.0, 3.0, 0.0, 0.0, 0.0, 0.0, 0.0, -1.0, 0.0, 0.0, 0.0, 0.0, 0.0, 0.0, 0.0, 0.0, 0.0, 0.0, 0.0, 0.0, 0.0, 0.0, 0.0, 0.0, -2.0, 0.0, -1.0, -1.0, 0.0, 0.0, -2.0, 0.0, 0.0, 0.0, -1.0, 1.0, 0.0, 0.0, 0.0, 0.0, -1.0, -1.0, 0.0], \"type\": \"choropleth\"}], \"name\": \"1970\"}, {\"data\": [{\"coloraxis\": \"coloraxis\", \"customdata\": [[1980, 0.0, 3890061.0, 7.0, 555723.0, \"AL\"], [1980, 0.0, 400481.0, 1.0, 400481.0, \"AK\"], [1980, 1.0, 2717866.0, 5.0, 543573.0, \"AZ\"], [1980, 0.0, 2285513.0, 4.0, 571378.0, \"AR\"], [1980, 2.0, 23668562.0, 45.0, 525968.0, \"CA\"], [1980, 1.0, 2888834.0, 6.0, 481472.0, \"CO\"], [1980, 0.0, 3107576.0, 6.0, 517929.0, \"CT\"], [1980, 0.0, 595225.0, 1.0, 595225.0, \"DE\"], [1980, 4.0, 9739992.0, 19.0, 512631.0, \"FL\"], [1980, 0.0, 5464265.0, 10.0, 546427.0, \"GA\"], [1980, 0.0, 965000.0, 2.0, 482500.0, \"HI\"], [1980, 0.0, 943935.0, 2.0, 471968.0, \"ID\"], [1980, -2.0, 11418461.0, 22.0, 519021.0, \"IL\"], [1980, -1.0, 5490179.0, 10.0, 549018.0, \"IN\"], [1980, 0.0, 2913387.0, 6.0, 485565.0, \"IA\"], [1980, 0.0, 2363208.0, 5.0, 472642.0, \"KS\"], [1980, 0.0, 3661433.0, 7.0, 523062.0, \"KY\"], [1980, 0.0, 4203972.0, 8.0, 525497.0, \"LA\"], [1980, 0.0, 1124660.0, 2.0, 562330.0, \"ME\"], [1980, 0.0, 4216446.0, 8.0, 527056.0, \"MD\"], [1980, -1.0, 5737037.0, 11.0, 521549.0, \"MA\"], [1980, -1.0, 9258344.0, 18.0, 514352.0, \"MI\"], [1980, 0.0, 4077148.0, 8.0, 509644.0, \"MN\"], [1980, 0.0, 2520638.0, 5.0, 504128.0, \"MS\"], [1980, -1.0, 4917444.0, 9.0, 546383.0, \"MO\"], [1980, 0.0, 786690.0, 2.0, 393345.0, \"MT\"], [1980, 0.0, 1570006.0, 3.0, 523335.0, \"NE\"], [1980, 1.0, 799184.0, 2.0, 399592.0, \"NV\"], [1980, 0.0, 920610.0, 2.0, 460305.0, \"NH\"], [1980, -1.0, 7364158.0, 14.0, 526011.0, \"NJ\"], [1980, 1.0, 1299968.0, 3.0, 433323.0, \"NM\"], [1980, -5.0, 17557288.0, 34.0, 516391.0, \"NY\"], [1980, 0.0, 5874429.0, 11.0, 534039.0, \"NC\"], [1980, 0.0, 652695.0, 1.0, 652695.0, \"ND\"], [1980, -2.0, 10797419.0, 21.0, 514163.0, \"OH\"], [1980, 0.0, 3025266.0, 6.0, 504211.0, \"OK\"], [1980, 1.0, 2632663.0, 5.0, 526533.0, \"OR\"], [1980, -2.0, 11866728.0, 23.0, 515945.0, \"PA\"], [1980, 0.0, 947154.0, 2.0, 473577.0, \"RI\"], [1980, 0.0, 3119208.0, 6.0, 519868.0, \"SC\"], [1980, -1.0, 690178.0, 1.0, 690178.0, \"SD\"], [1980, 1.0, 4590750.0, 9.0, 510083.0, \"TN\"], [1980, 3.0, 14228383.0, 27.0, 526977.0, \"TX\"], [1980, 1.0, 1461037.0, 3.0, 487012.0, \"UT\"], [1980, 0.0, 511456.0, 1.0, 511456.0, \"VT\"], [1980, 0.0, 5346279.0, 10.0, 534628.0, \"VA\"], [1980, 1.0, 4130163.0, 8.0, 516270.0, \"WA\"], [1980, 0.0, 1949644.0, 4.0, 487411.0, \"WV\"], [1980, 0.0, 4705335.0, 9.0, 522815.0, \"WI\"], [1980, 0.0, 470816.0, 1.0, 470816.0, \"WY\"]], \"geo\": \"geo\", \"hovertemplate\": \"<b>%{hovertext}</b><br><br>Year=%{customdata[0]}<br>Seat change=%{z}<br>Apportionment population=%{customdata[2]}<br>Number of representatives=%{customdata[3]}<br>Average persons per representative=%{customdata[4]}<extra></extra>\", \"hovertext\": [\"Alabama\", \"Alaska\", \"Arizona\", \"Arkansas\", \"California\", \"Colorado\", \"Connecticut\", \"Delaware\", \"Florida\", \"Georgia\", \"Hawaii\", \"Idaho\", \"Illinois\", \"Indiana\", \"Iowa\", \"Kansas\", \"Kentucky\", \"Louisiana\", \"Maine\", \"Maryland\", \"Massachusetts\", \"Michigan\", \"Minnesota\", \"Mississippi\", \"Missouri\", \"Montana\", \"Nebraska\", \"Nevada\", \"New Hampshire\", \"New Jersey\", \"New Mexico\", \"New York\", \"North Carolina\", \"North Dakota\", \"Ohio\", \"Oklahoma\", \"Oregon\", \"Pennsylvania\", \"Rhode Island\", \"South Carolina\", \"South Dakota\", \"Tennessee\", \"Texas\", \"Utah\", \"Vermont\", \"Virginia\", \"Washington\", \"West Virginia\", \"Wisconsin\", \"Wyoming\"], \"locationmode\": \"USA-states\", \"locations\": [\"AL\", \"AK\", \"AZ\", \"AR\", \"CA\", \"CO\", \"CT\", \"DE\", \"FL\", \"GA\", \"HI\", \"ID\", \"IL\", \"IN\", \"IA\", \"KS\", \"KY\", \"LA\", \"ME\", \"MD\", \"MA\", \"MI\", \"MN\", \"MS\", \"MO\", \"MT\", \"NE\", \"NV\", \"NH\", \"NJ\", \"NM\", \"NY\", \"NC\", \"ND\", \"OH\", \"OK\", \"OR\", \"PA\", \"RI\", \"SC\", \"SD\", \"TN\", \"TX\", \"UT\", \"VT\", \"VA\", \"WA\", \"WV\", \"WI\", \"WY\"], \"name\": \"\", \"z\": [0.0, 0.0, 1.0, 0.0, 2.0, 1.0, 0.0, 0.0, 4.0, 0.0, 0.0, 0.0, -2.0, -1.0, 0.0, 0.0, 0.0, 0.0, 0.0, 0.0, -1.0, -1.0, 0.0, 0.0, -1.0, 0.0, 0.0, 1.0, 0.0, -1.0, 1.0, -5.0, 0.0, 0.0, -2.0, 0.0, 1.0, -2.0, 0.0, 0.0, -1.0, 1.0, 3.0, 1.0, 0.0, 0.0, 1.0, 0.0, 0.0, 0.0], \"type\": \"choropleth\"}], \"name\": \"1980\"}, {\"data\": [{\"coloraxis\": \"coloraxis\", \"customdata\": [[1990, 0.0, 4062608.0, 7.0, 580373.0, \"AL\"], [1990, 0.0, 551947.0, 1.0, 551947.0, \"AK\"], [1990, 1.0, 3677985.0, 6.0, 612998.0, \"AZ\"], [1990, 0.0, 2362239.0, 4.0, 590560.0, \"AR\"], [1990, 7.0, 29839250.0, 52.0, 573832.0, \"CA\"], [1990, 0.0, 3307912.0, 6.0, 551319.0, \"CO\"], [1990, 0.0, 3295669.0, 6.0, 549278.0, \"CT\"], [1990, 0.0, 668696.0, 1.0, 668696.0, \"DE\"], [1990, 4.0, 13003362.0, 23.0, 565364.0, \"FL\"], [1990, 1.0, 6508419.0, 11.0, 591674.0, \"GA\"], [1990, 0.0, 1115274.0, 2.0, 557637.0, \"HI\"], [1990, 0.0, 1011986.0, 2.0, 505993.0, \"ID\"], [1990, -2.0, 11466682.0, 20.0, 573334.0, \"IL\"], [1990, 0.0, 5564228.0, 10.0, 556423.0, \"IN\"], [1990, -1.0, 2787424.0, 5.0, 557485.0, \"IA\"], [1990, -1.0, 2485600.0, 4.0, 621400.0, \"KS\"], [1990, -1.0, 3698969.0, 6.0, 616495.0, \"KY\"], [1990, -1.0, 4238216.0, 7.0, 605459.0, \"LA\"], [1990, 0.0, 1233223.0, 2.0, 616612.0, \"ME\"], [1990, 0.0, 4798622.0, 8.0, 599828.0, \"MD\"], [1990, -1.0, 6029051.0, 10.0, 602905.0, \"MA\"], [1990, -2.0, 9328784.0, 16.0, 583049.0, \"MI\"], [1990, 0.0, 4387029.0, 8.0, 548379.0, \"MN\"], [1990, 0.0, 2586443.0, 5.0, 517289.0, \"MS\"], [1990, 0.0, 5137804.0, 9.0, 570867.0, \"MO\"], [1990, -1.0, 803655.0, 1.0, 803655.0, \"MT\"], [1990, 0.0, 1584617.0, 3.0, 528206.0, \"NE\"], [1990, 0.0, 1206152.0, 2.0, 603076.0, \"NV\"], [1990, 0.0, 1113915.0, 2.0, 556958.0, \"NH\"], [1990, -1.0, 7748634.0, 13.0, 596049.0, \"NJ\"], [1990, 0.0, 1521779.0, 3.0, 507260.0, \"NM\"], [1990, -3.0, 18044505.0, 31.0, 582081.0, \"NY\"], [1990, 1.0, 6657630.0, 12.0, 554803.0, \"NC\"], [1990, 0.0, 641364.0, 1.0, 641364.0, \"ND\"], [1990, -2.0, 10887325.0, 19.0, 573017.0, \"OH\"], [1990, 0.0, 3157604.0, 6.0, 526267.0, \"OK\"], [1990, 0.0, 2853733.0, 5.0, 570747.0, \"OR\"], [1990, -2.0, 11924710.0, 21.0, 567843.0, \"PA\"], [1990, 0.0, 1005984.0, 2.0, 502992.0, \"RI\"], [1990, 0.0, 3505707.0, 6.0, 584285.0, \"SC\"], [1990, 0.0, 699999.0, 1.0, 699999.0, \"SD\"], [1990, 0.0, 4896641.0, 9.0, 544071.0, \"TN\"], [1990, 3.0, 17059805.0, 30.0, 568660.0, \"TX\"], [1990, 0.0, 1727784.0, 3.0, 575928.0, \"UT\"], [1990, 0.0, 564964.0, 1.0, 564964.0, \"VT\"], [1990, 1.0, 6216568.0, 11.0, 565143.0, \"VA\"], [1990, 1.0, 4887941.0, 9.0, 543105.0, \"WA\"], [1990, -1.0, 1801625.0, 3.0, 600542.0, \"WV\"], [1990, 0.0, 4906745.0, 9.0, 545194.0, \"WI\"], [1990, 0.0, 455975.0, 1.0, 455975.0, \"WY\"]], \"geo\": \"geo\", \"hovertemplate\": \"<b>%{hovertext}</b><br><br>Year=%{customdata[0]}<br>Seat change=%{z}<br>Apportionment population=%{customdata[2]}<br>Number of representatives=%{customdata[3]}<br>Average persons per representative=%{customdata[4]}<extra></extra>\", \"hovertext\": [\"Alabama\", \"Alaska\", \"Arizona\", \"Arkansas\", \"California\", \"Colorado\", \"Connecticut\", \"Delaware\", \"Florida\", \"Georgia\", \"Hawaii\", \"Idaho\", \"Illinois\", \"Indiana\", \"Iowa\", \"Kansas\", \"Kentucky\", \"Louisiana\", \"Maine\", \"Maryland\", \"Massachusetts\", \"Michigan\", \"Minnesota\", \"Mississippi\", \"Missouri\", \"Montana\", \"Nebraska\", \"Nevada\", \"New Hampshire\", \"New Jersey\", \"New Mexico\", \"New York\", \"North Carolina\", \"North Dakota\", \"Ohio\", \"Oklahoma\", \"Oregon\", \"Pennsylvania\", \"Rhode Island\", \"South Carolina\", \"South Dakota\", \"Tennessee\", \"Texas\", \"Utah\", \"Vermont\", \"Virginia\", \"Washington\", \"West Virginia\", \"Wisconsin\", \"Wyoming\"], \"locationmode\": \"USA-states\", \"locations\": [\"AL\", \"AK\", \"AZ\", \"AR\", \"CA\", \"CO\", \"CT\", \"DE\", \"FL\", \"GA\", \"HI\", \"ID\", \"IL\", \"IN\", \"IA\", \"KS\", \"KY\", \"LA\", \"ME\", \"MD\", \"MA\", \"MI\", \"MN\", \"MS\", \"MO\", \"MT\", \"NE\", \"NV\", \"NH\", \"NJ\", \"NM\", \"NY\", \"NC\", \"ND\", \"OH\", \"OK\", \"OR\", \"PA\", \"RI\", \"SC\", \"SD\", \"TN\", \"TX\", \"UT\", \"VT\", \"VA\", \"WA\", \"WV\", \"WI\", \"WY\"], \"name\": \"\", \"z\": [0.0, 0.0, 1.0, 0.0, 7.0, 0.0, 0.0, 0.0, 4.0, 1.0, 0.0, 0.0, -2.0, 0.0, -1.0, -1.0, -1.0, -1.0, 0.0, 0.0, -1.0, -2.0, 0.0, 0.0, 0.0, -1.0, 0.0, 0.0, 0.0, -1.0, 0.0, -3.0, 1.0, 0.0, -2.0, 0.0, 0.0, -2.0, 0.0, 0.0, 0.0, 0.0, 3.0, 0.0, 0.0, 1.0, 1.0, -1.0, 0.0, 0.0], \"type\": \"choropleth\"}], \"name\": \"1990\"}, {\"data\": [{\"coloraxis\": \"coloraxis\", \"customdata\": [[2000, 0.0, 4461130.0, 7.0, 637304.0, \"AL\"], [2000, 0.0, 628933.0, 1.0, 628933.0, \"AK\"], [2000, 2.0, 5140683.0, 8.0, 642585.0, \"AZ\"], [2000, 0.0, 2679733.0, 4.0, 669933.0, \"AR\"], [2000, 1.0, 33930798.0, 53.0, 640204.0, \"CA\"], [2000, 1.0, 4311882.0, 7.0, 615983.0, \"CO\"], [2000, -1.0, 3409535.0, 5.0, 681907.0, \"CT\"], [2000, 0.0, 785068.0, 1.0, 785068.0, \"DE\"], [2000, 2.0, 16028890.0, 25.0, 641156.0, \"FL\"], [2000, 2.0, 8206975.0, 13.0, 631306.0, \"GA\"], [2000, 0.0, 1216642.0, 2.0, 608321.0, \"HI\"], [2000, 0.0, 1297274.0, 2.0, 648637.0, \"ID\"], [2000, -1.0, 12439042.0, 19.0, 654686.0, \"IL\"], [2000, -1.0, 6090782.0, 9.0, 676754.0, \"IN\"], [2000, 0.0, 2931923.0, 5.0, 586385.0, \"IA\"], [2000, 0.0, 2693824.0, 4.0, 673456.0, \"KS\"], [2000, 0.0, 4049431.0, 6.0, 674905.0, \"KY\"], [2000, 0.0, 4480271.0, 7.0, 640039.0, \"LA\"], [2000, 0.0, 1277731.0, 2.0, 638866.0, \"ME\"], [2000, 0.0, 5307886.0, 8.0, 663486.0, \"MD\"], [2000, 0.0, 6355568.0, 10.0, 635557.0, \"MA\"], [2000, -1.0, 9955829.0, 15.0, 663722.0, \"MI\"], [2000, 0.0, 4925670.0, 8.0, 615709.0, \"MN\"], [2000, -1.0, 2852927.0, 4.0, 713232.0, \"MS\"], [2000, 0.0, 5606260.0, 9.0, 622918.0, \"MO\"], [2000, 0.0, 905316.0, 1.0, 905316.0, \"MT\"], [2000, 0.0, 1715369.0, 3.0, 571790.0, \"NE\"], [2000, 1.0, 2002032.0, 3.0, 667344.0, \"NV\"], [2000, 0.0, 1238415.0, 2.0, 619208.0, \"NH\"], [2000, 0.0, 8424354.0, 13.0, 648027.0, \"NJ\"], [2000, 0.0, 1823821.0, 3.0, 607940.0, \"NM\"], [2000, -2.0, 19004973.0, 29.0, 655344.0, \"NY\"], [2000, 1.0, 8067673.0, 13.0, 620590.0, \"NC\"], [2000, 0.0, 643756.0, 1.0, 643756.0, \"ND\"], [2000, -1.0, 11374540.0, 18.0, 631919.0, \"OH\"], [2000, -1.0, 3458819.0, 5.0, 691764.0, \"OK\"], [2000, 0.0, 3428543.0, 5.0, 685709.0, \"OR\"], [2000, -2.0, 12300670.0, 19.0, 647404.0, \"PA\"], [2000, 0.0, 1049662.0, 2.0, 524831.0, \"RI\"], [2000, 0.0, 4025061.0, 6.0, 670844.0, \"SC\"], [2000, 0.0, 756874.0, 1.0, 756874.0, \"SD\"], [2000, 0.0, 5700037.0, 9.0, 633337.0, \"TN\"], [2000, 2.0, 20903994.0, 32.0, 653250.0, \"TX\"], [2000, 0.0, 2236714.0, 3.0, 745571.0, \"UT\"], [2000, 0.0, 609890.0, 1.0, 609890.0, \"VT\"], [2000, 0.0, 7100702.0, 11.0, 645518.0, \"VA\"], [2000, 0.0, 5908684.0, 9.0, 656520.0, \"WA\"], [2000, 0.0, 1813077.0, 3.0, 604359.0, \"WV\"], [2000, -1.0, 5371210.0, 8.0, 671401.0, \"WI\"], [2000, 0.0, 495304.0, 1.0, 495304.0, \"WY\"]], \"geo\": \"geo\", \"hovertemplate\": \"<b>%{hovertext}</b><br><br>Year=%{customdata[0]}<br>Seat change=%{z}<br>Apportionment population=%{customdata[2]}<br>Number of representatives=%{customdata[3]}<br>Average persons per representative=%{customdata[4]}<extra></extra>\", \"hovertext\": [\"Alabama\", \"Alaska\", \"Arizona\", \"Arkansas\", \"California\", \"Colorado\", \"Connecticut\", \"Delaware\", \"Florida\", \"Georgia\", \"Hawaii\", \"Idaho\", \"Illinois\", \"Indiana\", \"Iowa\", \"Kansas\", \"Kentucky\", \"Louisiana\", \"Maine\", \"Maryland\", \"Massachusetts\", \"Michigan\", \"Minnesota\", \"Mississippi\", \"Missouri\", \"Montana\", \"Nebraska\", \"Nevada\", \"New Hampshire\", \"New Jersey\", \"New Mexico\", \"New York\", \"North Carolina\", \"North Dakota\", \"Ohio\", \"Oklahoma\", \"Oregon\", \"Pennsylvania\", \"Rhode Island\", \"South Carolina\", \"South Dakota\", \"Tennessee\", \"Texas\", \"Utah\", \"Vermont\", \"Virginia\", \"Washington\", \"West Virginia\", \"Wisconsin\", \"Wyoming\"], \"locationmode\": \"USA-states\", \"locations\": [\"AL\", \"AK\", \"AZ\", \"AR\", \"CA\", \"CO\", \"CT\", \"DE\", \"FL\", \"GA\", \"HI\", \"ID\", \"IL\", \"IN\", \"IA\", \"KS\", \"KY\", \"LA\", \"ME\", \"MD\", \"MA\", \"MI\", \"MN\", \"MS\", \"MO\", \"MT\", \"NE\", \"NV\", \"NH\", \"NJ\", \"NM\", \"NY\", \"NC\", \"ND\", \"OH\", \"OK\", \"OR\", \"PA\", \"RI\", \"SC\", \"SD\", \"TN\", \"TX\", \"UT\", \"VT\", \"VA\", \"WA\", \"WV\", \"WI\", \"WY\"], \"name\": \"\", \"z\": [0.0, 0.0, 2.0, 0.0, 1.0, 1.0, -1.0, 0.0, 2.0, 2.0, 0.0, 0.0, -1.0, -1.0, 0.0, 0.0, 0.0, 0.0, 0.0, 0.0, 0.0, -1.0, 0.0, -1.0, 0.0, 0.0, 0.0, 1.0, 0.0, 0.0, 0.0, -2.0, 1.0, 0.0, -1.0, -1.0, 0.0, -2.0, 0.0, 0.0, 0.0, 0.0, 2.0, 0.0, 0.0, 0.0, 0.0, 0.0, -1.0, 0.0], \"type\": \"choropleth\"}], \"name\": \"2000\"}, {\"data\": [{\"coloraxis\": \"coloraxis\", \"customdata\": [[2010, 0.0, 4802982.0, 7.0, 686140.0, \"AL\"], [2010, 0.0, 721523.0, 1.0, 721523.0, \"AK\"], [2010, 1.0, 6412700.0, 9.0, 712522.0, \"AZ\"], [2010, 0.0, 2926229.0, 4.0, 731557.0, \"AR\"], [2010, 0.0, 37341989.0, 53.0, 704566.0, \"CA\"], [2010, 0.0, 5044930.0, 7.0, 720704.0, \"CO\"], [2010, 0.0, 3581628.0, 5.0, 716326.0, \"CT\"], [2010, 0.0, 900877.0, 1.0, 900877.0, \"DE\"], [2010, 2.0, 18900773.0, 27.0, 700029.0, \"FL\"], [2010, 1.0, 9727566.0, 14.0, 694826.0, \"GA\"], [2010, 0.0, 1366862.0, 2.0, 683431.0, \"HI\"], [2010, 0.0, 1573499.0, 2.0, 786750.0, \"ID\"], [2010, -1.0, 12864380.0, 18.0, 714688.0, \"IL\"], [2010, 0.0, 6501582.0, 9.0, 722398.0, \"IN\"], [2010, -1.0, 3053787.0, 4.0, 763447.0, \"IA\"], [2010, 0.0, 2863813.0, 4.0, 715953.0, \"KS\"], [2010, 0.0, 4350606.0, 6.0, 725101.0, \"KY\"], [2010, -1.0, 4553962.0, 6.0, 758994.0, \"LA\"], [2010, 0.0, 1333074.0, 2.0, 666537.0, \"ME\"], [2010, 0.0, 5789929.0, 8.0, 723741.0, \"MD\"], [2010, -1.0, 6559644.0, 9.0, 728849.0, \"MA\"], [2010, -1.0, 9911626.0, 14.0, 707973.0, \"MI\"], [2010, 0.0, 5314879.0, 8.0, 664360.0, \"MN\"], [2010, 0.0, 2978240.0, 4.0, 744560.0, \"MS\"], [2010, -1.0, 6011478.0, 8.0, 751435.0, \"MO\"], [2010, 0.0, 994416.0, 1.0, 994416.0, \"MT\"], [2010, 0.0, 1831825.0, 3.0, 610608.0, \"NE\"], [2010, 1.0, 2709432.0, 4.0, 677358.0, \"NV\"], [2010, 0.0, 1321445.0, 2.0, 660723.0, \"NH\"], [2010, -1.0, 8807501.0, 12.0, 733958.0, \"NJ\"], [2010, 0.0, 2067273.0, 3.0, 689091.0, \"NM\"], [2010, -2.0, 19421055.0, 27.0, 719298.0, \"NY\"], [2010, 0.0, 9565781.0, 13.0, 735829.0, \"NC\"], [2010, 0.0, 675905.0, 1.0, 675905.0, \"ND\"], [2010, -2.0, 11568495.0, 16.0, 723031.0, \"OH\"], [2010, 0.0, 3764882.0, 5.0, 752976.0, \"OK\"], [2010, 0.0, 3848606.0, 5.0, 769721.0, \"OR\"], [2010, -1.0, 12734905.0, 18.0, 707495.0, \"PA\"], [2010, 0.0, 1055247.0, 2.0, 527624.0, \"RI\"], [2010, 1.0, 4645975.0, 7.0, 663711.0, \"SC\"], [2010, 0.0, 819761.0, 1.0, 819761.0, \"SD\"], [2010, 0.0, 6375431.0, 9.0, 708381.0, \"TN\"], [2010, 4.0, 25268418.0, 36.0, 701901.0, \"TX\"], [2010, 1.0, 2770765.0, 4.0, 692691.0, \"UT\"], [2010, 0.0, 630337.0, 1.0, 630337.0, \"VT\"], [2010, 0.0, 8037736.0, 11.0, 730703.0, \"VA\"], [2010, 1.0, 6753369.0, 10.0, 675337.0, \"WA\"], [2010, 0.0, 1859815.0, 3.0, 619938.0, \"WV\"], [2010, 0.0, 5698230.0, 8.0, 712279.0, \"WI\"], [2010, 0.0, 568300.0, 1.0, 568300.0, \"WY\"]], \"geo\": \"geo\", \"hovertemplate\": \"<b>%{hovertext}</b><br><br>Year=%{customdata[0]}<br>Seat change=%{z}<br>Apportionment population=%{customdata[2]}<br>Number of representatives=%{customdata[3]}<br>Average persons per representative=%{customdata[4]}<extra></extra>\", \"hovertext\": [\"Alabama\", \"Alaska\", \"Arizona\", \"Arkansas\", \"California\", \"Colorado\", \"Connecticut\", \"Delaware\", \"Florida\", \"Georgia\", \"Hawaii\", \"Idaho\", \"Illinois\", \"Indiana\", \"Iowa\", \"Kansas\", \"Kentucky\", \"Louisiana\", \"Maine\", \"Maryland\", \"Massachusetts\", \"Michigan\", \"Minnesota\", \"Mississippi\", \"Missouri\", \"Montana\", \"Nebraska\", \"Nevada\", \"New Hampshire\", \"New Jersey\", \"New Mexico\", \"New York\", \"North Carolina\", \"North Dakota\", \"Ohio\", \"Oklahoma\", \"Oregon\", \"Pennsylvania\", \"Rhode Island\", \"South Carolina\", \"South Dakota\", \"Tennessee\", \"Texas\", \"Utah\", \"Vermont\", \"Virginia\", \"Washington\", \"West Virginia\", \"Wisconsin\", \"Wyoming\"], \"locationmode\": \"USA-states\", \"locations\": [\"AL\", \"AK\", \"AZ\", \"AR\", \"CA\", \"CO\", \"CT\", \"DE\", \"FL\", \"GA\", \"HI\", \"ID\", \"IL\", \"IN\", \"IA\", \"KS\", \"KY\", \"LA\", \"ME\", \"MD\", \"MA\", \"MI\", \"MN\", \"MS\", \"MO\", \"MT\", \"NE\", \"NV\", \"NH\", \"NJ\", \"NM\", \"NY\", \"NC\", \"ND\", \"OH\", \"OK\", \"OR\", \"PA\", \"RI\", \"SC\", \"SD\", \"TN\", \"TX\", \"UT\", \"VT\", \"VA\", \"WA\", \"WV\", \"WI\", \"WY\"], \"name\": \"\", \"z\": [0.0, 0.0, 1.0, 0.0, 0.0, 0.0, 0.0, 0.0, 2.0, 1.0, 0.0, 0.0, -1.0, 0.0, -1.0, 0.0, 0.0, -1.0, 0.0, 0.0, -1.0, -1.0, 0.0, 0.0, -1.0, 0.0, 0.0, 1.0, 0.0, -1.0, 0.0, -2.0, 0.0, 0.0, -2.0, 0.0, 0.0, -1.0, 0.0, 1.0, 0.0, 0.0, 4.0, 1.0, 0.0, 0.0, 1.0, 0.0, 0.0, 0.0], \"type\": \"choropleth\"}], \"name\": \"2010\"}, {\"data\": [{\"coloraxis\": \"coloraxis\", \"customdata\": [[2020, 0.0, 5030053.0, 7.0, 718579.0, \"AL\"], [2020, 0.0, 736081.0, 1.0, 736081.0, \"AK\"], [2020, 0.0, 7158923.0, 9.0, 795436.0, \"AZ\"], [2020, 0.0, 3013756.0, 4.0, 753439.0, \"AR\"], [2020, -1.0, 39576757.0, 52.0, 761091.0, \"CA\"], [2020, 1.0, 5782171.0, 8.0, 722771.0, \"CO\"], [2020, 0.0, 3608298.0, 5.0, 721660.0, \"CT\"], [2020, 0.0, 990837.0, 1.0, 990837.0, \"DE\"], [2020, 1.0, 21570527.0, 28.0, 770376.0, \"FL\"], [2020, 0.0, 10725274.0, 14.0, 766091.0, \"GA\"], [2020, 0.0, 1460137.0, 2.0, 730069.0, \"HI\"], [2020, 0.0, 1841377.0, 2.0, 920689.0, \"ID\"], [2020, -1.0, 12822739.0, 17.0, 754279.0, \"IL\"], [2020, 0.0, 6790280.0, 9.0, 754476.0, \"IN\"], [2020, 0.0, 3192406.0, 4.0, 798102.0, \"IA\"], [2020, 0.0, 2940865.0, 4.0, 735216.0, \"KS\"], [2020, 0.0, 4509342.0, 6.0, 751557.0, \"KY\"], [2020, 0.0, 4661468.0, 6.0, 776911.0, \"LA\"], [2020, 0.0, 1363582.0, 2.0, 681791.0, \"ME\"], [2020, 0.0, 6185278.0, 8.0, 773160.0, \"MD\"], [2020, 0.0, 7033469.0, 9.0, 781497.0, \"MA\"], [2020, -1.0, 10084442.0, 13.0, 775726.0, \"MI\"], [2020, 0.0, 5709752.0, 8.0, 713719.0, \"MN\"], [2020, 0.0, 2963914.0, 4.0, 740979.0, \"MS\"], [2020, 0.0, 6160281.0, 8.0, 770035.0, \"MO\"], [2020, 1.0, 1085407.0, 2.0, 542704.0, \"MT\"], [2020, 0.0, 1963333.0, 3.0, 654444.0, \"NE\"], [2020, 0.0, 3108462.0, 4.0, 777116.0, \"NV\"], [2020, 0.0, 1379089.0, 2.0, 689545.0, \"NH\"], [2020, 0.0, 9294493.0, 12.0, 774541.0, \"NJ\"], [2020, 0.0, 2120220.0, 3.0, 706740.0, \"NM\"], [2020, -1.0, 20215751.0, 26.0, 777529.0, \"NY\"], [2020, 1.0, 10453948.0, 14.0, 746711.0, \"NC\"], [2020, 0.0, 779702.0, 1.0, 779702.0, \"ND\"], [2020, -1.0, 11808848.0, 15.0, 787257.0, \"OH\"], [2020, 0.0, 3963516.0, 5.0, 792703.0, \"OK\"], [2020, 1.0, 4241500.0, 6.0, 706917.0, \"OR\"], [2020, -1.0, 13011844.0, 17.0, 765403.0, \"PA\"], [2020, 0.0, 1098163.0, 2.0, 549082.0, \"RI\"], [2020, 0.0, 5124712.0, 7.0, 732102.0, \"SC\"], [2020, 0.0, 887770.0, 1.0, 887770.0, \"SD\"], [2020, 0.0, 6916897.0, 9.0, 768544.0, \"TN\"], [2020, 2.0, 29183290.0, 38.0, 767981.0, \"TX\"], [2020, 0.0, 3275252.0, 4.0, 818813.0, \"UT\"], [2020, 0.0, 643503.0, 1.0, 643503.0, \"VT\"], [2020, 0.0, 8654542.0, 11.0, 786777.0, \"VA\"], [2020, 0.0, 7715946.0, 10.0, 771595.0, \"WA\"], [2020, -1.0, 1795045.0, 2.0, 897523.0, \"WV\"], [2020, 0.0, 5897473.0, 8.0, 737184.0, \"WI\"], [2020, 0.0, 577719.0, 1.0, 577719.0, \"WY\"]], \"geo\": \"geo\", \"hovertemplate\": \"<b>%{hovertext}</b><br><br>Year=%{customdata[0]}<br>Seat change=%{z}<br>Apportionment population=%{customdata[2]}<br>Number of representatives=%{customdata[3]}<br>Average persons per representative=%{customdata[4]}<extra></extra>\", \"hovertext\": [\"Alabama\", \"Alaska\", \"Arizona\", \"Arkansas\", \"California\", \"Colorado\", \"Connecticut\", \"Delaware\", \"Florida\", \"Georgia\", \"Hawaii\", \"Idaho\", \"Illinois\", \"Indiana\", \"Iowa\", \"Kansas\", \"Kentucky\", \"Louisiana\", \"Maine\", \"Maryland\", \"Massachusetts\", \"Michigan\", \"Minnesota\", \"Mississippi\", \"Missouri\", \"Montana\", \"Nebraska\", \"Nevada\", \"New Hampshire\", \"New Jersey\", \"New Mexico\", \"New York\", \"North Carolina\", \"North Dakota\", \"Ohio\", \"Oklahoma\", \"Oregon\", \"Pennsylvania\", \"Rhode Island\", \"South Carolina\", \"South Dakota\", \"Tennessee\", \"Texas\", \"Utah\", \"Vermont\", \"Virginia\", \"Washington\", \"West Virginia\", \"Wisconsin\", \"Wyoming\"], \"locationmode\": \"USA-states\", \"locations\": [\"AL\", \"AK\", \"AZ\", \"AR\", \"CA\", \"CO\", \"CT\", \"DE\", \"FL\", \"GA\", \"HI\", \"ID\", \"IL\", \"IN\", \"IA\", \"KS\", \"KY\", \"LA\", \"ME\", \"MD\", \"MA\", \"MI\", \"MN\", \"MS\", \"MO\", \"MT\", \"NE\", \"NV\", \"NH\", \"NJ\", \"NM\", \"NY\", \"NC\", \"ND\", \"OH\", \"OK\", \"OR\", \"PA\", \"RI\", \"SC\", \"SD\", \"TN\", \"TX\", \"UT\", \"VT\", \"VA\", \"WA\", \"WV\", \"WI\", \"WY\"], \"name\": \"\", \"z\": [0.0, 0.0, 0.0, 0.0, -1.0, 1.0, 0.0, 0.0, 1.0, 0.0, 0.0, 0.0, -1.0, 0.0, 0.0, 0.0, 0.0, 0.0, 0.0, 0.0, 0.0, -1.0, 0.0, 0.0, 0.0, 1.0, 0.0, 0.0, 0.0, 0.0, 0.0, -1.0, 1.0, 0.0, -1.0, 0.0, 1.0, -1.0, 0.0, 0.0, 0.0, 0.0, 2.0, 0.0, 0.0, 0.0, 0.0, -1.0, 0.0, 0.0], \"type\": \"choropleth\"}], \"name\": \"2020\"}]);\n",
       "                        }).then(function(){\n",
       "                            \n",
       "var gd = document.getElementById('4abef6e9-180b-4ceb-8dd6-bf15e87644da');\n",
       "var x = new MutationObserver(function (mutations, observer) {{\n",
       "        var display = window.getComputedStyle(gd).display;\n",
       "        if (!display || display === 'none') {{\n",
       "            console.log([gd, 'removed!']);\n",
       "            Plotly.purge(gd);\n",
       "            observer.disconnect();\n",
       "        }}\n",
       "}});\n",
       "\n",
       "// Listen for the removal of the full notebook cells\n",
       "var notebookContainer = gd.closest('#notebook-container');\n",
       "if (notebookContainer) {{\n",
       "    x.observe(notebookContainer, {childList: true});\n",
       "}}\n",
       "\n",
       "// Listen for the clearing of the current output cell\n",
       "var outputEl = gd.closest('.output');\n",
       "if (outputEl) {{\n",
       "    x.observe(outputEl, {childList: true});\n",
       "}}\n",
       "\n",
       "                        })                };                });            </script>        </div>"
      ]
     },
     "metadata": {},
     "output_type": "display_data"
    }
   ],
   "source": [
    "#plot it as a choropleth map\n",
    "fig = px.choropleth(df_map,\n",
    "              locations = 'State_code',\n",
    "              color=\"Seat change\",\n",
    "              hover_name=\"State\", #column to add to hover information\n",
    "              hover_data={#determines what shows in hover text\n",
    "                  'Year':True, 'Seat change':True,'Apportionment population':True,\n",
    "       'Number of representatives':True, \n",
    "       'Average persons per representative':True, 'State_code':False\n",
    "              },\n",
    "              labels={#replaces default labels by column name\n",
    "              'Seat_change': 'Seat change'\n",
    "              },\n",
    "              animation_frame=\"Year\",\n",
    "              color_continuous_scale=\"Inferno\",\n",
    "              locationmode='USA-states',\n",
    "              scope=\"usa\",\n",
    "              range_color=(-5, 10),\n",
    "              title='Change in Number of Seats in U.S. House of Representatives by State: 1910 to 2020',\n",
    "              height=600\n",
    "             )\n",
    "# fig.add_annotation(#add text callout with arrow\n",
    "#     text=\"California saw significant increases in House seats over the first half of the 20th century, with massive early 1900s population growth including foreign immigrants, then more workers from other states following the Great Depression which lasted until the late 1930s, and again after World War II ended in 1945.\", 'State_code'='CA', arrowhead=1, showarrow=True\n",
    "# )\n",
    "fig"
   ]
  },
  {
   "cell_type": "code",
   "execution_count": null,
   "metadata": {},
   "outputs": [],
   "source": []
  }
 ],
 "metadata": {
  "kernelspec": {
   "display_name": "Python 3",
   "language": "python",
   "name": "python3"
  },
  "language_info": {
   "codemirror_mode": {
    "name": "ipython",
    "version": 3
   },
   "file_extension": ".py",
   "mimetype": "text/x-python",
   "name": "python",
   "nbconvert_exporter": "python",
   "pygments_lexer": "ipython3",
   "version": "3.8.3"
  }
 },
 "nbformat": 4,
 "nbformat_minor": 4
}
